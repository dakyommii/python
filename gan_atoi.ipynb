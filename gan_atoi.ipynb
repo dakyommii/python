{
  "nbformat": 4,
  "nbformat_minor": 0,
  "metadata": {
    "colab": {
      "name": "gan_atoi.ipynb",
      "provenance": [],
      "authorship_tag": "ABX9TyOgn0T3gzHHK7Xf2yh8SuHF",
      "include_colab_link": true
    },
    "kernelspec": {
      "name": "python3",
      "display_name": "Python 3"
    },
    "language_info": {
      "name": "python"
    },
    "accelerator": "GPU"
  },
  "cells": [
    {
      "cell_type": "markdown",
      "metadata": {
        "id": "view-in-github",
        "colab_type": "text"
      },
      "source": [
        "<a href=\"https://colab.research.google.com/github/dakyommii/study/blob/main/gan_atoi.ipynb\" target=\"_parent\"><img src=\"https://colab.research.google.com/assets/colab-badge.svg\" alt=\"Open In Colab\"/></a>"
      ]
    },
    {
      "cell_type": "code",
      "metadata": {
        "colab": {
          "base_uri": "https://localhost:8080/"
        },
        "id": "UDz3OqglMbCD",
        "outputId": "0a44e03a-88ea-400a-a1df-9196038a2994"
      },
      "source": [
        "from google.colab import drive\n",
        "drive.mount('/content/drive')"
      ],
      "execution_count": 34,
      "outputs": [
        {
          "output_type": "stream",
          "text": [
            "Drive already mounted at /content/drive; to attempt to forcibly remount, call drive.mount(\"/content/drive\", force_remount=True).\n"
          ],
          "name": "stdout"
        }
      ]
    },
    {
      "cell_type": "code",
      "metadata": {
        "id": "8DkHJh3JRwMY"
      },
      "source": [
        "# import random\n",
        "import os\n",
        "from os import listdir\n",
        "from os.path import isfile, join\n",
        "import PIL\n",
        "from PIL import Image\n",
        "from glob import glob\n",
        "\n",
        "import IPython.display as display\n",
        "\n",
        "import numpy as np\n",
        "import tensorflow as tf\n",
        "from tensorflow.keras import layers\n",
        "from keras.preprocessing.image import ImageDataGenerator, array_to_img, img_to_array, load_img"
      ],
      "execution_count": 52,
      "outputs": []
    },
    {
      "cell_type": "code",
      "metadata": {
        "id": "eTxuKPVHS3Sm"
      },
      "source": [
        "DATA_PATH = \"/content/drive/My Drive/atoi_gan_fin\" "
      ],
      "execution_count": 53,
      "outputs": []
    },
    {
      "cell_type": "code",
      "metadata": {
        "id": "frIYtSTcSMFZ"
      },
      "source": [
        "MODEL_SAVE_PATH = os.path.join(\"/content/drive/My Drive/results\")"
      ],
      "execution_count": 65,
      "outputs": []
    },
    {
      "cell_type": "code",
      "metadata": {
        "id": "mjamz3wj5F3a"
      },
      "source": [
        "np.random.seed(3)"
      ],
      "execution_count": 55,
      "outputs": []
    },
    {
      "cell_type": "code",
      "metadata": {
        "id": "s2cxg4ygNGqd"
      },
      "source": [
        "#from keras.preprocessing.image import ImageDataGenerator\n",
        "train_datagen = ImageDataGenerator(rescale = 1./255)\n",
        "train_datagen = ImageDataGenerator(rescale = 1./255,\n",
        "                                   rotation_range = 0.2,\n",
        "                                   brightness_range = (0.2, 0.8),\n",
        "                                   shear_range = 0.2,\n",
        "                                   zoom_range = 0.2,\n",
        "                                   horizontal_flip = True,\n",
        "                                   vertical_flip = True,\n",
        "                                   fill_mode='nearest'\n",
        "                                   )\n",
        "\n",
        "# test_datagen = ImageDataGenerator(rescale = 1./255)\n",
        "# training_set = train_datagen.flow_from_directory('/content/drive/My Drive/gan_atoi_fin',\n",
        "#                                                  target_size = (64,64),\n",
        "#                                                  batch_size = 32,\n",
        "#                                                  class_mode = 'binary')\n",
        "\n",
        "# classifier.fit_generator(training_set, steps_per_epoch=800,\n",
        "#                          epochs=25,\n",
        "#                          validation_steps = 125)"
      ],
      "execution_count": 56,
      "outputs": []
    },
    {
      "cell_type": "code",
      "metadata": {
        "id": "4YotedaJ6KPX"
      },
      "source": [
        "file_name_in_dir = []\n",
        "\n",
        "for root,dirs,files in os.walk(DATA_PATH):\n",
        "  for fname in files:\n",
        "    full_fname=os.path.join(root,fname)\n",
        "    file_name_in_dir.append(full_fname)\n",
        "\n",
        "for file_image in file_name_in_dir:\n",
        "      #print(file_image)\n",
        "  img = load_img(file_image)\n",
        "  x=img_to_array(img)\n",
        "  x=x.reshape((1,)+x.shape)\n",
        "\n",
        "  i=0\n",
        "  for batch in train_datagen.flow(x,save_to_dir=MODEL_SAVE_PATH,save_prefix='characters', save_format='png'):\n",
        "    i+=1\n",
        "    if i>5:\n",
        "      break"
      ],
      "execution_count": 70,
      "outputs": []
    },
    {
      "cell_type": "code",
      "metadata": {
        "id": "6NbYQrc5iX4U"
      },
      "source": [
        "# np.random.seed(1)\n",
        "# tf.random.set_seed(1)\n",
        "\n",
        "# learning_rate = 0.001\n",
        "# dropout_rate=0.5\n",
        "# epochs=50\n",
        "# batch=20\n",
        "\n",
        "# def create_model():\n",
        "#   model=keras.Sequential()\n",
        "\n",
        "#   model.add(layers.Conv2D(64,kernel_size=3,padding=\"SAME\",activation='relu', input_shape=(150,150,3)))\n",
        "#   model.add(layers.MaxPool2D(padding='SAME'))\n",
        "\n",
        "#   model.add(layers.Conv2D(64,kernel_size=3,padding=\"SAME\",activation='relu'))\n",
        "#   model.add(layers.MaxPool2D(padding='SAME'))\n",
        "\n",
        "#   model.add(layers.Conv2D(128,kernel_size=3,padding=\"SAME\",activation='relu'))\n",
        "#   model.add(layers.MaxPool2D(padding='SAME'))\n",
        "\n",
        "#   model.add(layers.Flatten())\n",
        "#   model.add(layers.Dropout(dropout_rate))\n",
        "#   model.add(layers.Dense(512,activation='relu'))\n",
        "\n",
        "#   model.add(layers.Dense(1,activation='sigmoid'))\n",
        "\n",
        "#   return model"
      ],
      "execution_count": 38,
      "outputs": []
    },
    {
      "cell_type": "code",
      "metadata": {
        "id": "4tvlMqihjof0"
      },
      "source": [
        "# batch_size = 32\n",
        "# img_height = 256\n",
        "# img_width = 256"
      ],
      "execution_count": null,
      "outputs": []
    },
    {
      "cell_type": "code",
      "metadata": {
        "id": "PDIhOQG1pIoU"
      },
      "source": [
        "# img_path = list(glob(str(DATA_PATH + '/*.png')))\n",
        "\n",
        "# len(img_path)\n",
        "\n",
        "# (x_train, y_train), (x_test,y_test) = img_path[:10], img_path[10:]\n",
        "\n",
        "# # for image_path in img_path[: ]:\n",
        "# #   display.display(Image.open(str(image_path)))"
      ],
      "execution_count": 71,
      "outputs": []
    }
  ]
}