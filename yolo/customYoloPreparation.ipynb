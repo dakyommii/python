{
  "nbformat": 4,
  "nbformat_minor": 0,
  "metadata": {
    "colab": {
      "name": "customYoloPreparation.ipynb",
      "provenance": [],
      "collapsed_sections": [],
      "include_colab_link": true
    },
    "kernelspec": {
      "name": "python3",
      "display_name": "Python 3"
    }
  },
  "cells": [
    {
      "cell_type": "markdown",
      "metadata": {
        "id": "view-in-github",
        "colab_type": "text"
      },
      "source": [
        "<a href=\"https://colab.research.google.com/github/dakyommii/study/blob/main/yolo/customYoloPreparation.ipynb\" target=\"_parent\"><img src=\"https://colab.research.google.com/assets/colab-badge.svg\" alt=\"Open In Colab\"/></a>"
      ]
    },
    {
      "cell_type": "markdown",
      "metadata": {
        "id": "89FHfP8h-RY2"
      },
      "source": [
        "#1. Mount Drive"
      ]
    },
    {
      "cell_type": "code",
      "metadata": {
        "colab": {
          "base_uri": "https://localhost:8080/"
        },
        "id": "fD5iix1NK0dt",
        "outputId": "1ac85730-ddfe-4eff-bcad-1b57fd64d245"
      },
      "source": [
        "from google.colab import drive\n",
        "drive.mount('/content/drive')"
      ],
      "execution_count": 3,
      "outputs": [
        {
          "output_type": "stream",
          "name": "stdout",
          "text": [
            "Mounted at /content/drive\n"
          ]
        }
      ]
    },
    {
      "cell_type": "code",
      "metadata": {
        "colab": {
          "base_uri": "https://localhost:8080/"
        },
        "id": "2uizKEbU-kuE",
        "outputId": "78ea3285-cbff-4317-c756-cc6fa3630339"
      },
      "source": [
        "!ls -al '/content/drive/MyDrive/darknet/custom'"
      ],
      "execution_count": 5,
      "outputs": [
        {
          "output_type": "stream",
          "name": "stdout",
          "text": [
            "total 28059\n",
            "-rw------- 1 root root      15 Jun 18 02:54 classes.txt\n",
            "-rw------- 1 root root    8328 Jun 18 02:54 custom-train-yolo.cfg\n",
            "-rw------- 1 root root 2919914 Jun 18 02:54 fruit01.jpg\n",
            "-rw------- 1 root root      38 Jun 18 02:54 fruit01.txt\n",
            "-rw------- 1 root root 2974631 Jun 18 02:54 fruit02.jpg\n",
            "-rw------- 1 root root      76 Jun 18 02:54 fruit02.txt\n",
            "-rw------- 1 root root 2846652 Jun 18 02:54 fruit03.jpg\n",
            "-rw------- 1 root root      76 Jun 18 02:54 fruit03.txt\n",
            "-rw------- 1 root root 3223798 Jun 18 02:54 fruit04.jpg\n",
            "-rw------- 1 root root      38 Jun 18 02:54 fruit04.txt\n",
            "-rw------- 1 root root 2471492 Jun 18 02:54 fruit05.jpg\n",
            "-rw------- 1 root root      38 Jun 18 02:54 fruit05.txt\n",
            "-rw------- 1 root root 2945112 Jun 18 02:54 fruit06.jpg\n",
            "-rw------- 1 root root      76 Jun 18 02:54 fruit06.txt\n",
            "-rw------- 1 root root 2963363 Jun 18 02:54 fruit07.jpg\n",
            "-rw------- 1 root root     114 Jun 18 02:54 fruit07.txt\n",
            "-rw------- 1 root root 2863347 Jun 18 02:54 fruit08.jpg\n",
            "-rw------- 1 root root      76 Jun 18 02:54 fruit08.txt\n",
            "-rw------- 1 root root 2836494 Jun 18 02:54 fruit09.jpg\n",
            "-rw------- 1 root root     114 Jun 18 02:54 fruit09.txt\n",
            "-rw------- 1 root root 2670159 Jun 18 02:54 fruit10.jpg\n",
            "-rw------- 1 root root     114 Jun 18 02:54 fruit10.txt\n"
          ]
        }
      ]
    },
    {
      "cell_type": "markdown",
      "metadata": {
        "id": "B8ygpNqTC3iH"
      },
      "source": [
        "#2. Generate FIles\n"
      ]
    },
    {
      "cell_type": "markdown",
      "metadata": {
        "id": "DmgKMdpgLWh-"
      },
      "source": [
        "현재위치확인"
      ]
    },
    {
      "cell_type": "code",
      "metadata": {
        "colab": {
          "base_uri": "https://localhost:8080/"
        },
        "id": "DpZYli_Y-zd-",
        "outputId": "b161545d-de0b-4294-a1c1-bc3e7b0638d8"
      },
      "source": [
        "import os\n",
        "print(os.path.abspath(os.curdir))"
      ],
      "execution_count": 6,
      "outputs": [
        {
          "output_type": "stream",
          "name": "stdout",
          "text": [
            "/content\n"
          ]
        }
      ]
    },
    {
      "cell_type": "code",
      "metadata": {
        "id": "a9gQNmSy_Ald"
      },
      "source": [
        "COLAB_DARKNET_PATH = '/content/drive/MyDrive/darknet'\n",
        "\n",
        "DATA_PATH = '/custom'\n",
        "YOLO_IMAGE_PATH = COLAB_DARKNET_PATH + DATA_PATH\n",
        "YOLO_FORMAT_PATH = COLAB_DARKNET_PATH + DATA_PATH"
      ],
      "execution_count": 7,
      "outputs": []
    },
    {
      "cell_type": "code",
      "metadata": {
        "id": "AihLgHFX_Hyf"
      },
      "source": [
        "class_count = 0\n",
        "test_percentage = 0.2\n",
        "paths = []"
      ],
      "execution_count": 8,
      "outputs": []
    },
    {
      "cell_type": "markdown",
      "metadata": {
        "id": "Bbd-hjTIMHok"
      },
      "source": [
        "\n",
        "\n",
        "```classes.names``` 파일 생성\n",
        "\n"
      ]
    },
    {
      "cell_type": "code",
      "metadata": {
        "colab": {
          "base_uri": "https://localhost:8080/"
        },
        "id": "liFAf_f1_TMN",
        "outputId": "b96e4a90-06e0-458c-ff5c-ce41de57c776"
      },
      "source": [
        "with open(YOLO_FORMAT_PATH + '/' + 'classes.names', 'w') as names, \\\n",
        "    open(YOLO_FORMAT_PATH + '/' + 'classes.txt', 'r') as txt:\n",
        "    for line in txt:\n",
        "        names.write(line)\n",
        "        class_count += 1\n",
        "    print('[classes.names] is created')"
      ],
      "execution_count": 9,
      "outputs": [
        {
          "output_type": "stream",
          "name": "stdout",
          "text": [
            "[classes.names] is created\n"
          ]
        }
      ]
    },
    {
      "cell_type": "markdown",
      "metadata": {
        "id": "yBgBxo2SMbje"
      },
      "source": [
        "\n",
        "\n",
        "```custom_data.data``` 파일 생성\n",
        "\n"
      ]
    },
    {
      "cell_type": "code",
      "metadata": {
        "colab": {
          "base_uri": "https://localhost:8080/"
        },
        "id": "nGjXHUxlAJxe",
        "outputId": "44f1a556-0958-4db8-d6c2-7b4506ec3ad9"
      },
      "source": [
        "with open(YOLO_FORMAT_PATH + '/' + 'custom_data.data', 'w') as data:\n",
        "    data.write('classes = ' + str(class_count) + '\\n')\n",
        "    data.write('train = ' + YOLO_FORMAT_PATH + '/' + 'train.txt' + '\\n')\n",
        "    data.write('valid = ' + YOLO_FORMAT_PATH + '/' + 'test.txt' + '\\n')\n",
        "    data.write('names = ' + YOLO_FORMAT_PATH + '/' + 'classes.names' + '\\n')\n",
        "    data.write('backup = backup')\n",
        "    print('[custom_data.data] is created')"
      ],
      "execution_count": 10,
      "outputs": [
        {
          "output_type": "stream",
          "name": "stdout",
          "text": [
            "[custom_data.data] is created\n"
          ]
        }
      ]
    },
    {
      "cell_type": "code",
      "metadata": {
        "colab": {
          "base_uri": "https://localhost:8080/"
        },
        "id": "vuNEpPHADbcd",
        "outputId": "48de4914-f21d-4700-f7fc-3ac10460162b"
      },
      "source": [
        "os.chdir(YOLO_IMAGE_PATH)\n",
        "current_path = os.path.abspath(os.curdir)\n",
        "print(current_path)"
      ],
      "execution_count": null,
      "outputs": [
        {
          "output_type": "stream",
          "text": [
            "/gdrive/MyDrive/darknet/custom\n"
          ],
          "name": "stdout"
        }
      ]
    },
    {
      "cell_type": "code",
      "metadata": {
        "colab": {
          "base_uri": "https://localhost:8080/"
        },
        "id": "NNnR5VIRDzNy",
        "outputId": "6e6ea342-629b-4757-eb47-2cbdb2817f33"
      },
      "source": [
        "!ls -al"
      ],
      "execution_count": null,
      "outputs": [
        {
          "output_type": "stream",
          "text": [
            "total 28060\n",
            "-rw------- 1 root root      15 Mar 18 15:41 classes.names\n",
            "-rw------- 1 root root      15 Mar 18 04:41 classes.txt\n",
            "-rw------- 1 root root     177 Mar 18 15:46 custom_data.data\n",
            "-rw------- 1 root root    8328 Mar 18 15:03 custom-train-yolo.cfg\n",
            "-rw------- 1 root root 2919914 Apr 18  2020 fruit01.jpg\n",
            "-rw------- 1 root root      38 Mar 18 04:30 fruit01.txt\n",
            "-rw------- 1 root root 2974631 Apr 18  2020 fruit02.jpg\n",
            "-rw------- 1 root root      76 Mar 18 04:30 fruit02.txt\n",
            "-rw------- 1 root root 2846652 Apr 18  2020 fruit03.jpg\n",
            "-rw------- 1 root root      76 Apr 21  2020 fruit03.txt\n",
            "-rw------- 1 root root 3223798 Apr 18  2020 fruit04.jpg\n",
            "-rw------- 1 root root      38 Apr 21  2020 fruit04.txt\n",
            "-rw------- 1 root root 2471492 Apr 18  2020 fruit05.jpg\n",
            "-rw------- 1 root root      38 Apr 21  2020 fruit05.txt\n",
            "-rw------- 1 root root 2945112 Apr 18  2020 fruit06.jpg\n",
            "-rw------- 1 root root      76 Apr 21  2020 fruit06.txt\n",
            "-rw------- 1 root root 2963363 Apr 18  2020 fruit07.jpg\n",
            "-rw------- 1 root root     114 Apr 21  2020 fruit07.txt\n",
            "-rw------- 1 root root 2863347 Apr 18  2020 fruit08.jpg\n",
            "-rw------- 1 root root      76 Apr 21  2020 fruit08.txt\n",
            "-rw------- 1 root root 2836494 Apr 18  2020 fruit09.jpg\n",
            "-rw------- 1 root root     114 Apr 21  2020 fruit09.txt\n",
            "-rw------- 1 root root 2670159 Apr 18  2020 fruit10.jpg\n",
            "-rw------- 1 root root     114 Apr 21  2020 fruit10.txt\n"
          ],
          "name": "stdout"
        }
      ]
    },
    {
      "cell_type": "code",
      "metadata": {
        "id": "_jmarCVDD3eJ"
      },
      "source": [
        "for current_dir, dirs, files in os.walk('.'):\n",
        "    #print(current_dir, dirs, files)\n",
        "    for f in files:\n",
        "        if f.endswith('.jpg'):\n",
        "            #print(f)\n",
        "            image_path = YOLO_IMAGE_PATH +'/' + f\n",
        "            #print(image_path)\n",
        "            paths.append(image_path + '\\n')"
      ],
      "execution_count": null,
      "outputs": []
    },
    {
      "cell_type": "code",
      "metadata": {
        "colab": {
          "base_uri": "https://localhost:8080/"
        },
        "id": "6XKEsUA1FQvn",
        "outputId": "bd8231d6-e7aa-41bc-bc5a-f9f8af0acf6c"
      },
      "source": [
        "paths"
      ],
      "execution_count": null,
      "outputs": [
        {
          "output_type": "execute_result",
          "data": {
            "text/plain": [
              "['/gdrive/MyDrive/darknet/custom/fruit01.jpg\\n',\n",
              " '/gdrive/MyDrive/darknet/custom/fruit02.jpg\\n',\n",
              " '/gdrive/MyDrive/darknet/custom/fruit03.jpg\\n',\n",
              " '/gdrive/MyDrive/darknet/custom/fruit04.jpg\\n',\n",
              " '/gdrive/MyDrive/darknet/custom/fruit05.jpg\\n',\n",
              " '/gdrive/MyDrive/darknet/custom/fruit06.jpg\\n',\n",
              " '/gdrive/MyDrive/darknet/custom/fruit07.jpg\\n',\n",
              " '/gdrive/MyDrive/darknet/custom/fruit08.jpg\\n',\n",
              " '/gdrive/MyDrive/darknet/custom/fruit09.jpg\\n',\n",
              " '/gdrive/MyDrive/darknet/custom/fruit10.jpg\\n']"
            ]
          },
          "metadata": {
            "tags": []
          },
          "execution_count": 17
        }
      ]
    },
    {
      "cell_type": "code",
      "metadata": {
        "colab": {
          "base_uri": "https://localhost:8080/"
        },
        "id": "ZIiLNNiKFVIk",
        "outputId": "4035a9e0-7b45-49c6-a974-66b0b37d2a9d"
      },
      "source": [
        "num_test = int(len(paths) * test_percentage)\n",
        "print(num_test)"
      ],
      "execution_count": null,
      "outputs": [
        {
          "output_type": "stream",
          "text": [
            "2\n"
          ],
          "name": "stdout"
        }
      ]
    },
    {
      "cell_type": "code",
      "metadata": {
        "id": "Wb0RI-ObFljQ"
      },
      "source": [
        "paths_test = paths[:num_test]\n",
        "paths_train = paths[num_test:]"
      ],
      "execution_count": null,
      "outputs": []
    },
    {
      "cell_type": "code",
      "metadata": {
        "colab": {
          "base_uri": "https://localhost:8080/"
        },
        "id": "NXMelAXLFxh7",
        "outputId": "cdd26657-8f74-4b98-ea9e-8bb92dbb5e36"
      },
      "source": [
        "with open(YOLO_FORMAT_PATH + '/' + 'train.txt', 'w') as train_txt:\n",
        "    for path in paths_train:\n",
        "        train_txt.write(path)\n",
        "    print('[train.txt] is created')"
      ],
      "execution_count": null,
      "outputs": [
        {
          "output_type": "stream",
          "text": [
            "[train.txt] is created\n"
          ],
          "name": "stdout"
        }
      ]
    },
    {
      "cell_type": "code",
      "metadata": {
        "colab": {
          "base_uri": "https://localhost:8080/"
        },
        "id": "8OUm7Vz8GUZS",
        "outputId": "a0877627-ce9e-429e-9410-2854e5b77188"
      },
      "source": [
        "with open(YOLO_FORMAT_PATH + '/' + 'test.txt', 'w') as test_txt:\n",
        "    for path in paths_test:\n",
        "        test_txt.write(path)\n",
        "    print('[test.txt] is created')"
      ],
      "execution_count": null,
      "outputs": [
        {
          "output_type": "stream",
          "text": [
            "[test.txt] is created\n"
          ],
          "name": "stdout"
        }
      ]
    },
    {
      "cell_type": "code",
      "metadata": {
        "colab": {
          "base_uri": "https://localhost:8080/"
        },
        "id": "XzCz0DuPHIJe",
        "outputId": "cff422f9-1f79-44bb-ddb3-5f98305db20d"
      },
      "source": [
        "!/usr/local/cuda/bin/nvcc --version"
      ],
      "execution_count": null,
      "outputs": [
        {
          "output_type": "stream",
          "text": [
            "nvcc: NVIDIA (R) Cuda compiler driver\n",
            "Copyright (c) 2005-2020 NVIDIA Corporation\n",
            "Built on Wed_Jul_22_19:09:09_PDT_2020\n",
            "Cuda compilation tools, release 11.0, V11.0.221\n",
            "Build cuda_11.0_bu.TC445_37.28845127_0\n"
          ],
          "name": "stdout"
        }
      ]
    },
    {
      "cell_type": "code",
      "metadata": {
        "colab": {
          "base_uri": "https://localhost:8080/",
          "height": 35
        },
        "id": "3WxXd6LiIG8v",
        "outputId": "da60ef7b-69d2-43cb-a032-cfce2bd33354"
      },
      "source": [
        "import platform\n",
        "platform.platform()"
      ],
      "execution_count": null,
      "outputs": [
        {
          "output_type": "execute_result",
          "data": {
            "application/vnd.google.colaboratory.intrinsic+json": {
              "type": "string"
            },
            "text/plain": [
              "'Linux-4.19.112+-x86_64-with-Ubuntu-18.04-bionic'"
            ]
          },
          "metadata": {
            "tags": []
          },
          "execution_count": 23
        }
      ]
    }
  ]
}