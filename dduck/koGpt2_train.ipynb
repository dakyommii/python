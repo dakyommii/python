{
  "nbformat": 4,
  "nbformat_minor": 0,
  "metadata": {
    "colab": {
      "name": "koGpt2-train.ipynb",
      "provenance": [],
      "mount_file_id": "1VjyEd0WoQndPs_ZTRSru0dJ-ahUIyxP7",
      "authorship_tag": "ABX9TyPa6vt8jjQqn71dPrD7gBrO",
      "include_colab_link": true
    },
    "kernelspec": {
      "name": "python3",
      "display_name": "Python 3"
    },
    "language_info": {
      "name": "python"
    },
    "accelerator": "GPU",
    "widgets": {
      "application/vnd.jupyter.widget-state+json": {
        "fba80aca0f66418cba5b61fd08d662e5": {
          "model_module": "@jupyter-widgets/controls",
          "model_name": "HBoxModel",
          "model_module_version": "1.5.0",
          "state": {
            "_dom_classes": [],
            "_model_module": "@jupyter-widgets/controls",
            "_model_module_version": "1.5.0",
            "_model_name": "HBoxModel",
            "_view_count": null,
            "_view_module": "@jupyter-widgets/controls",
            "_view_module_version": "1.5.0",
            "_view_name": "HBoxView",
            "box_style": "",
            "children": [
              "IPY_MODEL_a3c061c002e84622b4849e05c6f6b0e3",
              "IPY_MODEL_b47cad15871e49b4bfe2b79378cb5221",
              "IPY_MODEL_4b962961bfcf462e90d97a3ebff7bc42"
            ],
            "layout": "IPY_MODEL_a0263aa6dd384737af8aeb081ad39b3c"
          }
        },
        "a3c061c002e84622b4849e05c6f6b0e3": {
          "model_module": "@jupyter-widgets/controls",
          "model_name": "HTMLModel",
          "model_module_version": "1.5.0",
          "state": {
            "_dom_classes": [],
            "_model_module": "@jupyter-widgets/controls",
            "_model_module_version": "1.5.0",
            "_model_name": "HTMLModel",
            "_view_count": null,
            "_view_module": "@jupyter-widgets/controls",
            "_view_module_version": "1.5.0",
            "_view_name": "HTMLView",
            "description": "",
            "description_tooltip": null,
            "layout": "IPY_MODEL_4b70cc431f18457b909e478258e90eba",
            "placeholder": "​",
            "style": "IPY_MODEL_754825bbb82e41039789add16241ad44",
            "value": "Downloading: 100%"
          }
        },
        "b47cad15871e49b4bfe2b79378cb5221": {
          "model_module": "@jupyter-widgets/controls",
          "model_name": "FloatProgressModel",
          "model_module_version": "1.5.0",
          "state": {
            "_dom_classes": [],
            "_model_module": "@jupyter-widgets/controls",
            "_model_module_version": "1.5.0",
            "_model_name": "FloatProgressModel",
            "_view_count": null,
            "_view_module": "@jupyter-widgets/controls",
            "_view_module_version": "1.5.0",
            "_view_name": "ProgressView",
            "bar_style": "success",
            "description": "",
            "description_tooltip": null,
            "layout": "IPY_MODEL_fdce2e64e7df452ea5b9cc75912ebaeb",
            "max": 2825034,
            "min": 0,
            "orientation": "horizontal",
            "style": "IPY_MODEL_57b966dfe79d42868034b00e9c304cfd",
            "value": 2825034
          }
        },
        "4b962961bfcf462e90d97a3ebff7bc42": {
          "model_module": "@jupyter-widgets/controls",
          "model_name": "HTMLModel",
          "model_module_version": "1.5.0",
          "state": {
            "_dom_classes": [],
            "_model_module": "@jupyter-widgets/controls",
            "_model_module_version": "1.5.0",
            "_model_name": "HTMLModel",
            "_view_count": null,
            "_view_module": "@jupyter-widgets/controls",
            "_view_module_version": "1.5.0",
            "_view_name": "HTMLView",
            "description": "",
            "description_tooltip": null,
            "layout": "IPY_MODEL_71ca3a28ed254afa9c0e376bbb49701d",
            "placeholder": "​",
            "style": "IPY_MODEL_8b19404dce8f4f228307b6c80ce7ba6a",
            "value": " 2.69M/2.69M [00:00&lt;00:00, 5.61MB/s]"
          }
        },
        "a0263aa6dd384737af8aeb081ad39b3c": {
          "model_module": "@jupyter-widgets/base",
          "model_name": "LayoutModel",
          "model_module_version": "1.2.0",
          "state": {
            "_model_module": "@jupyter-widgets/base",
            "_model_module_version": "1.2.0",
            "_model_name": "LayoutModel",
            "_view_count": null,
            "_view_module": "@jupyter-widgets/base",
            "_view_module_version": "1.2.0",
            "_view_name": "LayoutView",
            "align_content": null,
            "align_items": null,
            "align_self": null,
            "border": null,
            "bottom": null,
            "display": null,
            "flex": null,
            "flex_flow": null,
            "grid_area": null,
            "grid_auto_columns": null,
            "grid_auto_flow": null,
            "grid_auto_rows": null,
            "grid_column": null,
            "grid_gap": null,
            "grid_row": null,
            "grid_template_areas": null,
            "grid_template_columns": null,
            "grid_template_rows": null,
            "height": null,
            "justify_content": null,
            "justify_items": null,
            "left": null,
            "margin": null,
            "max_height": null,
            "max_width": null,
            "min_height": null,
            "min_width": null,
            "object_fit": null,
            "object_position": null,
            "order": null,
            "overflow": null,
            "overflow_x": null,
            "overflow_y": null,
            "padding": null,
            "right": null,
            "top": null,
            "visibility": null,
            "width": null
          }
        },
        "4b70cc431f18457b909e478258e90eba": {
          "model_module": "@jupyter-widgets/base",
          "model_name": "LayoutModel",
          "model_module_version": "1.2.0",
          "state": {
            "_model_module": "@jupyter-widgets/base",
            "_model_module_version": "1.2.0",
            "_model_name": "LayoutModel",
            "_view_count": null,
            "_view_module": "@jupyter-widgets/base",
            "_view_module_version": "1.2.0",
            "_view_name": "LayoutView",
            "align_content": null,
            "align_items": null,
            "align_self": null,
            "border": null,
            "bottom": null,
            "display": null,
            "flex": null,
            "flex_flow": null,
            "grid_area": null,
            "grid_auto_columns": null,
            "grid_auto_flow": null,
            "grid_auto_rows": null,
            "grid_column": null,
            "grid_gap": null,
            "grid_row": null,
            "grid_template_areas": null,
            "grid_template_columns": null,
            "grid_template_rows": null,
            "height": null,
            "justify_content": null,
            "justify_items": null,
            "left": null,
            "margin": null,
            "max_height": null,
            "max_width": null,
            "min_height": null,
            "min_width": null,
            "object_fit": null,
            "object_position": null,
            "order": null,
            "overflow": null,
            "overflow_x": null,
            "overflow_y": null,
            "padding": null,
            "right": null,
            "top": null,
            "visibility": null,
            "width": null
          }
        },
        "754825bbb82e41039789add16241ad44": {
          "model_module": "@jupyter-widgets/controls",
          "model_name": "DescriptionStyleModel",
          "model_module_version": "1.5.0",
          "state": {
            "_model_module": "@jupyter-widgets/controls",
            "_model_module_version": "1.5.0",
            "_model_name": "DescriptionStyleModel",
            "_view_count": null,
            "_view_module": "@jupyter-widgets/base",
            "_view_module_version": "1.2.0",
            "_view_name": "StyleView",
            "description_width": ""
          }
        },
        "fdce2e64e7df452ea5b9cc75912ebaeb": {
          "model_module": "@jupyter-widgets/base",
          "model_name": "LayoutModel",
          "model_module_version": "1.2.0",
          "state": {
            "_model_module": "@jupyter-widgets/base",
            "_model_module_version": "1.2.0",
            "_model_name": "LayoutModel",
            "_view_count": null,
            "_view_module": "@jupyter-widgets/base",
            "_view_module_version": "1.2.0",
            "_view_name": "LayoutView",
            "align_content": null,
            "align_items": null,
            "align_self": null,
            "border": null,
            "bottom": null,
            "display": null,
            "flex": null,
            "flex_flow": null,
            "grid_area": null,
            "grid_auto_columns": null,
            "grid_auto_flow": null,
            "grid_auto_rows": null,
            "grid_column": null,
            "grid_gap": null,
            "grid_row": null,
            "grid_template_areas": null,
            "grid_template_columns": null,
            "grid_template_rows": null,
            "height": null,
            "justify_content": null,
            "justify_items": null,
            "left": null,
            "margin": null,
            "max_height": null,
            "max_width": null,
            "min_height": null,
            "min_width": null,
            "object_fit": null,
            "object_position": null,
            "order": null,
            "overflow": null,
            "overflow_x": null,
            "overflow_y": null,
            "padding": null,
            "right": null,
            "top": null,
            "visibility": null,
            "width": null
          }
        },
        "57b966dfe79d42868034b00e9c304cfd": {
          "model_module": "@jupyter-widgets/controls",
          "model_name": "ProgressStyleModel",
          "model_module_version": "1.5.0",
          "state": {
            "_model_module": "@jupyter-widgets/controls",
            "_model_module_version": "1.5.0",
            "_model_name": "ProgressStyleModel",
            "_view_count": null,
            "_view_module": "@jupyter-widgets/base",
            "_view_module_version": "1.2.0",
            "_view_name": "StyleView",
            "bar_color": null,
            "description_width": ""
          }
        },
        "71ca3a28ed254afa9c0e376bbb49701d": {
          "model_module": "@jupyter-widgets/base",
          "model_name": "LayoutModel",
          "model_module_version": "1.2.0",
          "state": {
            "_model_module": "@jupyter-widgets/base",
            "_model_module_version": "1.2.0",
            "_model_name": "LayoutModel",
            "_view_count": null,
            "_view_module": "@jupyter-widgets/base",
            "_view_module_version": "1.2.0",
            "_view_name": "LayoutView",
            "align_content": null,
            "align_items": null,
            "align_self": null,
            "border": null,
            "bottom": null,
            "display": null,
            "flex": null,
            "flex_flow": null,
            "grid_area": null,
            "grid_auto_columns": null,
            "grid_auto_flow": null,
            "grid_auto_rows": null,
            "grid_column": null,
            "grid_gap": null,
            "grid_row": null,
            "grid_template_areas": null,
            "grid_template_columns": null,
            "grid_template_rows": null,
            "height": null,
            "justify_content": null,
            "justify_items": null,
            "left": null,
            "margin": null,
            "max_height": null,
            "max_width": null,
            "min_height": null,
            "min_width": null,
            "object_fit": null,
            "object_position": null,
            "order": null,
            "overflow": null,
            "overflow_x": null,
            "overflow_y": null,
            "padding": null,
            "right": null,
            "top": null,
            "visibility": null,
            "width": null
          }
        },
        "8b19404dce8f4f228307b6c80ce7ba6a": {
          "model_module": "@jupyter-widgets/controls",
          "model_name": "DescriptionStyleModel",
          "model_module_version": "1.5.0",
          "state": {
            "_model_module": "@jupyter-widgets/controls",
            "_model_module_version": "1.5.0",
            "_model_name": "DescriptionStyleModel",
            "_view_count": null,
            "_view_module": "@jupyter-widgets/base",
            "_view_module_version": "1.2.0",
            "_view_name": "StyleView",
            "description_width": ""
          }
        },
        "34750478058c45e39da310161c8516ae": {
          "model_module": "@jupyter-widgets/controls",
          "model_name": "HBoxModel",
          "model_module_version": "1.5.0",
          "state": {
            "_dom_classes": [],
            "_model_module": "@jupyter-widgets/controls",
            "_model_module_version": "1.5.0",
            "_model_name": "HBoxModel",
            "_view_count": null,
            "_view_module": "@jupyter-widgets/controls",
            "_view_module_version": "1.5.0",
            "_view_name": "HBoxView",
            "box_style": "",
            "children": [
              "IPY_MODEL_d96fd052aa624996819acc089bb8f394",
              "IPY_MODEL_7ba17a58b15144ecb6ef2b673dba78a6",
              "IPY_MODEL_43f132919b7149c090238c27b9a1da93"
            ],
            "layout": "IPY_MODEL_0a5010dbe366475ebda4efb974a58739"
          }
        },
        "d96fd052aa624996819acc089bb8f394": {
          "model_module": "@jupyter-widgets/controls",
          "model_name": "HTMLModel",
          "model_module_version": "1.5.0",
          "state": {
            "_dom_classes": [],
            "_model_module": "@jupyter-widgets/controls",
            "_model_module_version": "1.5.0",
            "_model_name": "HTMLModel",
            "_view_count": null,
            "_view_module": "@jupyter-widgets/controls",
            "_view_module_version": "1.5.0",
            "_view_name": "HTMLView",
            "description": "",
            "description_tooltip": null,
            "layout": "IPY_MODEL_8fdb9f2dda7145f584737feb63b11441",
            "placeholder": "​",
            "style": "IPY_MODEL_321df85067464886b1b87870d57985ba",
            "value": "Downloading: 100%"
          }
        },
        "7ba17a58b15144ecb6ef2b673dba78a6": {
          "model_module": "@jupyter-widgets/controls",
          "model_name": "FloatProgressModel",
          "model_module_version": "1.5.0",
          "state": {
            "_dom_classes": [],
            "_model_module": "@jupyter-widgets/controls",
            "_model_module_version": "1.5.0",
            "_model_name": "FloatProgressModel",
            "_view_count": null,
            "_view_module": "@jupyter-widgets/controls",
            "_view_module_version": "1.5.0",
            "_view_name": "ProgressView",
            "bar_style": "success",
            "description": "",
            "description_tooltip": null,
            "layout": "IPY_MODEL_b745284c9d8341669b82f33e96ffd85e",
            "max": 1000,
            "min": 0,
            "orientation": "horizontal",
            "style": "IPY_MODEL_b7838ce6cc97440cbbf1ea44d9b34d9d",
            "value": 1000
          }
        },
        "43f132919b7149c090238c27b9a1da93": {
          "model_module": "@jupyter-widgets/controls",
          "model_name": "HTMLModel",
          "model_module_version": "1.5.0",
          "state": {
            "_dom_classes": [],
            "_model_module": "@jupyter-widgets/controls",
            "_model_module_version": "1.5.0",
            "_model_name": "HTMLModel",
            "_view_count": null,
            "_view_module": "@jupyter-widgets/controls",
            "_view_module_version": "1.5.0",
            "_view_name": "HTMLView",
            "description": "",
            "description_tooltip": null,
            "layout": "IPY_MODEL_d55748734fbd4ba69f7b59abf5b83722",
            "placeholder": "​",
            "style": "IPY_MODEL_efe980cb68a24a56929d3ce05acc0f92",
            "value": " 0.98k/0.98k [00:00&lt;00:00, 25.0kB/s]"
          }
        },
        "0a5010dbe366475ebda4efb974a58739": {
          "model_module": "@jupyter-widgets/base",
          "model_name": "LayoutModel",
          "model_module_version": "1.2.0",
          "state": {
            "_model_module": "@jupyter-widgets/base",
            "_model_module_version": "1.2.0",
            "_model_name": "LayoutModel",
            "_view_count": null,
            "_view_module": "@jupyter-widgets/base",
            "_view_module_version": "1.2.0",
            "_view_name": "LayoutView",
            "align_content": null,
            "align_items": null,
            "align_self": null,
            "border": null,
            "bottom": null,
            "display": null,
            "flex": null,
            "flex_flow": null,
            "grid_area": null,
            "grid_auto_columns": null,
            "grid_auto_flow": null,
            "grid_auto_rows": null,
            "grid_column": null,
            "grid_gap": null,
            "grid_row": null,
            "grid_template_areas": null,
            "grid_template_columns": null,
            "grid_template_rows": null,
            "height": null,
            "justify_content": null,
            "justify_items": null,
            "left": null,
            "margin": null,
            "max_height": null,
            "max_width": null,
            "min_height": null,
            "min_width": null,
            "object_fit": null,
            "object_position": null,
            "order": null,
            "overflow": null,
            "overflow_x": null,
            "overflow_y": null,
            "padding": null,
            "right": null,
            "top": null,
            "visibility": null,
            "width": null
          }
        },
        "8fdb9f2dda7145f584737feb63b11441": {
          "model_module": "@jupyter-widgets/base",
          "model_name": "LayoutModel",
          "model_module_version": "1.2.0",
          "state": {
            "_model_module": "@jupyter-widgets/base",
            "_model_module_version": "1.2.0",
            "_model_name": "LayoutModel",
            "_view_count": null,
            "_view_module": "@jupyter-widgets/base",
            "_view_module_version": "1.2.0",
            "_view_name": "LayoutView",
            "align_content": null,
            "align_items": null,
            "align_self": null,
            "border": null,
            "bottom": null,
            "display": null,
            "flex": null,
            "flex_flow": null,
            "grid_area": null,
            "grid_auto_columns": null,
            "grid_auto_flow": null,
            "grid_auto_rows": null,
            "grid_column": null,
            "grid_gap": null,
            "grid_row": null,
            "grid_template_areas": null,
            "grid_template_columns": null,
            "grid_template_rows": null,
            "height": null,
            "justify_content": null,
            "justify_items": null,
            "left": null,
            "margin": null,
            "max_height": null,
            "max_width": null,
            "min_height": null,
            "min_width": null,
            "object_fit": null,
            "object_position": null,
            "order": null,
            "overflow": null,
            "overflow_x": null,
            "overflow_y": null,
            "padding": null,
            "right": null,
            "top": null,
            "visibility": null,
            "width": null
          }
        },
        "321df85067464886b1b87870d57985ba": {
          "model_module": "@jupyter-widgets/controls",
          "model_name": "DescriptionStyleModel",
          "model_module_version": "1.5.0",
          "state": {
            "_model_module": "@jupyter-widgets/controls",
            "_model_module_version": "1.5.0",
            "_model_name": "DescriptionStyleModel",
            "_view_count": null,
            "_view_module": "@jupyter-widgets/base",
            "_view_module_version": "1.2.0",
            "_view_name": "StyleView",
            "description_width": ""
          }
        },
        "b745284c9d8341669b82f33e96ffd85e": {
          "model_module": "@jupyter-widgets/base",
          "model_name": "LayoutModel",
          "model_module_version": "1.2.0",
          "state": {
            "_model_module": "@jupyter-widgets/base",
            "_model_module_version": "1.2.0",
            "_model_name": "LayoutModel",
            "_view_count": null,
            "_view_module": "@jupyter-widgets/base",
            "_view_module_version": "1.2.0",
            "_view_name": "LayoutView",
            "align_content": null,
            "align_items": null,
            "align_self": null,
            "border": null,
            "bottom": null,
            "display": null,
            "flex": null,
            "flex_flow": null,
            "grid_area": null,
            "grid_auto_columns": null,
            "grid_auto_flow": null,
            "grid_auto_rows": null,
            "grid_column": null,
            "grid_gap": null,
            "grid_row": null,
            "grid_template_areas": null,
            "grid_template_columns": null,
            "grid_template_rows": null,
            "height": null,
            "justify_content": null,
            "justify_items": null,
            "left": null,
            "margin": null,
            "max_height": null,
            "max_width": null,
            "min_height": null,
            "min_width": null,
            "object_fit": null,
            "object_position": null,
            "order": null,
            "overflow": null,
            "overflow_x": null,
            "overflow_y": null,
            "padding": null,
            "right": null,
            "top": null,
            "visibility": null,
            "width": null
          }
        },
        "b7838ce6cc97440cbbf1ea44d9b34d9d": {
          "model_module": "@jupyter-widgets/controls",
          "model_name": "ProgressStyleModel",
          "model_module_version": "1.5.0",
          "state": {
            "_model_module": "@jupyter-widgets/controls",
            "_model_module_version": "1.5.0",
            "_model_name": "ProgressStyleModel",
            "_view_count": null,
            "_view_module": "@jupyter-widgets/base",
            "_view_module_version": "1.2.0",
            "_view_name": "StyleView",
            "bar_color": null,
            "description_width": ""
          }
        },
        "d55748734fbd4ba69f7b59abf5b83722": {
          "model_module": "@jupyter-widgets/base",
          "model_name": "LayoutModel",
          "model_module_version": "1.2.0",
          "state": {
            "_model_module": "@jupyter-widgets/base",
            "_model_module_version": "1.2.0",
            "_model_name": "LayoutModel",
            "_view_count": null,
            "_view_module": "@jupyter-widgets/base",
            "_view_module_version": "1.2.0",
            "_view_name": "LayoutView",
            "align_content": null,
            "align_items": null,
            "align_self": null,
            "border": null,
            "bottom": null,
            "display": null,
            "flex": null,
            "flex_flow": null,
            "grid_area": null,
            "grid_auto_columns": null,
            "grid_auto_flow": null,
            "grid_auto_rows": null,
            "grid_column": null,
            "grid_gap": null,
            "grid_row": null,
            "grid_template_areas": null,
            "grid_template_columns": null,
            "grid_template_rows": null,
            "height": null,
            "justify_content": null,
            "justify_items": null,
            "left": null,
            "margin": null,
            "max_height": null,
            "max_width": null,
            "min_height": null,
            "min_width": null,
            "object_fit": null,
            "object_position": null,
            "order": null,
            "overflow": null,
            "overflow_x": null,
            "overflow_y": null,
            "padding": null,
            "right": null,
            "top": null,
            "visibility": null,
            "width": null
          }
        },
        "efe980cb68a24a56929d3ce05acc0f92": {
          "model_module": "@jupyter-widgets/controls",
          "model_name": "DescriptionStyleModel",
          "model_module_version": "1.5.0",
          "state": {
            "_model_module": "@jupyter-widgets/controls",
            "_model_module_version": "1.5.0",
            "_model_name": "DescriptionStyleModel",
            "_view_count": null,
            "_view_module": "@jupyter-widgets/base",
            "_view_module_version": "1.2.0",
            "_view_name": "StyleView",
            "description_width": ""
          }
        },
        "9b95d285b12841d099bf6a7633fc2267": {
          "model_module": "@jupyter-widgets/controls",
          "model_name": "HBoxModel",
          "model_module_version": "1.5.0",
          "state": {
            "_dom_classes": [],
            "_model_module": "@jupyter-widgets/controls",
            "_model_module_version": "1.5.0",
            "_model_name": "HBoxModel",
            "_view_count": null,
            "_view_module": "@jupyter-widgets/controls",
            "_view_module_version": "1.5.0",
            "_view_name": "HBoxView",
            "box_style": "",
            "children": [
              "IPY_MODEL_5fa6cadccd1248909e3624bb67750926",
              "IPY_MODEL_e8813ad47e3d46d28c7a8e6ac48b92b7",
              "IPY_MODEL_1e7ad2d02e41464abebf12d2cf087434"
            ],
            "layout": "IPY_MODEL_26c3e645682b4b84876911fd9c5b0840"
          }
        },
        "5fa6cadccd1248909e3624bb67750926": {
          "model_module": "@jupyter-widgets/controls",
          "model_name": "HTMLModel",
          "model_module_version": "1.5.0",
          "state": {
            "_dom_classes": [],
            "_model_module": "@jupyter-widgets/controls",
            "_model_module_version": "1.5.0",
            "_model_name": "HTMLModel",
            "_view_count": null,
            "_view_module": "@jupyter-widgets/controls",
            "_view_module_version": "1.5.0",
            "_view_name": "HTMLView",
            "description": "",
            "description_tooltip": null,
            "layout": "IPY_MODEL_7f0f48b6d14f4f628a63a1da3f8c33c5",
            "placeholder": "​",
            "style": "IPY_MODEL_a16878cffbef45a3b4aeed385996dfc4",
            "value": "Downloading: 100%"
          }
        },
        "e8813ad47e3d46d28c7a8e6ac48b92b7": {
          "model_module": "@jupyter-widgets/controls",
          "model_name": "FloatProgressModel",
          "model_module_version": "1.5.0",
          "state": {
            "_dom_classes": [],
            "_model_module": "@jupyter-widgets/controls",
            "_model_module_version": "1.5.0",
            "_model_name": "FloatProgressModel",
            "_view_count": null,
            "_view_module": "@jupyter-widgets/controls",
            "_view_module_version": "1.5.0",
            "_view_name": "ProgressView",
            "bar_style": "success",
            "description": "",
            "description_tooltip": null,
            "layout": "IPY_MODEL_3ecb31fe9dcb4e7ca65a736927622ade",
            "max": 513302779,
            "min": 0,
            "orientation": "horizontal",
            "style": "IPY_MODEL_f65ce961a1ed44bf841d0bc3ba6d2d9c",
            "value": 513302779
          }
        },
        "1e7ad2d02e41464abebf12d2cf087434": {
          "model_module": "@jupyter-widgets/controls",
          "model_name": "HTMLModel",
          "model_module_version": "1.5.0",
          "state": {
            "_dom_classes": [],
            "_model_module": "@jupyter-widgets/controls",
            "_model_module_version": "1.5.0",
            "_model_name": "HTMLModel",
            "_view_count": null,
            "_view_module": "@jupyter-widgets/controls",
            "_view_module_version": "1.5.0",
            "_view_name": "HTMLView",
            "description": "",
            "description_tooltip": null,
            "layout": "IPY_MODEL_3c6299beea8146c7b1fb93c84adfe8d7",
            "placeholder": "​",
            "style": "IPY_MODEL_4ebae1f11f364f19be2730fa3fcc795c",
            "value": " 490M/490M [00:13&lt;00:00, 41.9MB/s]"
          }
        },
        "26c3e645682b4b84876911fd9c5b0840": {
          "model_module": "@jupyter-widgets/base",
          "model_name": "LayoutModel",
          "model_module_version": "1.2.0",
          "state": {
            "_model_module": "@jupyter-widgets/base",
            "_model_module_version": "1.2.0",
            "_model_name": "LayoutModel",
            "_view_count": null,
            "_view_module": "@jupyter-widgets/base",
            "_view_module_version": "1.2.0",
            "_view_name": "LayoutView",
            "align_content": null,
            "align_items": null,
            "align_self": null,
            "border": null,
            "bottom": null,
            "display": null,
            "flex": null,
            "flex_flow": null,
            "grid_area": null,
            "grid_auto_columns": null,
            "grid_auto_flow": null,
            "grid_auto_rows": null,
            "grid_column": null,
            "grid_gap": null,
            "grid_row": null,
            "grid_template_areas": null,
            "grid_template_columns": null,
            "grid_template_rows": null,
            "height": null,
            "justify_content": null,
            "justify_items": null,
            "left": null,
            "margin": null,
            "max_height": null,
            "max_width": null,
            "min_height": null,
            "min_width": null,
            "object_fit": null,
            "object_position": null,
            "order": null,
            "overflow": null,
            "overflow_x": null,
            "overflow_y": null,
            "padding": null,
            "right": null,
            "top": null,
            "visibility": null,
            "width": null
          }
        },
        "7f0f48b6d14f4f628a63a1da3f8c33c5": {
          "model_module": "@jupyter-widgets/base",
          "model_name": "LayoutModel",
          "model_module_version": "1.2.0",
          "state": {
            "_model_module": "@jupyter-widgets/base",
            "_model_module_version": "1.2.0",
            "_model_name": "LayoutModel",
            "_view_count": null,
            "_view_module": "@jupyter-widgets/base",
            "_view_module_version": "1.2.0",
            "_view_name": "LayoutView",
            "align_content": null,
            "align_items": null,
            "align_self": null,
            "border": null,
            "bottom": null,
            "display": null,
            "flex": null,
            "flex_flow": null,
            "grid_area": null,
            "grid_auto_columns": null,
            "grid_auto_flow": null,
            "grid_auto_rows": null,
            "grid_column": null,
            "grid_gap": null,
            "grid_row": null,
            "grid_template_areas": null,
            "grid_template_columns": null,
            "grid_template_rows": null,
            "height": null,
            "justify_content": null,
            "justify_items": null,
            "left": null,
            "margin": null,
            "max_height": null,
            "max_width": null,
            "min_height": null,
            "min_width": null,
            "object_fit": null,
            "object_position": null,
            "order": null,
            "overflow": null,
            "overflow_x": null,
            "overflow_y": null,
            "padding": null,
            "right": null,
            "top": null,
            "visibility": null,
            "width": null
          }
        },
        "a16878cffbef45a3b4aeed385996dfc4": {
          "model_module": "@jupyter-widgets/controls",
          "model_name": "DescriptionStyleModel",
          "model_module_version": "1.5.0",
          "state": {
            "_model_module": "@jupyter-widgets/controls",
            "_model_module_version": "1.5.0",
            "_model_name": "DescriptionStyleModel",
            "_view_count": null,
            "_view_module": "@jupyter-widgets/base",
            "_view_module_version": "1.2.0",
            "_view_name": "StyleView",
            "description_width": ""
          }
        },
        "3ecb31fe9dcb4e7ca65a736927622ade": {
          "model_module": "@jupyter-widgets/base",
          "model_name": "LayoutModel",
          "model_module_version": "1.2.0",
          "state": {
            "_model_module": "@jupyter-widgets/base",
            "_model_module_version": "1.2.0",
            "_model_name": "LayoutModel",
            "_view_count": null,
            "_view_module": "@jupyter-widgets/base",
            "_view_module_version": "1.2.0",
            "_view_name": "LayoutView",
            "align_content": null,
            "align_items": null,
            "align_self": null,
            "border": null,
            "bottom": null,
            "display": null,
            "flex": null,
            "flex_flow": null,
            "grid_area": null,
            "grid_auto_columns": null,
            "grid_auto_flow": null,
            "grid_auto_rows": null,
            "grid_column": null,
            "grid_gap": null,
            "grid_row": null,
            "grid_template_areas": null,
            "grid_template_columns": null,
            "grid_template_rows": null,
            "height": null,
            "justify_content": null,
            "justify_items": null,
            "left": null,
            "margin": null,
            "max_height": null,
            "max_width": null,
            "min_height": null,
            "min_width": null,
            "object_fit": null,
            "object_position": null,
            "order": null,
            "overflow": null,
            "overflow_x": null,
            "overflow_y": null,
            "padding": null,
            "right": null,
            "top": null,
            "visibility": null,
            "width": null
          }
        },
        "f65ce961a1ed44bf841d0bc3ba6d2d9c": {
          "model_module": "@jupyter-widgets/controls",
          "model_name": "ProgressStyleModel",
          "model_module_version": "1.5.0",
          "state": {
            "_model_module": "@jupyter-widgets/controls",
            "_model_module_version": "1.5.0",
            "_model_name": "ProgressStyleModel",
            "_view_count": null,
            "_view_module": "@jupyter-widgets/base",
            "_view_module_version": "1.2.0",
            "_view_name": "StyleView",
            "bar_color": null,
            "description_width": ""
          }
        },
        "3c6299beea8146c7b1fb93c84adfe8d7": {
          "model_module": "@jupyter-widgets/base",
          "model_name": "LayoutModel",
          "model_module_version": "1.2.0",
          "state": {
            "_model_module": "@jupyter-widgets/base",
            "_model_module_version": "1.2.0",
            "_model_name": "LayoutModel",
            "_view_count": null,
            "_view_module": "@jupyter-widgets/base",
            "_view_module_version": "1.2.0",
            "_view_name": "LayoutView",
            "align_content": null,
            "align_items": null,
            "align_self": null,
            "border": null,
            "bottom": null,
            "display": null,
            "flex": null,
            "flex_flow": null,
            "grid_area": null,
            "grid_auto_columns": null,
            "grid_auto_flow": null,
            "grid_auto_rows": null,
            "grid_column": null,
            "grid_gap": null,
            "grid_row": null,
            "grid_template_areas": null,
            "grid_template_columns": null,
            "grid_template_rows": null,
            "height": null,
            "justify_content": null,
            "justify_items": null,
            "left": null,
            "margin": null,
            "max_height": null,
            "max_width": null,
            "min_height": null,
            "min_width": null,
            "object_fit": null,
            "object_position": null,
            "order": null,
            "overflow": null,
            "overflow_x": null,
            "overflow_y": null,
            "padding": null,
            "right": null,
            "top": null,
            "visibility": null,
            "width": null
          }
        },
        "4ebae1f11f364f19be2730fa3fcc795c": {
          "model_module": "@jupyter-widgets/controls",
          "model_name": "DescriptionStyleModel",
          "model_module_version": "1.5.0",
          "state": {
            "_model_module": "@jupyter-widgets/controls",
            "_model_module_version": "1.5.0",
            "_model_name": "DescriptionStyleModel",
            "_view_count": null,
            "_view_module": "@jupyter-widgets/base",
            "_view_module_version": "1.2.0",
            "_view_name": "StyleView",
            "description_width": ""
          }
        }
      }
    }
  },
  "cells": [
    {
      "cell_type": "markdown",
      "metadata": {
        "id": "view-in-github",
        "colab_type": "text"
      },
      "source": [
        "<a href=\"https://colab.research.google.com/github/dakyommii/study/blob/main/dduck/koGpt2_train.ipynb\" target=\"_parent\"><img src=\"https://colab.research.google.com/assets/colab-badge.svg\" alt=\"Open In Colab\"/></a>"
      ]
    },
    {
      "cell_type": "markdown",
      "source": [
        "#KoGpt2-train"
      ],
      "metadata": {
        "id": "O-dmtQUOAOop"
      }
    },
    {
      "cell_type": "markdown",
      "source": [
        "##라이브러리 설치"
      ],
      "metadata": {
        "id": "8UUHWK7CATKb"
      }
    },
    {
      "cell_type": "code",
      "execution_count": 1,
      "metadata": {
        "colab": {
          "base_uri": "https://localhost:8080/"
        },
        "id": "PPz9TI8a_bkU",
        "outputId": "b2b4c81f-abd6-44bf-d0a4-ff26d5dc5086"
      },
      "outputs": [
        {
          "output_type": "stream",
          "name": "stdout",
          "text": [
            "Collecting fastai==2.2.5\n",
            "  Downloading fastai-2.2.5-py3-none-any.whl (191 kB)\n",
            "\u001b[?25l\r\u001b[K     |█▊                              | 10 kB 20.6 MB/s eta 0:00:01\r\u001b[K     |███▍                            | 20 kB 10.5 MB/s eta 0:00:01\r\u001b[K     |█████▏                          | 30 kB 9.2 MB/s eta 0:00:01\r\u001b[K     |██████▉                         | 40 kB 8.4 MB/s eta 0:00:01\r\u001b[K     |████████▋                       | 51 kB 4.7 MB/s eta 0:00:01\r\u001b[K     |██████████▎                     | 61 kB 5.6 MB/s eta 0:00:01\r\u001b[K     |████████████                    | 71 kB 5.6 MB/s eta 0:00:01\r\u001b[K     |█████████████▊                  | 81 kB 4.3 MB/s eta 0:00:01\r\u001b[K     |███████████████▍                | 92 kB 4.8 MB/s eta 0:00:01\r\u001b[K     |█████████████████▏              | 102 kB 5.3 MB/s eta 0:00:01\r\u001b[K     |██████████████████▉             | 112 kB 5.3 MB/s eta 0:00:01\r\u001b[K     |████████████████████▋           | 122 kB 5.3 MB/s eta 0:00:01\r\u001b[K     |██████████████████████▎         | 133 kB 5.3 MB/s eta 0:00:01\r\u001b[K     |████████████████████████        | 143 kB 5.3 MB/s eta 0:00:01\r\u001b[K     |█████████████████████████▊      | 153 kB 5.3 MB/s eta 0:00:01\r\u001b[K     |███████████████████████████▍    | 163 kB 5.3 MB/s eta 0:00:01\r\u001b[K     |█████████████████████████████▏  | 174 kB 5.3 MB/s eta 0:00:01\r\u001b[K     |██████████████████████████████▉ | 184 kB 5.3 MB/s eta 0:00:01\r\u001b[K     |████████████████████████████████| 191 kB 5.3 MB/s \n",
            "\u001b[?25hRequirement already satisfied: fastprogress>=0.2.4 in /usr/local/lib/python3.7/dist-packages (from fastai==2.2.5) (1.0.2)\n",
            "Requirement already satisfied: scikit-learn in /usr/local/lib/python3.7/dist-packages (from fastai==2.2.5) (1.0.2)\n",
            "Requirement already satisfied: pandas in /usr/local/lib/python3.7/dist-packages (from fastai==2.2.5) (1.3.5)\n",
            "Requirement already satisfied: requests in /usr/local/lib/python3.7/dist-packages (from fastai==2.2.5) (2.23.0)\n",
            "Requirement already satisfied: packaging in /usr/local/lib/python3.7/dist-packages (from fastai==2.2.5) (21.3)\n",
            "Requirement already satisfied: spacy in /usr/local/lib/python3.7/dist-packages (from fastai==2.2.5) (2.2.4)\n",
            "Collecting torchvision<0.9,>=0.8\n",
            "  Downloading torchvision-0.8.2-cp37-cp37m-manylinux1_x86_64.whl (12.8 MB)\n",
            "\u001b[K     |████████████████████████████████| 12.8 MB 22.1 MB/s \n",
            "\u001b[?25hCollecting fastcore<1.4,>=1.3.8\n",
            "  Downloading fastcore-1.3.29-py3-none-any.whl (55 kB)\n",
            "\u001b[K     |████████████████████████████████| 55 kB 4.4 MB/s \n",
            "\u001b[?25hRequirement already satisfied: scipy in /usr/local/lib/python3.7/dist-packages (from fastai==2.2.5) (1.4.1)\n",
            "Requirement already satisfied: matplotlib in /usr/local/lib/python3.7/dist-packages (from fastai==2.2.5) (3.2.2)\n",
            "Requirement already satisfied: pillow>6.0.0 in /usr/local/lib/python3.7/dist-packages (from fastai==2.2.5) (7.1.2)\n",
            "Collecting torch<1.8,>=1.7.0\n",
            "  Downloading torch-1.7.1-cp37-cp37m-manylinux1_x86_64.whl (776.8 MB)\n",
            "\u001b[K     |████████████████████████████████| 776.8 MB 18 kB/s \n",
            "\u001b[?25hRequirement already satisfied: pyyaml in /usr/local/lib/python3.7/dist-packages (from fastai==2.2.5) (3.13)\n",
            "Requirement already satisfied: pip in /usr/local/lib/python3.7/dist-packages (from fastai==2.2.5) (21.1.3)\n",
            "Requirement already satisfied: numpy in /usr/local/lib/python3.7/dist-packages (from torch<1.8,>=1.7.0->fastai==2.2.5) (1.21.6)\n",
            "Requirement already satisfied: typing-extensions in /usr/local/lib/python3.7/dist-packages (from torch<1.8,>=1.7.0->fastai==2.2.5) (4.2.0)\n",
            "Requirement already satisfied: python-dateutil>=2.1 in /usr/local/lib/python3.7/dist-packages (from matplotlib->fastai==2.2.5) (2.8.2)\n",
            "Requirement already satisfied: cycler>=0.10 in /usr/local/lib/python3.7/dist-packages (from matplotlib->fastai==2.2.5) (0.11.0)\n",
            "Requirement already satisfied: kiwisolver>=1.0.1 in /usr/local/lib/python3.7/dist-packages (from matplotlib->fastai==2.2.5) (1.4.2)\n",
            "Requirement already satisfied: pyparsing!=2.0.4,!=2.1.2,!=2.1.6,>=2.0.1 in /usr/local/lib/python3.7/dist-packages (from matplotlib->fastai==2.2.5) (3.0.9)\n",
            "Requirement already satisfied: six>=1.5 in /usr/local/lib/python3.7/dist-packages (from python-dateutil>=2.1->matplotlib->fastai==2.2.5) (1.15.0)\n",
            "Requirement already satisfied: pytz>=2017.3 in /usr/local/lib/python3.7/dist-packages (from pandas->fastai==2.2.5) (2022.1)\n",
            "Requirement already satisfied: urllib3!=1.25.0,!=1.25.1,<1.26,>=1.21.1 in /usr/local/lib/python3.7/dist-packages (from requests->fastai==2.2.5) (1.24.3)\n",
            "Requirement already satisfied: idna<3,>=2.5 in /usr/local/lib/python3.7/dist-packages (from requests->fastai==2.2.5) (2.10)\n",
            "Requirement already satisfied: chardet<4,>=3.0.2 in /usr/local/lib/python3.7/dist-packages (from requests->fastai==2.2.5) (3.0.4)\n",
            "Requirement already satisfied: certifi>=2017.4.17 in /usr/local/lib/python3.7/dist-packages (from requests->fastai==2.2.5) (2021.10.8)\n",
            "Requirement already satisfied: joblib>=0.11 in /usr/local/lib/python3.7/dist-packages (from scikit-learn->fastai==2.2.5) (1.1.0)\n",
            "Requirement already satisfied: threadpoolctl>=2.0.0 in /usr/local/lib/python3.7/dist-packages (from scikit-learn->fastai==2.2.5) (3.1.0)\n",
            "Requirement already satisfied: wasabi<1.1.0,>=0.4.0 in /usr/local/lib/python3.7/dist-packages (from spacy->fastai==2.2.5) (0.9.1)\n",
            "Requirement already satisfied: plac<1.2.0,>=0.9.6 in /usr/local/lib/python3.7/dist-packages (from spacy->fastai==2.2.5) (1.1.3)\n",
            "Requirement already satisfied: thinc==7.4.0 in /usr/local/lib/python3.7/dist-packages (from spacy->fastai==2.2.5) (7.4.0)\n",
            "Requirement already satisfied: cymem<2.1.0,>=2.0.2 in /usr/local/lib/python3.7/dist-packages (from spacy->fastai==2.2.5) (2.0.6)\n",
            "Requirement already satisfied: preshed<3.1.0,>=3.0.2 in /usr/local/lib/python3.7/dist-packages (from spacy->fastai==2.2.5) (3.0.6)\n",
            "Requirement already satisfied: catalogue<1.1.0,>=0.0.7 in /usr/local/lib/python3.7/dist-packages (from spacy->fastai==2.2.5) (1.0.0)\n",
            "Requirement already satisfied: murmurhash<1.1.0,>=0.28.0 in /usr/local/lib/python3.7/dist-packages (from spacy->fastai==2.2.5) (1.0.7)\n",
            "Requirement already satisfied: blis<0.5.0,>=0.4.0 in /usr/local/lib/python3.7/dist-packages (from spacy->fastai==2.2.5) (0.4.1)\n",
            "Requirement already satisfied: srsly<1.1.0,>=1.0.2 in /usr/local/lib/python3.7/dist-packages (from spacy->fastai==2.2.5) (1.0.5)\n",
            "Requirement already satisfied: setuptools in /usr/local/lib/python3.7/dist-packages (from spacy->fastai==2.2.5) (57.4.0)\n",
            "Requirement already satisfied: tqdm<5.0.0,>=4.38.0 in /usr/local/lib/python3.7/dist-packages (from spacy->fastai==2.2.5) (4.64.0)\n",
            "Requirement already satisfied: importlib-metadata>=0.20 in /usr/local/lib/python3.7/dist-packages (from catalogue<1.1.0,>=0.0.7->spacy->fastai==2.2.5) (4.11.3)\n",
            "Requirement already satisfied: zipp>=0.5 in /usr/local/lib/python3.7/dist-packages (from importlib-metadata>=0.20->catalogue<1.1.0,>=0.0.7->spacy->fastai==2.2.5) (3.8.0)\n",
            "Installing collected packages: torch, torchvision, fastcore, fastai\n",
            "  Attempting uninstall: torch\n",
            "    Found existing installation: torch 1.11.0+cu113\n",
            "    Uninstalling torch-1.11.0+cu113:\n",
            "      Successfully uninstalled torch-1.11.0+cu113\n",
            "  Attempting uninstall: torchvision\n",
            "    Found existing installation: torchvision 0.12.0+cu113\n",
            "    Uninstalling torchvision-0.12.0+cu113:\n",
            "      Successfully uninstalled torchvision-0.12.0+cu113\n",
            "  Attempting uninstall: fastai\n",
            "    Found existing installation: fastai 1.0.61\n",
            "    Uninstalling fastai-1.0.61:\n",
            "      Successfully uninstalled fastai-1.0.61\n",
            "\u001b[31mERROR: pip's dependency resolver does not currently take into account all the packages that are installed. This behaviour is the source of the following dependency conflicts.\n",
            "torchtext 0.12.0 requires torch==1.11.0, but you have torch 1.7.1 which is incompatible.\n",
            "torchaudio 0.11.0+cu113 requires torch==1.11.0, but you have torch 1.7.1 which is incompatible.\u001b[0m\n",
            "Successfully installed fastai-2.2.5 fastcore-1.3.29 torch-1.7.1 torchvision-0.8.2\n"
          ]
        }
      ],
      "source": [
        "!pip install fastai==2.2.5"
      ]
    },
    {
      "cell_type": "code",
      "source": [
        "!pip install transformers"
      ],
      "metadata": {
        "colab": {
          "base_uri": "https://localhost:8080/"
        },
        "id": "RPWA33a8_-mj",
        "outputId": "7eac136a-1591-4a5e-e1df-3bd31e188466"
      },
      "execution_count": 2,
      "outputs": [
        {
          "output_type": "stream",
          "name": "stdout",
          "text": [
            "Collecting transformers\n",
            "  Downloading transformers-4.19.2-py3-none-any.whl (4.2 MB)\n",
            "\u001b[K     |████████████████████████████████| 4.2 MB 5.1 MB/s \n",
            "\u001b[?25hRequirement already satisfied: regex!=2019.12.17 in /usr/local/lib/python3.7/dist-packages (from transformers) (2019.12.20)\n",
            "Requirement already satisfied: importlib-metadata in /usr/local/lib/python3.7/dist-packages (from transformers) (4.11.3)\n",
            "Collecting pyyaml>=5.1\n",
            "  Downloading PyYAML-6.0-cp37-cp37m-manylinux_2_5_x86_64.manylinux1_x86_64.manylinux_2_12_x86_64.manylinux2010_x86_64.whl (596 kB)\n",
            "\u001b[K     |████████████████████████████████| 596 kB 30.2 MB/s \n",
            "\u001b[?25hCollecting tokenizers!=0.11.3,<0.13,>=0.11.1\n",
            "  Downloading tokenizers-0.12.1-cp37-cp37m-manylinux_2_12_x86_64.manylinux2010_x86_64.whl (6.6 MB)\n",
            "\u001b[K     |████████████████████████████████| 6.6 MB 35.3 MB/s \n",
            "\u001b[?25hCollecting huggingface-hub<1.0,>=0.1.0\n",
            "  Downloading huggingface_hub-0.6.0-py3-none-any.whl (84 kB)\n",
            "\u001b[K     |████████████████████████████████| 84 kB 2.7 MB/s \n",
            "\u001b[?25hRequirement already satisfied: requests in /usr/local/lib/python3.7/dist-packages (from transformers) (2.23.0)\n",
            "Requirement already satisfied: filelock in /usr/local/lib/python3.7/dist-packages (from transformers) (3.7.0)\n",
            "Requirement already satisfied: tqdm>=4.27 in /usr/local/lib/python3.7/dist-packages (from transformers) (4.64.0)\n",
            "Requirement already satisfied: packaging>=20.0 in /usr/local/lib/python3.7/dist-packages (from transformers) (21.3)\n",
            "Requirement already satisfied: numpy>=1.17 in /usr/local/lib/python3.7/dist-packages (from transformers) (1.21.6)\n",
            "Requirement already satisfied: typing-extensions>=3.7.4.3 in /usr/local/lib/python3.7/dist-packages (from huggingface-hub<1.0,>=0.1.0->transformers) (4.2.0)\n",
            "Requirement already satisfied: pyparsing!=3.0.5,>=2.0.2 in /usr/local/lib/python3.7/dist-packages (from packaging>=20.0->transformers) (3.0.9)\n",
            "Requirement already satisfied: zipp>=0.5 in /usr/local/lib/python3.7/dist-packages (from importlib-metadata->transformers) (3.8.0)\n",
            "Requirement already satisfied: certifi>=2017.4.17 in /usr/local/lib/python3.7/dist-packages (from requests->transformers) (2021.10.8)\n",
            "Requirement already satisfied: urllib3!=1.25.0,!=1.25.1,<1.26,>=1.21.1 in /usr/local/lib/python3.7/dist-packages (from requests->transformers) (1.24.3)\n",
            "Requirement already satisfied: chardet<4,>=3.0.2 in /usr/local/lib/python3.7/dist-packages (from requests->transformers) (3.0.4)\n",
            "Requirement already satisfied: idna<3,>=2.5 in /usr/local/lib/python3.7/dist-packages (from requests->transformers) (2.10)\n",
            "Installing collected packages: pyyaml, tokenizers, huggingface-hub, transformers\n",
            "  Attempting uninstall: pyyaml\n",
            "    Found existing installation: PyYAML 3.13\n",
            "    Uninstalling PyYAML-3.13:\n",
            "      Successfully uninstalled PyYAML-3.13\n",
            "Successfully installed huggingface-hub-0.6.0 pyyaml-6.0 tokenizers-0.12.1 transformers-4.19.2\n"
          ]
        }
      ]
    },
    {
      "cell_type": "code",
      "source": [
        "import torch\n",
        "import transformers\n",
        "from transformers import AutoModelWithLMHead, PreTrainedTokenizerFast\n",
        "from fastai.text.all import *\n",
        "import fastai\n",
        "import re\n"
      ],
      "metadata": {
        "id": "9-JljEkpADo2"
      },
      "execution_count": 3,
      "outputs": []
    },
    {
      "cell_type": "code",
      "source": [
        "print(torch.__version__)\n",
        "print(transformers.__version__)\n",
        "print( fastai.__version__)"
      ],
      "metadata": {
        "colab": {
          "base_uri": "https://localhost:8080/"
        },
        "id": "m1CAPjXfAGgN",
        "outputId": "0e9da365-cffa-4a26-a97b-46c5d7e419b0"
      },
      "execution_count": 4,
      "outputs": [
        {
          "output_type": "stream",
          "name": "stdout",
          "text": [
            "1.7.1\n",
            "4.19.2\n",
            "2.2.5\n"
          ]
        }
      ]
    },
    {
      "cell_type": "markdown",
      "source": [
        "##KoGpt2 model, tokenizer 다운로드"
      ],
      "metadata": {
        "id": "N0FihWqaAWzJ"
      }
    },
    {
      "cell_type": "code",
      "source": [
        "#download model and tokenizer\n",
        "tokenizer = PreTrainedTokenizerFast.from_pretrained(\"skt/kogpt2-base-v2\",\n",
        "  bos_token='</s>', eos_token='</s>', unk_token='<unk>',\n",
        "  pad_token='<pad>', mask_token='<mask>') \n",
        "model = AutoModelWithLMHead.from_pretrained(\"skt/kogpt2-base-v2\")"
      ],
      "metadata": {
        "colab": {
          "base_uri": "https://localhost:8080/",
          "height": 222,
          "referenced_widgets": [
            "fba80aca0f66418cba5b61fd08d662e5",
            "a3c061c002e84622b4849e05c6f6b0e3",
            "b47cad15871e49b4bfe2b79378cb5221",
            "4b962961bfcf462e90d97a3ebff7bc42",
            "a0263aa6dd384737af8aeb081ad39b3c",
            "4b70cc431f18457b909e478258e90eba",
            "754825bbb82e41039789add16241ad44",
            "fdce2e64e7df452ea5b9cc75912ebaeb",
            "57b966dfe79d42868034b00e9c304cfd",
            "71ca3a28ed254afa9c0e376bbb49701d",
            "8b19404dce8f4f228307b6c80ce7ba6a",
            "34750478058c45e39da310161c8516ae",
            "d96fd052aa624996819acc089bb8f394",
            "7ba17a58b15144ecb6ef2b673dba78a6",
            "43f132919b7149c090238c27b9a1da93",
            "0a5010dbe366475ebda4efb974a58739",
            "8fdb9f2dda7145f584737feb63b11441",
            "321df85067464886b1b87870d57985ba",
            "b745284c9d8341669b82f33e96ffd85e",
            "b7838ce6cc97440cbbf1ea44d9b34d9d",
            "d55748734fbd4ba69f7b59abf5b83722",
            "efe980cb68a24a56929d3ce05acc0f92",
            "9b95d285b12841d099bf6a7633fc2267",
            "5fa6cadccd1248909e3624bb67750926",
            "e8813ad47e3d46d28c7a8e6ac48b92b7",
            "1e7ad2d02e41464abebf12d2cf087434",
            "26c3e645682b4b84876911fd9c5b0840",
            "7f0f48b6d14f4f628a63a1da3f8c33c5",
            "a16878cffbef45a3b4aeed385996dfc4",
            "3ecb31fe9dcb4e7ca65a736927622ade",
            "f65ce961a1ed44bf841d0bc3ba6d2d9c",
            "3c6299beea8146c7b1fb93c84adfe8d7",
            "4ebae1f11f364f19be2730fa3fcc795c"
          ]
        },
        "id": "V3u5K_1VAM91",
        "outputId": "0a878140-5d95-4519-b469-edfe06f88b23"
      },
      "execution_count": 5,
      "outputs": [
        {
          "output_type": "display_data",
          "data": {
            "text/plain": [
              "Downloading:   0%|          | 0.00/2.69M [00:00<?, ?B/s]"
            ],
            "application/vnd.jupyter.widget-view+json": {
              "version_major": 2,
              "version_minor": 0,
              "model_id": "fba80aca0f66418cba5b61fd08d662e5"
            }
          },
          "metadata": {}
        },
        {
          "output_type": "display_data",
          "data": {
            "text/plain": [
              "Downloading:   0%|          | 0.00/0.98k [00:00<?, ?B/s]"
            ],
            "application/vnd.jupyter.widget-view+json": {
              "version_major": 2,
              "version_minor": 0,
              "model_id": "34750478058c45e39da310161c8516ae"
            }
          },
          "metadata": {}
        },
        {
          "output_type": "stream",
          "name": "stderr",
          "text": [
            "The tokenizer class you load from this checkpoint is not the same type as the class this function is called from. It may result in unexpected tokenization. \n",
            "The tokenizer class you load from this checkpoint is 'GPT2Tokenizer'. \n",
            "The class this function is called from is 'PreTrainedTokenizerFast'.\n",
            "/usr/local/lib/python3.7/dist-packages/transformers/models/auto/modeling_auto.py:925: FutureWarning: The class `AutoModelWithLMHead` is deprecated and will be removed in a future version. Please use `AutoModelForCausalLM` for causal language models, `AutoModelForMaskedLM` for masked language models and `AutoModelForSeq2SeqLM` for encoder-decoder models.\n",
            "  FutureWarning,\n"
          ]
        },
        {
          "output_type": "display_data",
          "data": {
            "text/plain": [
              "Downloading:   0%|          | 0.00/490M [00:00<?, ?B/s]"
            ],
            "application/vnd.jupyter.widget-view+json": {
              "version_major": 2,
              "version_minor": 0,
              "model_id": "9b95d285b12841d099bf6a7633fc2267"
            }
          },
          "metadata": {}
        }
      ]
    },
    {
      "cell_type": "code",
      "source": [
        "#test tokenizer\n",
        "print(tokenizer.tokenize(\"안녕하세요. 한국어 GPT-2 입니다.😤:)l^o\"))  #문장을 토크나이저로 나눈다\n",
        "\n",
        "#test model ouput\n",
        "text = \"\"\"저는 성격상 낯을 가리는 경향이 있기 때문에 모르는 사람을 많이 만나서 응대하는 것 보다 백엔드 개발을 선호합니다. 또한 저는 백엔드 개발을 하고 싶어서 해당 직무에 지원한 만큼 백엔드 개발을 선호합니다. \"\"\"\n",
        "input_ids = tokenizer.encode(text)\n",
        "gen_ids = model.generate(torch.tensor([input_ids]),\n",
        "                           max_length=128,\n",
        "                           repetition_penalty=2.0,\n",
        "                           pad_token_id=tokenizer.pad_token_id,\n",
        "                           eos_token_id=tokenizer.eos_token_id,\n",
        "                           bos_token_id=tokenizer.bos_token_id,\n",
        "                           use_cache=True\n",
        "                        )\n",
        "generated = tokenizer.decode(gen_ids[0,:].tolist())\n",
        "print(generated)"
      ],
      "metadata": {
        "colab": {
          "base_uri": "https://localhost:8080/"
        },
        "id": "L669d_hDAtaB",
        "outputId": "0e6ec957-ccb3-4b54-8725-5e42f48ee6b7"
      },
      "execution_count": 6,
      "outputs": [
        {
          "output_type": "stream",
          "name": "stdout",
          "text": [
            "['▁안녕', '하', '세', '요.', '▁한국어', '▁G', 'P', 'T', '-2', '▁입', '니다.', '😤', ':)', 'l^o']\n",
            "저는 성격상 낯을 가리는 경향이 있기 때문에 모르는 사람을 많이 만나서 응대하는 것 보다 백엔드 개발을 선호합니다. 또한 저는 백엔드 개발을 하고 싶어서 해당 직무에 지원한 만큼 백엔드 개발을 선호합니다. ᄒ\n",
            "이런저렇게 다양한 분야의 전문가들과 함께 하는 것이 좋겠습니다.</d> 오늘은 제가 좋아하는 과자 맛집 중 하나인 '와인나라' 를 소개해드리려고 합니다.\n",
            "저는 와인을 좋아해서 와인나라에 자주 들렀습니다.\n",
            "그곳에서 직접 만든 수제맥주를 마셔보고 싶은 마음에 찾아갔는데요.\n",
            "제가 선택한 곳은 바로 이 곳입니다.\n",
            "바로 이곳, 일명 '오렌지\n"
          ]
        }
      ]
    },
    {
      "cell_type": "markdown",
      "source": [
        "##dataset 불러오기"
      ],
      "metadata": {
        "id": "u_o5top-BJfO"
      }
    },
    {
      "cell_type": "code",
      "source": [
        "with open('/content/drive/MyDrive/datasets/interview.csv') as f:\n",
        "    lines = f.read()\n",
        "lines=\" \".join(lines.split())\n",
        "\n",
        "lines=re.sub('\"', ' ', lines)\n",
        "lines=re.sub(\"'\", ' ', lines)"
      ],
      "metadata": {
        "id": "iztvg5cKBHbm"
      },
      "execution_count": 7,
      "outputs": []
    },
    {
      "cell_type": "markdown",
      "source": [
        "##data 추가 후 train"
      ],
      "metadata": {
        "id": "5iekG8zuBVzC"
      }
    },
    {
      "cell_type": "markdown",
      "source": [
        "###train/test 데이터 분할"
      ],
      "metadata": {
        "id": "8f-vm32SBoJb"
      }
    },
    {
      "cell_type": "code",
      "source": [
        "#model input output tokenizer\n",
        "class TransformersTokenizer(Transform):\n",
        "    def __init__(self, tokenizer): self.tokenizer = tokenizer\n",
        "    def encodes(self, x): \n",
        "        toks = self.tokenizer.tokenize(x)\n",
        "        return tensor(self.tokenizer.convert_tokens_to_ids(toks))\n",
        "    def decodes(self, x): return TitledStr(self.tokenizer.decode(x.cpu().numpy()))\n",
        "\n",
        "#split data\n",
        "train=lines[:int(len(lines)*0.9)]\n",
        "test=lines[int(len(lines)*0.9):]\n",
        "splits = [[0],[1]]\n",
        "\n",
        "#init dataloader\n",
        "tls = TfmdLists([train,test], TransformersTokenizer(tokenizer), splits=splits, dl_type=LMDataLoader)\n",
        "batch,seq_len = 8,256\n",
        "dls = tls.dataloaders(bs=batch, seq_len=seq_len)\n",
        "dls.show_batch(max_n=2)"
      ],
      "metadata": {
        "colab": {
          "base_uri": "https://localhost:8080/",
          "height": 529
        },
        "id": "89Ly7fIhBVF2",
        "outputId": "4fb56331-bac3-4008-d682-1b555d57e352"
      },
      "execution_count": 8,
      "outputs": [
        {
          "output_type": "display_data",
          "data": {
            "text/plain": [
              "<IPython.core.display.HTML object>"
            ],
            "text/html": [
              "<table border=\"1\" class=\"dataframe\">\n",
              "  <thead>\n",
              "    <tr style=\"text-align: right;\">\n",
              "      <th></th>\n",
              "      <th>text</th>\n",
              "      <th>text_</th>\n",
              "    </tr>\n",
              "  </thead>\n",
              "  <tbody>\n",
              "    <tr>\n",
              "      <th>0</th>\n",
              "      <td>1,질문,응답 2,고객을 직접 응대하는 아르바이트를 한 경험이 있나요? 어떤 어려움이 있었나요?,컨벤션 홀에서 하는 행사에서 유인물을 나눠주거나 관람하지 않는 사람에게 홍보하는 아르바이트를 한 경험이 있습니다. 당시 주 타겟층은 아이였고 아이의 관심을 끌면서 홍보를 하는 것이 힘들었습니다. 아이의 흥미를 끌기 위해 아이가 흥미 있을만한 디즈니 관련 제품을 시연하며 홍보를 했습니다. 3,고객을 직접 응대하며 니즈를 파악하는 업무와 백엔드에서 개발을 하는 업무 중에 무엇을 선호하나요?,저는 성격상 낯을 가리는 경향이 있기 때문에 모르는 사람을 많이 만나서 응대하는 것 보다 백엔드 개발을 선호합니다. 또한 저는 백엔드 개발을 하고 싶어서 해당 직무에 지원한 만큼 백엔드 개발을 선호합니다. 4,만약 본인이 원하는 개발을 맡지 못하고 다른 개발을 맡기면 어떻게 할 것인가요?,저는 원래 가상현실과 증강현실을 하고 싶었습니다. 하지만 그 곳에서 웹과 인프라를 맡게 되었고 거기서도 흥미를 느낄 수 있었기 때문에 현재는 이 일을 직무로 하고 싶어하고 있습니다. 이렇듯 다른 업무라도 그 곳에서 흥미를 느끼고 잘 할 수 있을 것이라 생각합니다. 5,자기소개서에 쓰여진 프로젝트에서 자신의 역할을 자세히 설명해 주세요, 교내 데이터</td>\n",
              "      <td>질문,응답 2,고객을 직접 응대하는 아르바이트를 한 경험이 있나요? 어떤 어려움이 있었나요?,컨벤션 홀에서 하는 행사에서 유인물을 나눠주거나 관람하지 않는 사람에게 홍보하는 아르바이트를 한 경험이 있습니다. 당시 주 타겟층은 아이였고 아이의 관심을 끌면서 홍보를 하는 것이 힘들었습니다. 아이의 흥미를 끌기 위해 아이가 흥미 있을만한 디즈니 관련 제품을 시연하며 홍보를 했습니다. 3,고객을 직접 응대하며 니즈를 파악하는 업무와 백엔드에서 개발을 하는 업무 중에 무엇을 선호하나요?,저는 성격상 낯을 가리는 경향이 있기 때문에 모르는 사람을 많이 만나서 응대하는 것 보다 백엔드 개발을 선호합니다. 또한 저는 백엔드 개발을 하고 싶어서 해당 직무에 지원한 만큼 백엔드 개발을 선호합니다. 4,만약 본인이 원하는 개발을 맡지 못하고 다른 개발을 맡기면 어떻게 할 것인가요?,저는 원래 가상현실과 증강현실을 하고 싶었습니다. 하지만 그 곳에서 웹과 인프라를 맡게 되었고 거기서도 흥미를 느낄 수 있었기 때문에 현재는 이 일을 직무로 하고 싶어하고 있습니다. 이렇듯 다른 업무라도 그 곳에서 흥미를 느끼고 잘 할 수 있을 것이라 생각합니다. 5,자기소개서에 쓰여진 프로젝트에서 자신의 역할을 자세히 설명해 주세요, 교내 데이터</td>\n",
              "    </tr>\n",
              "    <tr>\n",
              "      <th>1</th>\n",
              "      <td>일을 하고 싶습니다. 61,소프트웨어 코딩에서 volatile이란 무엇입니까?, 갑자기 기억이 나지 않아 제대로 답변하지 못했습니다. volatile이란 말 그대로 휘발성이 있는, 날라가는 성질이 있는 이라는 뜻입니다. 변수 선언 시 앞에 volatile을 붙이게 되면, 이 변수의 내용이 언제든지 변할 수 있기 때문에 최적화 하지 말라는 뜻입니다.  62,협업(팀워크)에 중요한 역량은?,협업하는데 있어서 책임감이 가장 중요하다고 생각합니다. 서로의 목적 수행에 있어서 책임감을 가지고 일을 해낸다면 최고의 성취감을 느낄 수 있고 모두의 시너지를 발휘하여 공동의 목표 달성에 성공할 수 있기 때문입니다. 63,휴학 기간에 무엇을 하였나, 아버지가 전기 설비 쪽 일을 하시는데, 약 반년 정도 아버지를 도와 일을 하면서 많은 것을 배웠다고 답변했습니다.  64,직무 관련 과목 중 학점이 낮은 것이 있는데 무슨 이유인가?,4-1 과목이어서 취업 준비 때문에 공부가 미흡했었다고 솔직히 말하고 방학 때 다시 부족한 부분을 보충했다고 답변했습니다. 어느 부분을 보충했는지 구체적으로 설명했습니다. 65,지원한 직무에서 이루고 싶은 목표,평소 생각해왔던 진심어린 목표가 있었기 때문에 그대로 답변했습니다. 억지로 지어내지 않고 평소에도 생각해왔기</td>\n",
              "      <td>하고 싶습니다. 61,소프트웨어 코딩에서 volatile이란 무엇입니까?, 갑자기 기억이 나지 않아 제대로 답변하지 못했습니다. volatile이란 말 그대로 휘발성이 있는, 날라가는 성질이 있는 이라는 뜻입니다. 변수 선언 시 앞에 volatile을 붙이게 되면, 이 변수의 내용이 언제든지 변할 수 있기 때문에 최적화 하지 말라는 뜻입니다.  62,협업(팀워크)에 중요한 역량은?,협업하는데 있어서 책임감이 가장 중요하다고 생각합니다. 서로의 목적 수행에 있어서 책임감을 가지고 일을 해낸다면 최고의 성취감을 느낄 수 있고 모두의 시너지를 발휘하여 공동의 목표 달성에 성공할 수 있기 때문입니다. 63,휴학 기간에 무엇을 하였나, 아버지가 전기 설비 쪽 일을 하시는데, 약 반년 정도 아버지를 도와 일을 하면서 많은 것을 배웠다고 답변했습니다.  64,직무 관련 과목 중 학점이 낮은 것이 있는데 무슨 이유인가?,4-1 과목이어서 취업 준비 때문에 공부가 미흡했었다고 솔직히 말하고 방학 때 다시 부족한 부분을 보충했다고 답변했습니다. 어느 부분을 보충했는지 구체적으로 설명했습니다. 65,지원한 직무에서 이루고 싶은 목표,평소 생각해왔던 진심어린 목표가 있었기 때문에 그대로 답변했습니다. 억지로 지어내지 않고 평소에도 생각해왔기 때문에</td>\n",
              "    </tr>\n",
              "  </tbody>\n",
              "</table>"
            ]
          },
          "metadata": {}
        }
      ]
    },
    {
      "cell_type": "markdown",
      "source": [
        "###loss 감소 부분 찾기"
      ],
      "metadata": {
        "id": "mSKPhWa5BtDR"
      }
    },
    {
      "cell_type": "code",
      "source": [
        "#gpt2 ouput is tuple, we need just one val\n",
        "class DropOutput(Callback):\n",
        "    def after_pred(self): self.learn.pred = self.pred[0]\n",
        "        \n",
        "        \n",
        "learn = Learner(dls, model, loss_func=CrossEntropyLossFlat(), cbs=[DropOutput], metrics=Perplexity()).to_fp16()\n",
        "lr=learn.lr_find()\n",
        "print(lr)"
      ],
      "metadata": {
        "colab": {
          "base_uri": "https://localhost:8080/",
          "height": 301
        },
        "id": "ihDQtYb8Bk1_",
        "outputId": "29f14280-0244-4be1-ccb1-6e1f863b3303"
      },
      "execution_count": 9,
      "outputs": [
        {
          "output_type": "display_data",
          "data": {
            "text/plain": [
              "<IPython.core.display.HTML object>"
            ],
            "text/html": [
              "\n",
              "<style>\n",
              "    /* Turns off some styling */\n",
              "    progress {\n",
              "        /* gets rid of default border in Firefox and Opera. */\n",
              "        border: none;\n",
              "        /* Needs to be in here for Safari polyfill so background images work as expected. */\n",
              "        background-size: auto;\n",
              "    }\n",
              "    .progress-bar-interrupted, .progress-bar-interrupted::-webkit-progress-bar {\n",
              "        background: #F44336;\n",
              "    }\n",
              "</style>\n"
            ]
          },
          "metadata": {}
        },
        {
          "output_type": "display_data",
          "data": {
            "text/plain": [
              "<IPython.core.display.HTML object>"
            ],
            "text/html": [
              ""
            ]
          },
          "metadata": {}
        },
        {
          "output_type": "stream",
          "name": "stdout",
          "text": [
            "SuggestedLRs(lr_min=0.012022644281387329, lr_steep=0.10000000149011612)\n"
          ]
        },
        {
          "output_type": "display_data",
          "data": {
            "text/plain": [
              "<Figure size 432x288 with 1 Axes>"
            ],
            "image/png": "[encoded data removed]"
          },
          "metadata": {
            "needs_background": "light"
          }
        }
      ]
    },
    {
      "cell_type": "markdown",
      "source": [
        "####loss 감소 부분: 10^-7 ~ 10^-3"
      ],
      "metadata": {
        "id": "kqUbi_u_CG_i"
      }
    },
    {
      "cell_type": "markdown",
      "source": [
        "###기존 학습 모델에서 새로운 데이터 layer만 추가해서 학습"
      ],
      "metadata": {
        "id": "mlaRL7qPB8Es"
      }
    },
    {
      "cell_type": "code",
      "source": [
        "learn.fit_one_cycle(5,1e-4)  # 1e-4 는 10^-4"
      ],
      "metadata": {
        "colab": {
          "base_uri": "https://localhost:8080/",
          "height": 206
        },
        "id": "AbK6V2AFCCWT",
        "outputId": "1b67820f-da90-4b62-c599-cbfc2b291d91"
      },
      "execution_count": 10,
      "outputs": [
        {
          "output_type": "display_data",
          "data": {
            "text/plain": [
              "<IPython.core.display.HTML object>"
            ],
            "text/html": [
              "\n",
              "<style>\n",
              "    /* Turns off some styling */\n",
              "    progress {\n",
              "        /* gets rid of default border in Firefox and Opera. */\n",
              "        border: none;\n",
              "        /* Needs to be in here for Safari polyfill so background images work as expected. */\n",
              "        background-size: auto;\n",
              "    }\n",
              "    .progress-bar-interrupted, .progress-bar-interrupted::-webkit-progress-bar {\n",
              "        background: #F44336;\n",
              "    }\n",
              "</style>\n"
            ]
          },
          "metadata": {}
        },
        {
          "output_type": "display_data",
          "data": {
            "text/plain": [
              "<IPython.core.display.HTML object>"
            ],
            "text/html": [
              "<table border=\"1\" class=\"dataframe\">\n",
              "  <thead>\n",
              "    <tr style=\"text-align: left;\">\n",
              "      <th>epoch</th>\n",
              "      <th>train_loss</th>\n",
              "      <th>valid_loss</th>\n",
              "      <th>perplexity</th>\n",
              "      <th>time</th>\n",
              "    </tr>\n",
              "  </thead>\n",
              "  <tbody>\n",
              "    <tr>\n",
              "      <td>0</td>\n",
              "      <td>4.275125</td>\n",
              "      <td>3.702156</td>\n",
              "      <td>40.534615</td>\n",
              "      <td>00:29</td>\n",
              "    </tr>\n",
              "    <tr>\n",
              "      <td>1</td>\n",
              "      <td>3.745344</td>\n",
              "      <td>2.948642</td>\n",
              "      <td>19.080021</td>\n",
              "      <td>00:29</td>\n",
              "    </tr>\n",
              "    <tr>\n",
              "      <td>2</td>\n",
              "      <td>3.155298</td>\n",
              "      <td>2.397833</td>\n",
              "      <td>10.999313</td>\n",
              "      <td>00:29</td>\n",
              "    </tr>\n",
              "    <tr>\n",
              "      <td>3</td>\n",
              "      <td>2.647734</td>\n",
              "      <td>2.083642</td>\n",
              "      <td>8.033670</td>\n",
              "      <td>00:29</td>\n",
              "    </tr>\n",
              "    <tr>\n",
              "      <td>4</td>\n",
              "      <td>2.263861</td>\n",
              "      <td>2.011103</td>\n",
              "      <td>7.471551</td>\n",
              "      <td>00:29</td>\n",
              "    </tr>\n",
              "  </tbody>\n",
              "</table>"
            ]
          },
          "metadata": {}
        }
      ]
    },
    {
      "cell_type": "markdown",
      "source": [
        "###save model"
      ],
      "metadata": {
        "id": "kexAVy7WCskO"
      }
    },
    {
      "cell_type": "code",
      "source": [
        "learn.model.save_pretrained(\"/content/drive/MyDrive/result/KoGpt2\")  #모델 저장"
      ],
      "metadata": {
        "id": "y8Vd_umaCr0Z"
      },
      "execution_count": 11,
      "outputs": []
    },
    {
      "cell_type": "markdown",
      "source": [
        "##test"
      ],
      "metadata": {
        "id": "TpuHgu2ADOJ5"
      }
    },
    {
      "cell_type": "code",
      "source": [
        "prompt=\"저는 성격상 낯을 가리는 경향이 있기 때문에 모르는 사람을 많이 만나서 응대하는 것 보다 백엔드 개발을 선호합니다. 또한 저는 백엔드 개발을 하고 싶어서 해당 직무에 지원한 만큼 백엔드 개발을 선호합니다. \"\n",
        "prompt_ids = tokenizer.encode(prompt)\n",
        "inp = tensor(prompt_ids)[None].cuda()\n",
        "preds = learn.model.generate(inp,\n",
        "                           max_length=500,\n",
        "                           pad_token_id=tokenizer.pad_token_id,\n",
        "                           eos_token_id=tokenizer.eos_token_id,\n",
        "                           bos_token_id=tokenizer.bos_token_id,\n",
        "                           repetition_penalty=2.0,       \n",
        "                           use_cache=True\n",
        "                          ) \n",
        "sentence = tokenizer.decode(preds[0].cpu().numpy())\n",
        "print(sentence)"
      ],
      "metadata": {
        "colab": {
          "base_uri": "https://localhost:8080/"
        },
        "id": "RXQ_VSldDPD_",
        "outputId": "5e8899f9-72b3-40a8-87cc-5f08e80e0b84"
      },
      "execution_count": 13,
      "outputs": [
        {
          "output_type": "stream",
          "name": "stdout",
          "text": [
            "저는 성격상 낯을 가리는 경향이 있기 때문에 모르는 사람을 많이 만나서 응대하는 것 보다 백엔드 개발을 선호합니다. 또한 저는 백엔드 개발을 하고 싶어서 해당 직무에 지원한 만큼 백엔드 개발을 선호합니다.  499,본인이 가장 힘들었던 순간과 어떻게 극복했는지?, 제가 일탈했던 것은 부모님이 결별하신 것이 직접적인 계기가 되어 빚어진 것입니다. 그 충격으로 인해 혼자 할 수 있는 일이 많아져 혼자서 감당하기 힘든 상황에 놓였습니다. 그래서 아르바이트를 하면서도, 친구들과 놀기도 해서 하루하루가 힘겹기만 했었지 얼마나 많은 것을 배웠는지 모른다고 하셨고 그래도 극복할 자신이 있다고 말씀 드렸습니다. 451,가장 기억 남는 프로젝트는 무엇입니까. 라고 질문하셔서, 제 인생에서 제일 큰 영향을 준 프로젝트라고 답변했음 352,최근 이슈인 EUV(우직하다고 하는 Volatile) 관련해서 말함. 최근 유럽연합(Europe) 통계나 통계를 보면 ECB의 물가안정 목표치는 2%인데 실제로는 이보다 훨씬 높은 3%를 설정하고 있어 인플레이션이 우려된다고 함. 이를 달성하기 위해선 중앙은행들이 통화정책을 운용해야 한다고 생각한다고 대답함 343,마지막 한마디 하겠음,왜 유로존 국가 중 한국만 유독 그렇게 생각하는거죠?\n",
            "그 이유는 바로 우리 경제가 더블딥(이중침체)에 빠질 가능성이 높다는 전망 때문입니다. 따라서 지금 이 위기를 기회로 삼아야하고, 더 나아가 새로운 성장동력을 창출할수 있도록 해야하고 그러기 위해서는 한국은행도 한은 같은 역할을 해내야만 한다는 생각이 들었기 때문이라고 설명하면서 추가적인 금리 인하를 단행하지 않는다면 금리를 인하해 경기를 부양시켜야한다는 생각을 갖게 됐다는 말을 하였음. 394,우리 경제에 대해 아는 게 있습니까 (실제로는 잘 모르겠지만 다른 나라보다 먼저 알고 있었음) 왜 이렇게 보는 거 같냐면,저는 항상 자신있게 말할 준비가 안되어있다. 하지만 가끔씩 외국인들에게 물어보는 질문을 받곤 한다. 그런 적이 한두번 정도 있다. 내가 만약 외국인들 앞에서 이런저런 얘기를 하면 다 거짓말을 하게 된다면 그럴수록 더욱더 화가 나고, 그러면 나중에는 화를 내기 쉽상이니깐요. 405,다른 나라의 예를 들어보세요,한국처럼 수출기업들은 자국통화를 평가절하(환율 상승시 차익)을 시킬 때 환율 하락분을 보전해주는 제도를 만들어두는데, 이는 굉장히 고평가된 지표이기때문에 어느정도 인정하는 바이다. 다만 지금은 상황이 좀 어려워져서 어쩔수가 없다. 오히려 역외시장에서 달러를\n"
          ]
        }
      ]
    }
  ]
}