{
  "nbformat": 4,
  "nbformat_minor": 0,
  "metadata": {
    "colab": {
      "name": "segmentation-test.ipynb",
      "provenance": [],
      "mount_file_id": "1SBBZqPXGb4LAp3xrplCesm5fVhyTs6Jk",
      "authorship_tag": "ABX9TyMPr+CRh/Ei0VlJQ8pOVH1N",
      "include_colab_link": true
    },
    "kernelspec": {
      "name": "python3",
      "display_name": "Python 3"
    },
    "language_info": {
      "name": "python"
    },
    "accelerator": "GPU"
  },
  "cells": [
    {
      "cell_type": "markdown",
      "metadata": {
        "id": "view-in-github",
        "colab_type": "text"
      },
      "source": [
        "<a href=\"https://colab.research.google.com/github/dakyommii/study/blob/main/test/segmentation_test.ipynb\" target=\"_parent\"><img src=\"https://colab.research.google.com/assets/colab-badge.svg\" alt=\"Open In Colab\"/></a>"
      ]
    },
    {
      "cell_type": "markdown",
      "source": [
        "#segmentation"
      ],
      "metadata": {
        "id": "xSfPfZ8_AXos"
      }
    },
    {
      "cell_type": "code",
      "source": [
        "import numpy as np\n",
        "import cv2\n",
        "import matplotlib.pyplot as plt\n",
        "from tqdm import tqdm\n",
        "\n",
        "import glob, os"
      ],
      "metadata": {
        "id": "CNUf_zH6AVXc"
      },
      "execution_count": 1,
      "outputs": []
    },
    {
      "cell_type": "code",
      "source": [
        "!git clone https://github.com/kairess/human_segmentation"
      ],
      "metadata": {
        "colab": {
          "base_uri": "https://localhost:8080/"
        },
        "id": "yYRhAJMTDSa4",
        "outputId": "c7915884-8453-4cc1-85ee-42e4e0b92998"
      },
      "execution_count": 6,
      "outputs": [
        {
          "output_type": "stream",
          "name": "stdout",
          "text": [
            "Cloning into 'human_segmentation'...\n",
            "remote: Enumerating objects: 65, done.\u001b[K\n",
            "remote: Total 65 (delta 0), reused 0 (delta 0), pack-reused 65\u001b[K\n",
            "Unpacking objects: 100% (65/65), done.\n"
          ]
        }
      ]
    },
    {
      "cell_type": "code",
      "source": [
        "!unzip -qq \"/content/drive/MyDrive/datasets/LV-MHP-v1.zip\"  #human parsing dataset"
      ],
      "metadata": {
        "id": "nTMPL_pGG4kF"
      },
      "execution_count": 9,
      "outputs": []
    },
    {
      "cell_type": "code",
      "source": [
        "BASE_PATH = '/content/drive/MyDrive/datasets/LV-MHP-v1/images/'\n",
        "IMG_WIDTH, IMG_HEIGHT = 256, 256\n",
        "N_CLASSES = 2\n",
        "\n",
        "with open('/content/drive/MyDrive/datasets/LV-MHP-v1/train_list.txt', 'r') as f:\n",
        "    train_list = f.readlines()\n",
        "    \n",
        "x_train = np.zeros((len(train_list), IMG_HEIGHT, IMG_WIDTH, 3), dtype=np.uint8)\n",
        "y_train = np.zeros((len(train_list), IMG_HEIGHT, IMG_WIDTH, 2), dtype=np.uint8)\n",
        "    \n",
        "for i, train_path in enumerate(tqdm(train_list)):\n",
        "    img_path = os.path.join(BASE_PATH, train_path.split(' ')[0])\n",
        "    label_path = os.path.join(BASE_PATH, train_path.split(' ')[-1].strip())\n",
        "    \n",
        "    img = cv2.imread(img_path.strip(), cv2.IMREAD_COLOR)  #줄바꿈 삭제 위해 .strip() 필수\n",
        "    label_img = cv2.imread(label_path, cv2.IMREAD_GRAYSCALE)\n",
        "\n",
        "    \n",
        "    # result\n",
        "    im = np.zeros((IMG_WIDTH, IMG_HEIGHT, 3), dtype=np.uint8)\n",
        "    lim = np.zeros((IMG_WIDTH, IMG_HEIGHT), dtype=np.uint8)\n",
        "\n",
        "    if img.shape[0] >= img.shape[1]:\n",
        "        scale = img.shape[0] / IMG_HEIGHT\n",
        "        new_width = int(img.shape[1] / scale)\n",
        "        diff = (IMG_WIDTH - new_width) // 2\n",
        "        img = cv2.resize(img, (new_width, IMG_HEIGHT))\n",
        "        label_img = cv2.resize(label_img, (new_width, IMG_HEIGHT))\n",
        "\n",
        "        im[:, diff:diff + new_width, :] = img\n",
        "        lim[:, diff:diff + new_width] = label_img\n",
        "    else:\n",
        "        scale = img.shape[1] / IMG_WIDTH\n",
        "        new_height = int(img.shape[0] / scale)\n",
        "        diff = (IMG_HEIGHT - new_height) // 2\n",
        "        img = cv2.resize(img, (IMG_WIDTH, new_height))\n",
        "        label_img = cv2.resize(label_img, (IMG_WIDTH, new_height))\n",
        "        im[diff:diff + new_height, :, :] = img\n",
        "        lim[diff:diff + new_height, :] = label_img\n",
        "        \n",
        "    seg_labels = np.zeros((IMG_HEIGHT, IMG_WIDTH, N_CLASSES), dtype=np.uint8)\n",
        "    for c in range(N_CLASSES):\n",
        "        seg_labels[:, :, c] = (lim == c).astype(np.uint8)\n",
        "    \n",
        "    x_train[i] = im\n",
        "    y_train[i] = seg_labels\n",
        "    \n",
        "plt.subplot(1, 3, 1)\n",
        "plt.imshow(x_train[0])\n",
        "plt.subplot(1, 3, 2)\n",
        "plt.imshow(y_train[0,:,:,0])\n",
        "plt.subplot(1, 3, 3)\n",
        "plt.imshow(y_train[0,:,:,1])"
      ],
      "metadata": {
        "colab": {
          "base_uri": "https://localhost:8080/",
          "height": 186
        },
        "id": "6_tjmYpODIFj",
        "outputId": "e2769bcf-cc26-4f92-c6a4-dee1e91aa3a9"
      },
      "execution_count": 43,
      "outputs": [
        {
          "output_type": "stream",
          "name": "stderr",
          "text": [
            "100%|██████████| 4000/4000 [21:54<00:00,  3.04it/s]\n"
          ]
        },
        {
          "output_type": "execute_result",
          "data": {
            "text/plain": [
              "<matplotlib.image.AxesImage at 0x7f499fdbf050>"
            ]
          },
          "metadata": {},
          "execution_count": 43
        },
        {
          "output_type": "display_data",
          "data": {
            "text/plain": [
              "<Figure size 432x288 with 3 Axes>"
            ],
            "image/png": "[encoded data removed]"
          },
          "metadata": {
            "needs_background": "light"
          }
        }
      ]
    },
    {
      "cell_type": "code",
      "source": [
        "np.savez_compressed('/content/drive/MyDrive/segmentation/data/x_train.npz', data=x_train)\n",
        "np.savez_compressed('/content/drive/MyDrive/segmentation/data/y_train.npz', data=y_train)"
      ],
      "metadata": {
        "id": "tlXPclbIQ01J"
      },
      "execution_count": 45,
      "outputs": []
    },
    {
      "cell_type": "code",
      "source": [
        "f=open(\"/content/drive/MyDrive/segmentation/data/tiger_test.txt\",'w')\n",
        "\n",
        "for i in range(1,10):\n",
        "  f.write(\"/content/drive/MyDrive/tiger-minhwa/TMP0000%d.png\\n\"%i)\n",
        "\n",
        "for i in range(10,81):\n",
        "  f.write(\"/content/drive/MyDrive/tiger-minhwa/TMP000%d.png\\n\"%i)\n",
        "\n",
        "f.close()"
      ],
      "metadata": {
        "id": "Dco_D1h4ShTI"
      },
      "execution_count": 58,
      "outputs": []
    },
    {
      "cell_type": "code",
      "source": [
        "with open('/content/drive/MyDrive/segmentation/data/tiger_test.txt', 'r') as f:\n",
        "    test_list = f.readlines()\n",
        "    \n",
        "x_val = np.zeros((len(test_list), IMG_HEIGHT, IMG_WIDTH, 3), dtype=np.uint8)\n",
        "y_val = np.zeros((len(test_list), IMG_HEIGHT, IMG_WIDTH, 2), dtype=np.uint8)\n",
        "    \n",
        "for i, test_path in enumerate(tqdm(test_list)):\n",
        "    img_path = os.path.join(BASE_PATH, test_path.split(' ')[0])\n",
        "    label_path = os.path.join(BASE_PATH, test_path.split(' ')[-1].strip())\n",
        "    \n",
        "    img = cv2.imread(img_path.strip(), cv2.IMREAD_COLOR)\n",
        "    label_img = cv2.imread(label_path, cv2.IMREAD_GRAYSCALE)\n",
        "    \n",
        "    # result\n",
        "    im = np.zeros((IMG_WIDTH, IMG_HEIGHT, 3), dtype=np.uint8)\n",
        "    lim = np.zeros((IMG_WIDTH, IMG_HEIGHT), dtype=np.uint8)\n",
        "\n",
        "    if img.shape[0] >= img.shape[1]:\n",
        "        scale = img.shape[0] / IMG_HEIGHT\n",
        "        new_width = int(img.shape[1] / scale)\n",
        "        diff = (IMG_WIDTH - new_width) // 2\n",
        "        img = cv2.resize(img, (new_width, IMG_HEIGHT))\n",
        "        label_img = cv2.resize(label_img, (new_width, IMG_HEIGHT))\n",
        "\n",
        "        im[:, diff:diff + new_width, :] = img\n",
        "        lim[:, diff:diff + new_width] = label_img\n",
        "    else:\n",
        "        scale = img.shape[1] / IMG_WIDTH\n",
        "        new_height = int(img.shape[0] / scale)\n",
        "        diff = (IMG_HEIGHT - new_height) // 2\n",
        "        img = cv2.resize(img, (IMG_WIDTH, new_height))\n",
        "        label_img = cv2.resize(label_img, (IMG_WIDTH, new_height))\n",
        "        im[diff:diff + new_height, :, :] = img\n",
        "        lim[diff:diff + new_height, :] = label_img\n",
        "        \n",
        "    seg_labels = np.zeros((IMG_HEIGHT, IMG_WIDTH, N_CLASSES), dtype=np.uint8)\n",
        "    for c in range(N_CLASSES):\n",
        "        seg_labels[:, :, c] = (lim == c).astype(np.uint8)\n",
        "\n",
        "    x_val[i] = im\n",
        "    y_val[i] = seg_labels\n",
        "    \n",
        "plt.subplot(1, 3, 1)\n",
        "plt.imshow(x_val[-1])\n",
        "plt.subplot(1, 3, 2)\n",
        "plt.imshow(y_val[-1,:,:,0])\n",
        "plt.subplot(1, 3, 3)\n",
        "plt.imshow(y_val[-1,:,:,1])"
      ],
      "metadata": {
        "colab": {
          "base_uri": "https://localhost:8080/",
          "height": 186
        },
        "id": "shpIZE3XRLJr",
        "outputId": "37ea8c01-de27-48dc-b3ad-1f1cf7ab749e"
      },
      "execution_count": 60,
      "outputs": [
        {
          "output_type": "stream",
          "name": "stderr",
          "text": [
            "100%|██████████| 80/80 [00:30<00:00,  2.65it/s]\n"
          ]
        },
        {
          "output_type": "execute_result",
          "data": {
            "text/plain": [
              "<matplotlib.image.AxesImage at 0x7f499f75de50>"
            ]
          },
          "metadata": {},
          "execution_count": 60
        },
        {
          "output_type": "display_data",
          "data": {
            "text/plain": [
              "<Figure size 432x288 with 3 Axes>"
            ],
            "image/png": "[encoded data removed]"
          },
          "metadata": {
            "needs_background": "light"
          }
        }
      ]
    },
    {
      "cell_type": "code",
      "source": [
        "np.savez_compressed('/content/drive/MyDrive/segmentation/data/x_val.npz', data=x_val)\n",
        "np.savez_compressed('/content/drive/MyDrive/segmentation/data/y_val.npz', data=y_val)"
      ],
      "metadata": {
        "id": "uvXA08P8VNVb"
      },
      "execution_count": 61,
      "outputs": []
    },
    {
      "cell_type": "markdown",
      "source": [
        "###test - 여백있는 256*256 img 생성"
      ],
      "metadata": {
        "id": "xSb3rI1Lc0M1"
      }
    },
    {
      "cell_type": "code",
      "source": [
        "#img 경로 txt 파일 열기\n",
        "with open('/content/drive/MyDrive/segmentation/data/tiger_test.txt', 'r') as f:\n",
        "    train_list = f.readlines()\n",
        " \n",
        "for i, train_path in enumerate(tqdm(train_list)):\n",
        "    img_path = train_path.split(' ')[0]\n",
        "        \n",
        "    img = cv2.imread(img_path.strip(), cv2.IMREAD_COLOR)\n",
        "\n",
        "    IMG_WIDTH, IMG_HEIGHT = 256, 256\n",
        "\n",
        "    def preprocess(img):\n",
        "        im = np.zeros((IMG_WIDTH, IMG_HEIGHT, 3), dtype=np.uint8)\n",
        "\n",
        "        if img.shape[0] >= img.shape[1]:\n",
        "            scale = img.shape[0] / IMG_HEIGHT\n",
        "            new_width = int(img.shape[1] / scale)\n",
        "            diff = (IMG_WIDTH - new_width) // 2\n",
        "            img = cv2.resize(img, (new_width, IMG_HEIGHT))\n",
        "\n",
        "            im[:, diff:diff + new_width, :] = img\n",
        "        else:\n",
        "            scale = img.shape[1] / IMG_WIDTH\n",
        "            new_height = int(img.shape[0] / scale)\n",
        "            diff = (IMG_HEIGHT - new_height) // 2\n",
        "            img = cv2.resize(img, (IMG_WIDTH, new_height))\n",
        "\n",
        "            im[diff:diff + new_height, :, :] = img\n",
        "            \n",
        "        return im\n",
        "\n",
        "    img = preprocess(img)\n",
        "    #저장\n",
        "    cv2.imwrite(\"/content/drive/MyDrive/test/seg-tiger%d.png\"%(i+1),img)\n",
        "\n"
      ],
      "metadata": {
        "colab": {
          "base_uri": "https://localhost:8080/"
        },
        "id": "MPmil8CdWve8",
        "outputId": "9781db49-80c5-4e83-ecc5-d8c9622ec808"
      },
      "execution_count": 66,
      "outputs": [
        {
          "output_type": "stream",
          "name": "stderr",
          "text": [
            "100%|██████████| 80/80 [00:01<00:00, 41.11it/s]\n"
          ]
        }
      ]
    },
    {
      "cell_type": "code",
      "source": [
        "cv2.imwrite(\"/content/drive/MyDrive/test/seg-test.png\",img)"
      ],
      "metadata": {
        "colab": {
          "base_uri": "https://localhost:8080/"
        },
        "id": "jecbQD6NWWTD",
        "outputId": "cb23a1f5-3143-4700-f5f3-cbb17bdaae35"
      },
      "execution_count": 64,
      "outputs": [
        {
          "output_type": "execute_result",
          "data": {
            "text/plain": [
              "True"
            ]
          },
          "metadata": {},
          "execution_count": 64
        }
      ]
    }
  ]
}