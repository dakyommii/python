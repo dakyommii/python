{
  "nbformat": 4,
  "nbformat_minor": 0,
  "metadata": {
    "colab": {
      "provenance": [],
      "mount_file_id": "1k_hLSA4rWqszeOgWvja-g9IrDJQZN2n6",
      "authorship_tag": "ABX9TyNL5okYj9QxyEVKcQpuJKWh",
      "include_colab_link": true
    },
    "kernelspec": {
      "name": "python3",
      "display_name": "Python 3"
    },
    "language_info": {
      "name": "python"
    },
    "accelerator": "GPU",
    "gpuClass": "standard"
  },
  "cells": [
    {
      "cell_type": "markdown",
      "metadata": {
        "id": "view-in-github",
        "colab_type": "text"
      },
      "source": [
        "<a href=\"https://colab.research.google.com/github/dakyommii/study/blob/main/test/read_jsonl.ipynb\" target=\"_parent\"><img src=\"https://colab.research.google.com/assets/colab-badge.svg\" alt=\"Open In Colab\"/></a>"
      ]
    },
    {
      "cell_type": "code",
      "execution_count": 1,
      "metadata": {
        "colab": {
          "base_uri": "https://localhost:8080/"
        },
        "id": "1zuZyu003anJ",
        "outputId": "84b6f615-622d-4bda-c323-77626033b7a4"
      },
      "outputs": [
        {
          "output_type": "stream",
          "name": "stdout",
          "text": [
            "Looking in indexes: https://pypi.org/simple, https://us-python.pkg.dev/colab-wheels/public/simple/\n",
            "Collecting jsonlines\n",
            "  Downloading jsonlines-3.1.0-py3-none-any.whl (8.6 kB)\n",
            "Requirement already satisfied: attrs>=19.2.0 in /usr/local/lib/python3.9/dist-packages (from jsonlines) (22.2.0)\n",
            "Installing collected packages: jsonlines\n",
            "Successfully installed jsonlines-3.1.0\n"
          ]
        }
      ],
      "source": [
        "!pip install jsonlines"
      ]
    },
    {
      "cell_type": "code",
      "source": [
        "import jsonlines\n",
        "\n",
        "# id 정보를 모아서 저장하는 예시\n",
        "id_list = []\n",
        "\n",
        "# open 내의 디렉토리 및 파일 이름에 유의\n",
        "with jsonlines.open('/content/drive/MyDrive/seol/result/StyleGAN2-ada-pytorch/flower-minhwa/metric-fid50k_full.jsonl') as f:\n",
        "    for line in f:\n",
        "    \tprint(line)"
      ],
      "metadata": {
        "colab": {
          "base_uri": "https://localhost:8080/"
        },
        "id": "sjNIaWyr3g89",
        "outputId": "4f65749f-13d7-46f8-cf17-09de8bc40a61"
      },
      "execution_count": 4,
      "outputs": [
        {
          "output_type": "stream",
          "name": "stdout",
          "text": [
            "{'results': {'fid50k_full': 275.13045300278327}, 'metric': 'fid50k_full', 'total_time': 7157.724618911743, 'total_time_str': '1h 59m 18s', 'num_gpus': 1, 'snapshot_pkl': 'network-snapshot-000000.pkl', 'timestamp': 1681359079.429973}\n",
            "{'results': {'fid50k_full': 251.4086471002369}, 'metric': 'fid50k_full', 'total_time': 7144.903869628906, 'total_time_str': '1h 59m 05s', 'num_gpus': 1, 'snapshot_pkl': 'network-snapshot-000004.pkl', 'timestamp': 1681367188.0575285}\n",
            "{'results': {'fid50k_full': 229.86987825441366}, 'metric': 'fid50k_full', 'total_time': 7079.091750860214, 'total_time_str': '1h 57m 59s', 'num_gpus': 1, 'snapshot_pkl': 'network-snapshot-000008.pkl', 'timestamp': 1681375233.9728553}\n"
          ]
        }
      ]
    }
  ]
}