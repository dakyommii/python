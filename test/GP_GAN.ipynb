{
  "nbformat": 4,
  "nbformat_minor": 0,
  "metadata": {
    "colab": {
      "name": "GP-GAN",
      "provenance": [],
      "private_outputs": true,
      "collapsed_sections": [],
      "include_colab_link": true
    },
    "kernelspec": {
      "name": "python3",
      "display_name": "Python 3"
    },
    "accelerator": "GPU"
  },
  "cells": [
    {
      "cell_type": "markdown",
      "metadata": {
        "id": "view-in-github",
        "colab_type": "text"
      },
      "source": [
        "<a href=\"https://colab.research.google.com/github/dakyommii/study/blob/main/test/GP_GAN.ipynb\" target=\"_parent\"><img src=\"https://colab.research.google.com/assets/colab-badge.svg\" alt=\"Open In Colab\"/></a>"
      ]
    },
    {
      "cell_type": "code",
      "metadata": {
        "id": "mrm3XY0vwXR9"
      },
      "source": [
        "!git clone https://github.com/wuhuikai/GP-GAN.git"
      ],
      "execution_count": null,
      "outputs": []
    },
    {
      "cell_type": "code",
      "source": [
        "from google.colab import drive\n",
        "drive.mount('/content/drive')"
      ],
      "metadata": {
        "id": "ao6hPvh3vJ9k"
      },
      "execution_count": null,
      "outputs": []
    },
    {
      "cell_type": "code",
      "source": [
        "%cd drive"
      ],
      "metadata": {
        "id": "zrL_ncdRyUrz"
      },
      "execution_count": null,
      "outputs": []
    },
    {
      "cell_type": "code",
      "metadata": {
        "id": "UkvFVSeuwkhz"
      },
      "source": [
        "%cd MyDrive/GP-GAN"
      ],
      "execution_count": null,
      "outputs": []
    },
    {
      "cell_type": "code",
      "source": [
        "!pwd"
      ],
      "metadata": {
        "id": "_SwXidHsyWmC"
      },
      "execution_count": null,
      "outputs": []
    },
    {
      "cell_type": "markdown",
      "metadata": {
        "id": "TSh_NMomIxMm"
      },
      "source": [
        "Download the pretrained models"
      ]
    },
    {
      "cell_type": "code",
      "metadata": {
        "id": "9XYlvHXIG-PA"
      },
      "source": [
        "!gdown https://drive.google.com/uc?id=0Bybnpq8dvwudXzZFLU1iOXVOZ3c\n",
        "!gdown https://drive.google.com/uc?id=0Bybnpq8dvwudRzRLUm1xYmt6R1E\n",
        "!gdown https://drive.google.com/uc?id=0Bybnpq8dvwudOEFELWkzcGJJVjA"
      ],
      "execution_count": null,
      "outputs": []
    },
    {
      "cell_type": "markdown",
      "metadata": {
        "id": "rb9Tcna1I-p8"
      },
      "source": [
        "Install repo requirements"
      ]
    },
    {
      "cell_type": "code",
      "metadata": {
        "id": "MU0hDbizJDMN"
      },
      "source": [
        "%cd .."
      ],
      "execution_count": null,
      "outputs": []
    },
    {
      "cell_type": "code",
      "metadata": {
        "id": "-dFUHub0wph-"
      },
      "source": [
        "!pip install -r requirements/test/requirements.txt"
      ],
      "execution_count": null,
      "outputs": []
    },
    {
      "cell_type": "markdown",
      "metadata": {
        "id": "DE20NcM8FKoF"
      },
      "source": [
        "It's ok to restart the runtime, you will just have to cd into the correct directory again with %cd GP-GAN.\n",
        "\n",
        "Drag and drop 3 images into your GP-GAN/images/test_images folder on the left: The source image (the one you want to cut something out of), the destination image (where you want to add the cropped one), and the mask image(in png format)."
      ]
    },
    {
      "cell_type": "code",
      "metadata": {
        "id": "3Q8vepxPLjyW"
      },
      "source": [
        "%cd GP-GAN"
      ],
      "execution_count": null,
      "outputs": []
    },
    {
      "cell_type": "code",
      "source": [
        "!pip install chainer"
      ],
      "metadata": {
        "id": "rvVP_dgbuHOb"
      },
      "execution_count": null,
      "outputs": []
    },
    {
      "cell_type": "code",
      "metadata": {
        "id": "ifhGIEt3yzhj"
      },
      "source": [
        "!python run_gp_gan.py --src_image images/test_images/src.jpg --dst_image images/test_images/dst.jpg --mask_image images/test_images/mask.png --blended_image images/test_images/result_image.png"
      ],
      "execution_count": null,
      "outputs": []
    },
    {
      "cell_type": "code",
      "source": [
        "#phone\n",
        "!python run_gp_gan.py --src_image images/test_images/src.jpg --dst_image \"/content/drive/MyDrive/test/snow.png\" --mask_image images/test_images/mask.png --blended_image images/test_images/result_image.png"
      ],
      "metadata": {
        "id": "J7t3VbMh2b50"
      },
      "execution_count": null,
      "outputs": []
    },
    {
      "cell_type": "code",
      "metadata": {
        "id": "HahrT0smL3wr"
      },
      "source": [
        "from IPython.display import Image\n",
        "Image('images/test_images/result_image.png')"
      ],
      "execution_count": null,
      "outputs": []
    },
    {
      "cell_type": "markdown",
      "metadata": {
        "id": "iIbn_YMULyxa"
      },
      "source": [
        "Huzzah!  "
      ]
    },
    {
      "cell_type": "markdown",
      "metadata": {
        "id": "s06BKBDRGGIH"
      },
      "source": [
        "Here is another way of doing it (unsupervised):"
      ]
    },
    {
      "cell_type": "code",
      "metadata": {
        "id": "WUU0YFQt1kIe"
      },
      "source": [
        "!python run_gp_gan.py --src_image images/test_images/src.jpg --dst_image images/test_images/dst.jpg --mask_image images/test_images/mask.png --blended_image images/test_images/result_image_unsupervised.png --supervised False"
      ],
      "execution_count": null,
      "outputs": []
    },
    {
      "cell_type": "code",
      "metadata": {
        "id": "XwHI03YXNYxC"
      },
      "source": [
        "from IPython.display import Image\n",
        "Image('images/test_images/result_image_unsupervised.png')"
      ],
      "execution_count": null,
      "outputs": []
    },
    {
      "cell_type": "markdown",
      "metadata": {
        "id": "zwyIaneSGh1Z"
      },
      "source": [
        "Notebook Version by Tyler Suard, www.TylerSuard.com\n",
        "\n",
        "Contributed to https://github.com/wuhuikai/GP-GAN, a project by Wu Huikai"
      ]
    }
  ]
}