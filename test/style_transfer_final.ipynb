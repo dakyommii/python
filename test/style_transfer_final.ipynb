{
  "nbformat": 4,
  "nbformat_minor": 0,
  "metadata": {
    "colab": {
      "name": "style-transfer-final.ipynb",
      "provenance": [],
      "include_colab_link": true
    },
    "kernelspec": {
      "name": "python3",
      "display_name": "Python 3"
    },
    "language_info": {
      "name": "python"
    },
    "accelerator": "GPU",
    "gpuClass": "standard"
  },
  "cells": [
    {
      "cell_type": "markdown",
      "metadata": {
        "id": "view-in-github",
        "colab_type": "text"
      },
      "source": [
        "<a href=\"https://colab.research.google.com/github/dakyommii/study/blob/main/test/style_transfer_final.ipynb\" target=\"_parent\"><img src=\"https://colab.research.google.com/assets/colab-badge.svg\" alt=\"Open In Colab\"/></a>"
      ]
    },
    {
      "cell_type": "markdown",
      "source": [
        "#Style-Transfer 수정"
      ],
      "metadata": {
        "id": "fPMgWXA1Xt-6"
      }
    },
    {
      "cell_type": "markdown",
      "source": [
        "##모듈 구성 및 임포트"
      ],
      "metadata": {
        "id": "XgrDGXoyXy5Y"
      }
    },
    {
      "cell_type": "code",
      "source": [
        "from google.colab import drive\n",
        "drive.mount('/content/drive')"
      ],
      "metadata": {
        "colab": {
          "base_uri": "https://localhost:8080/"
        },
        "id": "OQ8sABOVXxBg",
        "outputId": "c0c1ccda-e418-414e-9910-96d0dd3c46b6"
      },
      "execution_count": null,
      "outputs": [
        {
          "output_type": "stream",
          "name": "stdout",
          "text": [
            "Mounted at /content/drive\n"
          ]
        }
      ]
    },
    {
      "cell_type": "code",
      "source": [
        "import tensorflow as tf\n",
        "\n",
        "import IPython.display as display\n",
        "\n",
        "import matplotlib.pyplot as plt\n",
        "import matplotlib as mpl\n",
        "mpl.rcParams['figure.figsize'] = (12,12)\n",
        "mpl.rcParams['axes.grid'] = False\n",
        "\n",
        "import numpy as np\n",
        "import PIL.Image\n",
        "import time\n",
        "import functools\n",
        "\n",
        "import cv2\n",
        "\n",
        "def tensor_to_image(tensor):\n",
        "  tensor = tensor*255\n",
        "  tensor = np.array(tensor, dtype=np.uint8)\n",
        "  if np.ndim(tensor)>3:\n",
        "    assert tensor.shape[0] == 1\n",
        "    tensor = tensor[0]\n",
        "  return PIL.Image.fromarray(tensor)"
      ],
      "metadata": {
        "id": "R0sjYquKX3-N"
      },
      "execution_count": null,
      "outputs": []
    },
    {
      "cell_type": "code",
      "source": [
        "def load_img(path_to_img):\n",
        "  max_dim = 256\n",
        "  img = tf.io.read_file(path_to_img)\n",
        "  img = tf.image.decode_image(img, channels=3)\n",
        "  img = tf.image.convert_image_dtype(img, tf.float32)\n",
        "\n",
        "  shape = tf.cast(tf.shape(img)[:-1], tf.float32)\n",
        "  long_dim = max(shape)\n",
        "  scale = max_dim / long_dim\n",
        "\n",
        "  new_shape = tf.cast(shape * scale, tf.int32)\n",
        "\n",
        "  img = tf.image.resize(img, new_shape)\n",
        "  img = img[tf.newaxis, :]\n",
        "  return img\n",
        "\n",
        "\n",
        "def imshow(image, title=None):\n",
        "  if len(image.shape) > 3:\n",
        "    image = tf.squeeze(image, axis=0)\n",
        "\n",
        "  plt.imshow(image)\n",
        "  if title:\n",
        "    plt.title(title)"
      ],
      "metadata": {
        "id": "kMNPxbX4YCuH"
      },
      "execution_count": null,
      "outputs": []
    },
    {
      "cell_type": "markdown",
      "source": [
        "###TF-Hub를 통한 빠른 전이"
      ],
      "metadata": {
        "id": "LaS-hgOBYThy"
      }
    },
    {
      "cell_type": "code",
      "source": [
        "import tensorflow_hub as hub\n",
        "# hub_module = hub.load('https://tfhub.dev/google/magenta/arbitrary-image-stylization-v1-256/1')"
      ],
      "metadata": {
        "id": "V_GUGsNOYS5S"
      },
      "execution_count": null,
      "outputs": []
    },
    {
      "cell_type": "markdown",
      "source": [
        "###경로 설정"
      ],
      "metadata": {
        "id": "xme5WwHTX-K8"
      }
    },
    {
      "cell_type": "code",
      "source": [
        "cnt=0\n",
        "for i in range(1,49): #transfer 목표가 되는 style image의 개수\n",
        "  style_path = '/content/drive/MyDrive/datasets/tiger-head-minhwa/tiger-head-minhwa%d.png'%i\n",
        "  for j in range(1,483):  #style 화풍으로 transfer하려는 원본 image의 개수\n",
        "    content_path = '/content/drive/MyDrive/datasets/afhq-wild/afhq-tiger%d.png'%j\n",
        "\n",
        "    content_image = load_img(content_path)\n",
        "    style_image = load_img(style_path)\n",
        "    hub_module = hub.load('https://tfhub.dev/google/magenta/arbitrary-image-stylization-v1-256/1')\n",
        "    stylized_image = hub_module(tf.constant(content_image), tf.constant(style_image))[0]\n",
        "    \n",
        "    result=tensor_to_image(stylized_image)\n",
        "\n",
        "    #저장\n",
        "    cnt+=1\n",
        "    img=np.array(result)\n",
        "    img_rgb = cv2.cvtColor(img,cv2.COLOR_BGR2RGB)\n",
        "    cv2.imwrite('/content/drive/MyDrive/result/style-transfer/minhwa-transfer%d.png'%cnt,img_rgb)\n",
        "\n",
        "  print(\"%d번 완료\"%i)\n",
        "  "
      ],
      "metadata": {
        "colab": {
          "base_uri": "https://localhost:8080/"
        },
        "id": "6NPswmdgX9j2",
        "outputId": "1c093b69-941b-4858-a9d0-7d373eceae3e"
      },
      "execution_count": null,
      "outputs": [
        {
          "output_type": "stream",
          "name": "stdout",
          "text": [
            "1번 완료\n",
            "2번 완료\n",
            "3번 완료\n",
            "4번 완료\n",
            "5번 완료\n",
            "6번 완료\n",
            "7번 완료\n",
            "8번 완료\n",
            "9번 완료\n",
            "10번 완료\n",
            "11번 완료\n",
            "12번 완료\n",
            "13번 완료\n"
          ]
        }
      ]
    },
    {
      "cell_type": "code",
      "source": [
        "# stylized_image = hub_module(tf.constant(content_image), tf.constant(style_image))[0]\n",
        "# tensor_to_image(stylized_image)\n",
        "\n",
        "# #저장\n",
        "# img=np.array(result)\n",
        "# img_rgb = cv2.cvtColor(img,cv2.COLOR_BGR2RGB)\n",
        "# cv2.imwrite('/content/drive/MyDrive/result/style-transfer/result.png',img_rgb)"
      ],
      "metadata": {
        "id": "UpKMC9wjYYbz"
      },
      "execution_count": null,
      "outputs": []
    }
  ]
}