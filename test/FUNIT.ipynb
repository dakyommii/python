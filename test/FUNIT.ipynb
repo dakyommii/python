{
  "nbformat": 4,
  "nbformat_minor": 0,
  "metadata": {
    "colab": {
      "name": "Untitled9.ipynb",
      "provenance": [],
      "mount_file_id": "1VPdzIADSIVWvH_oagO0YSEMRcpNKxWoM",
      "authorship_tag": "ABX9TyN8XAXYgeg4LCURmk5fVtDJ",
      "include_colab_link": true
    },
    "kernelspec": {
      "name": "python3",
      "display_name": "Python 3"
    },
    "language_info": {
      "name": "python"
    },
    "accelerator": "GPU"
  },
  "cells": [
    {
      "cell_type": "markdown",
      "metadata": {
        "id": "view-in-github",
        "colab_type": "text"
      },
      "source": [
        "<a href=\"https://colab.research.google.com/github/dakyommii/study/blob/main/test/FUNIT.ipynb\" target=\"_parent\"><img src=\"https://colab.research.google.com/assets/colab-badge.svg\" alt=\"Open In Colab\"/></a>"
      ]
    },
    {
      "cell_type": "code",
      "metadata": {
        "colab": {
          "base_uri": "https://localhost:8080/"
        },
        "id": "PHRw9-iSTgHW",
        "outputId": "792c0f0e-c19c-4032-905a-66352d78ffb4"
      },
      "source": [
        "!git clone https://github.com/NVlabs/FUNIT.git "
      ],
      "execution_count": 1,
      "outputs": [
        {
          "output_type": "stream",
          "name": "stdout",
          "text": [
            "Cloning into 'FUNIT'...\n",
            "remote: Enumerating objects: 211, done.\u001b[K\n",
            "remote: Total 211 (delta 0), reused 0 (delta 0), pack-reused 211\u001b[K\n",
            "Receiving objects: 100% (211/211), 96.01 MiB | 28.25 MiB/s, done.\n",
            "Resolving deltas: 100% (105/105), done.\n"
          ]
        }
      ]
    },
    {
      "cell_type": "code",
      "metadata": {
        "colab": {
          "base_uri": "https://localhost:8080/"
        },
        "id": "75qwTkrtUDC6",
        "outputId": "a535dec7-0bae-4195-bef4-d5d4f35ac8b4"
      },
      "source": [
        "!pip install pyyaml tensorboardX"
      ],
      "execution_count": 2,
      "outputs": [
        {
          "output_type": "stream",
          "name": "stdout",
          "text": [
            "Requirement already satisfied: pyyaml in /usr/local/lib/python3.7/dist-packages (3.13)\n",
            "Collecting tensorboardX\n",
            "  Downloading tensorboardX-2.4-py2.py3-none-any.whl (124 kB)\n",
            "\u001b[K     |████████████████████████████████| 124 kB 13.1 MB/s \n",
            "\u001b[?25hRequirement already satisfied: protobuf>=3.8.0 in /usr/local/lib/python3.7/dist-packages (from tensorboardX) (3.17.3)\n",
            "Requirement already satisfied: numpy in /usr/local/lib/python3.7/dist-packages (from tensorboardX) (1.19.5)\n",
            "Requirement already satisfied: six>=1.9 in /usr/local/lib/python3.7/dist-packages (from protobuf>=3.8.0->tensorboardX) (1.15.0)\n",
            "Installing collected packages: tensorboardX\n",
            "Successfully installed tensorboardX-2.4\n"
          ]
        }
      ]
    },
    {
      "cell_type": "code",
      "metadata": {
        "colab": {
          "base_uri": "https://localhost:8080/"
        },
        "id": "WuTJyxjNV6-A",
        "outputId": "41f16520-a390-430b-d3df-520851cd2ada"
      },
      "source": [
        "!tar -xvf '/content/drive/MyDrive/deepfake/pretrained.tar.gz'"
      ],
      "execution_count": 3,
      "outputs": [
        {
          "output_type": "stream",
          "name": "stdout",
          "text": [
            "animal149_gen.pt\n",
            "animal119_gen_00100000.pt\n"
          ]
        }
      ]
    },
    {
      "cell_type": "code",
      "metadata": {
        "colab": {
          "base_uri": "https://localhost:8080/"
        },
        "id": "c_7XfuxBX5bv",
        "outputId": "e758d6ed-9e3c-4514-ea28-df42216af1ef"
      },
      "source": [
        "!pip install -U PyYAML"
      ],
      "execution_count": 4,
      "outputs": [
        {
          "output_type": "stream",
          "name": "stdout",
          "text": [
            "Requirement already satisfied: PyYAML in /usr/local/lib/python3.7/dist-packages (3.13)\n",
            "Collecting PyYAML\n",
            "  Downloading PyYAML-6.0-cp37-cp37m-manylinux_2_5_x86_64.manylinux1_x86_64.manylinux_2_12_x86_64.manylinux2010_x86_64.whl (596 kB)\n",
            "\u001b[K     |████████████████████████████████| 596 kB 12.7 MB/s \n",
            "\u001b[?25hInstalling collected packages: PyYAML\n",
            "  Attempting uninstall: PyYAML\n",
            "    Found existing installation: PyYAML 3.13\n",
            "    Uninstalling PyYAML-3.13:\n",
            "      Successfully uninstalled PyYAML-3.13\n",
            "Successfully installed PyYAML-6.0\n"
          ]
        }
      ]
    },
    {
      "cell_type": "code",
      "metadata": {
        "id": "xgr1OeHSZW8t"
      },
      "source": [
        ""
      ],
      "execution_count": null,
      "outputs": []
    },
    {
      "cell_type": "code",
      "metadata": {
        "colab": {
          "base_uri": "https://localhost:8080/"
        },
        "id": "cqtm6ORGWc3k",
        "outputId": "78f6c687-c2bf-47cf-adce-6e7fefae1a45"
      },
      "source": [
        "!python '/content/FUNIT/test_k_shot.py' --config '/content/FUNIT/configs/funit_animals.yaml' --ckpt '/content/animal149_gen.pt' --input '/content/FUNIT/images/n02138411/n02138441_763-141_168_340_352_0.999998.jpg' --class_image_folder '/content/drive/MyDrive/tiger2fork/tiger' --output '/content/FUNIT/images/output.jpg'\n"
      ],
      "execution_count": 10,
      "outputs": [
        {
          "output_type": "stream",
          "name": "stdout",
          "text": [
            "Compute average class codes for images in /content/drive/MyDrive/tiger2fork/tiger\n",
            "Compute translation for /content/FUNIT/images/n02138411/n02138441_763-141_168_340_352_0.999998.jpg\n",
            "Save output to /content/FUNIT/images/output.jpg\n"
          ]
        }
      ]
    }
  ]
}