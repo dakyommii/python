{
  "nbformat": 4,
  "nbformat_minor": 0,
  "metadata": {
    "colab": {
      "name": "StylegGAN2-ADA_mon1의 사본",
      "provenance": [],
      "collapsed_sections": [
        "F1jG7Cx1RWKY",
        "ffxQiIkQRTGO"
      ],
      "include_colab_link": true
    },
    "kernelspec": {
      "name": "python3",
      "display_name": "Python 3"
    },
    "language_info": {
      "name": "python"
    },
    "accelerator": "GPU"
  },
  "cells": [
    {
      "cell_type": "markdown",
      "metadata": {
        "id": "view-in-github",
        "colab_type": "text"
      },
      "source": [
        "<a href=\"https://colab.research.google.com/github/dakyommii/study/blob/main/test/StylegGAN2_ADA.ipynb\" target=\"_parent\"><img src=\"https://colab.research.google.com/assets/colab-badge.svg\" alt=\"Open In Colab\"/></a>"
      ]
    },
    {
      "cell_type": "markdown",
      "metadata": {
        "id": "87fN-d1-N9s0"
      },
      "source": [
        "# StyleGAN2-ADA 모델 학습하기\n"
      ]
    },
    {
      "cell_type": "code",
      "metadata": {
        "colab": {
          "base_uri": "https://localhost:8080/"
        },
        "id": "F46YSLmVOWWa",
        "outputId": "e3b0705a-ac1e-4c32-cd7c-01acd75a0b6a"
      },
      "source": [
        "from google.colab import drive\n",
        "drive.mount('/content/drive')"
      ],
      "execution_count": 1,
      "outputs": [
        {
          "output_type": "stream",
          "name": "stdout",
          "text": [
            "Mounted at /content/drive\n"
          ]
        }
      ]
    },
    {
      "cell_type": "code",
      "source": [
        "import torch\n",
        "\n",
        "print(\"Torch version:{}\".format(torch.__version__))\n",
        "print(\"cuda version: {}\".format(torch.version.cuda))\n",
        "print(\"cudnn version:{}\".format(torch.backends.cudnn.version()))"
      ],
      "metadata": {
        "colab": {
          "base_uri": "https://localhost:8080/"
        },
        "id": "QhLOqf3MpKLw",
        "outputId": "a8b4c0d5-564e-4865-921d-93ab67e9d939"
      },
      "execution_count": 5,
      "outputs": [
        {
          "output_type": "stream",
          "name": "stdout",
          "text": [
            "Torch version:1.11.0+cu113\n",
            "cuda version: 11.3\n",
            "cudnn version:8200\n"
          ]
        }
      ]
    },
    {
      "cell_type": "code",
      "source": [
        "!pip install torch==1.7.1"
      ],
      "metadata": {
        "colab": {
          "base_uri": "https://localhost:8080/",
          "height": 412
        },
        "id": "DlP8fq_CpC6o",
        "outputId": "a69fe561-6529-471f-bfb1-c81e4df40164"
      },
      "execution_count": 3,
      "outputs": [
        {
          "output_type": "stream",
          "name": "stdout",
          "text": [
            "Looking in indexes: https://pypi.org/simple, https://us-python.pkg.dev/colab-wheels/public/simple/\n",
            "Collecting torch==1.7.1\n",
            "  Downloading torch-1.7.1-cp37-cp37m-manylinux1_x86_64.whl (776.8 MB)\n",
            "\u001b[K     |████████████████████████████████| 776.8 MB 16 kB/s \n",
            "\u001b[?25hRequirement already satisfied: numpy in /usr/local/lib/python3.7/dist-packages (from torch==1.7.1) (1.21.6)\n",
            "Requirement already satisfied: typing-extensions in /usr/local/lib/python3.7/dist-packages (from torch==1.7.1) (4.2.0)\n",
            "Installing collected packages: torch\n",
            "  Attempting uninstall: torch\n",
            "    Found existing installation: torch 1.11.0+cu113\n",
            "    Uninstalling torch-1.11.0+cu113:\n",
            "      Successfully uninstalled torch-1.11.0+cu113\n",
            "\u001b[31mERROR: pip's dependency resolver does not currently take into account all the packages that are installed. This behaviour is the source of the following dependency conflicts.\n",
            "torchvision 0.12.0+cu113 requires torch==1.11.0, but you have torch 1.7.1 which is incompatible.\n",
            "torchtext 0.12.0 requires torch==1.11.0, but you have torch 1.7.1 which is incompatible.\n",
            "torchaudio 0.11.0+cu113 requires torch==1.11.0, but you have torch 1.7.1 which is incompatible.\u001b[0m\n",
            "Successfully installed torch-1.7.1\n"
          ]
        },
        {
          "output_type": "display_data",
          "data": {
            "application/vnd.colab-display-data+json": {
              "pip_warning": {
                "packages": [
                  "torch"
                ]
              }
            }
          },
          "metadata": {}
        }
      ]
    },
    {
      "cell_type": "code",
      "source": [
        "torch.cuda.is_available()"
      ],
      "metadata": {
        "colab": {
          "base_uri": "https://localhost:8080/"
        },
        "id": "t2iwiUeJpMn5",
        "outputId": "5a496beb-a9fa-4be4-8c99-9de721af6bc4"
      },
      "execution_count": 6,
      "outputs": [
        {
          "output_type": "execute_result",
          "data": {
            "text/plain": [
              "True"
            ]
          },
          "metadata": {},
          "execution_count": 6
        }
      ]
    },
    {
      "cell_type": "code",
      "source": [
        "!pip install click requests tqdm pyspng ninja imageio-ffmpeg==0.4.3"
      ],
      "metadata": {
        "colab": {
          "base_uri": "https://localhost:8080/"
        },
        "id": "7hlZoM0Ypsui",
        "outputId": "cff7f787-c867-4e78-f7d6-889fa540df01"
      },
      "execution_count": 4,
      "outputs": [
        {
          "output_type": "stream",
          "name": "stdout",
          "text": [
            "Looking in indexes: https://pypi.org/simple, https://us-python.pkg.dev/colab-wheels/public/simple/\n",
            "Requirement already satisfied: click in /usr/local/lib/python3.7/dist-packages (7.1.2)\n",
            "Requirement already satisfied: requests in /usr/local/lib/python3.7/dist-packages (2.23.0)\n",
            "Requirement already satisfied: tqdm in /usr/local/lib/python3.7/dist-packages (4.64.0)\n",
            "Collecting pyspng\n",
            "  Downloading pyspng-0.1.0-cp37-cp37m-manylinux2010_x86_64.whl (195 kB)\n",
            "\u001b[K     |████████████████████████████████| 195 kB 5.1 MB/s \n",
            "\u001b[?25hCollecting ninja\n",
            "  Downloading ninja-1.10.2.3-py2.py3-none-manylinux_2_5_x86_64.manylinux1_x86_64.whl (108 kB)\n",
            "\u001b[K     |████████████████████████████████| 108 kB 63.7 MB/s \n",
            "\u001b[?25hCollecting imageio-ffmpeg==0.4.3\n",
            "  Downloading imageio_ffmpeg-0.4.3-py3-none-manylinux2010_x86_64.whl (26.9 MB)\n",
            "\u001b[K     |████████████████████████████████| 26.9 MB 1.3 MB/s \n",
            "\u001b[?25hRequirement already satisfied: certifi>=2017.4.17 in /usr/local/lib/python3.7/dist-packages (from requests) (2022.5.18.1)\n",
            "Requirement already satisfied: chardet<4,>=3.0.2 in /usr/local/lib/python3.7/dist-packages (from requests) (3.0.4)\n",
            "Requirement already satisfied: urllib3!=1.25.0,!=1.25.1,<1.26,>=1.21.1 in /usr/local/lib/python3.7/dist-packages (from requests) (1.24.3)\n",
            "Requirement already satisfied: idna<3,>=2.5 in /usr/local/lib/python3.7/dist-packages (from requests) (2.10)\n",
            "Requirement already satisfied: numpy in /usr/local/lib/python3.7/dist-packages (from pyspng) (1.21.6)\n",
            "Installing collected packages: pyspng, ninja, imageio-ffmpeg\n",
            "Successfully installed imageio-ffmpeg-0.4.3 ninja-1.10.2.3 pyspng-0.1.0\n"
          ]
        }
      ]
    },
    {
      "cell_type": "markdown",
      "metadata": {
        "id": "F1jG7Cx1RWKY"
      },
      "source": [
        "## Clone StyleGAN2-ADA Repo"
      ]
    },
    {
      "cell_type": "markdown",
      "metadata": {
        "id": "oDEl_QC6CbDr"
      },
      "source": [
        "StyleGAN2-ADA 관련된 코드를 노트북으로 불러와서 다운로드받습니다."
      ]
    },
    {
      "cell_type": "code",
      "metadata": {
        "colab": {
          "base_uri": "https://localhost:8080/"
        },
        "id": "CVtHBVKbOmKl",
        "outputId": "a5c53ad0-6415-4e1c-df69-3db86794eb38"
      },
      "source": [
        "# Download the code\n",
        "%cd /content/drive/MyDrive/Colab Notebooks/\n",
        "!git clone https://github.com/NVlabs/stylegan2-ada-pytorch.git\n",
        "!mkdir downloads\n",
        "!mkdir datasets"
      ],
      "execution_count": null,
      "outputs": [
        {
          "output_type": "stream",
          "name": "stdout",
          "text": [
            "/content/drive/MyDrive/Colab Notebooks\n",
            "Cloning into 'stylegan2-ada-pytorch'...\n",
            "remote: Enumerating objects: 128, done.\u001b[K\n",
            "remote: Total 128 (delta 0), reused 0 (delta 0), pack-reused 128\u001b[K\n",
            "Receiving objects: 100% (128/128), 1.12 MiB | 16.40 MiB/s, done.\n",
            "Resolving deltas: 100% (57/57), done.\n",
            "mkdir: cannot create directory ‘downloads’: File exists\n",
            "mkdir: cannot create directory ‘datasets’: File exists\n"
          ]
        }
      ]
    },
    {
      "cell_type": "markdown",
      "metadata": {
        "id": "ffxQiIkQRTGO"
      },
      "source": [
        "## Dataset"
      ]
    },
    {
      "cell_type": "code",
      "metadata": {
        "id": "BlS7sB4xQtmC",
        "outputId": "0c1a004f-f7c4-4672-848a-2f17d1a2d756",
        "colab": {
          "base_uri": "https://localhost:8080/"
        }
      },
      "source": [
        "# %cd /content/\n",
        "\n",
        "#update this to the path to your image folder\n",
        "# dataset_folder_name = 'pokemon_jpg/pokemon_jpg' # name of zip file may be different from folder name it extracted to\n",
        "# dataset_path = \"/content/drive/MyDrive/datasets/tiger-256\" \n",
        "\n",
        "#you don't need to edit anything here\n",
        "# %cd /content/drive/MyDrive/colab-sg2-ada/stylegan2-ada\n",
        "# !python dataset_tool.py create_from_images/content/drive/MyDrive/datasets/{dataset_name} {dataset_path}"
      ],
      "execution_count": null,
      "outputs": [
        {
          "output_type": "stream",
          "name": "stdout",
          "text": [
            "/content\n"
          ]
        }
      ]
    },
    {
      "cell_type": "markdown",
      "metadata": {
        "id": "fyhe_tggRPnq"
      },
      "source": [
        "## Training"
      ]
    },
    {
      "cell_type": "code",
      "source": [
        "%cd /content/drive/MyDrive/stylegan2-ada-pytorch"
      ],
      "metadata": {
        "colab": {
          "base_uri": "https://localhost:8080/"
        },
        "id": "ocqxDaiYpw98",
        "outputId": "c0da2b02-1e6f-4484-fb90-ef70773cae69"
      },
      "execution_count": 7,
      "outputs": [
        {
          "output_type": "stream",
          "name": "stdout",
          "text": [
            "/content/drive/.shortcut-targets-by-id/1MNJT3ZYp1mZRKRTjzKD9MFObZHelrpLJ/stylegan2-ada-pytorch\n"
          ]
        }
      ]
    },
    {
      "cell_type": "code",
      "source": [
        "!pwd"
      ],
      "metadata": {
        "colab": {
          "base_uri": "https://localhost:8080/"
        },
        "id": "tsch_L5Jp0jT",
        "outputId": "d7e01693-0126-4a5a-dca7-af5bb9e9dbba"
      },
      "execution_count": null,
      "outputs": [
        {
          "output_type": "stream",
          "name": "stdout",
          "text": [
            "/content/drive/MyDrive/stylegan2-ada-pytorch\n"
          ]
        }
      ]
    },
    {
      "cell_type": "code",
      "metadata": {
        "id": "yo53TCYVRKW0",
        "outputId": "84a9b866-40b0-47dc-db45-3f714a87f54c",
        "colab": {
          "base_uri": "https://localhost:8080/"
        }
      },
      "source": [
        "# output directory\n",
        "output_dir = '/content/drive/MyDrive/result/moran' \n",
        "\n",
        "# config\n",
        "config = \"auto\"\n",
        "\n",
        "# gamma\n",
        "gamma = 1\n",
        "\n",
        "#how often should the model generate samples and a .pkl file\n",
        "snapshot_count = 1\n",
        "\n",
        "#metrics? \n",
        "# metric_list = None\n",
        "\n",
        "metric_list='fid50k_full'\n",
        "#\n",
        "# this is the most important cell to update\n",
        "#\n",
        "# running it for the first time? set it to ffhq(+resolution)\n",
        "# resuming? get the path to your latest .pkl file and use that\n",
        "resume_from = \"/content/drive/MyDrive/ckpt/network-snapshot-000068.pkl\"\n",
        "\n",
        "# make sure there is no space in the resume path. if there is any, use a backslash character to escape\n",
        "#resume_from = '/content/drive/MyDrive/Colab\\ Notebooks/results/pokemon-256/00000-pokemon-256-mirror-auto1-gamma1-resumeffhq256/network-snapshot-000044.pkl'\n",
        "\n",
        "#don't edit this unless you know what you're doing :)\n",
        "!python train.py --outdir={output_dir} \\\n",
        "                 --cfg={config} \\\n",
        "                 --snap={snapshot_count} \\\n",
        "                 --data=/content/drive/MyDrive/datasets/{dataset_name} \\\n",
        "                 --gamma={gamma} \\\n",
        "                 --metrics={metric_list} \\\n",
        "                 --resume={resume_from}"
      ],
      "execution_count": null,
      "outputs": [
        {
          "output_type": "stream",
          "name": "stdout",
          "text": [
            "python3: can't open file 'train.py': [Errno 2] No such file or directory\n"
          ]
        }
      ]
    },
    {
      "cell_type": "markdown",
      "source": [
        "##projector"
      ],
      "metadata": {
        "id": "-8dcsSvi0hnS"
      }
    },
    {
      "cell_type": "code",
      "source": [
        "!python \"/content/stylegan2-ada/projector.py\" --network /content/drive/MyDrive/result/mask2/00001-mask2-mirror-auto1-gamma1-resumecustom/network-snapshot-000000.pkl \\\n",
        "                                              --target /content/drive/MyDrive/result/target/pink/target.png \\\n",
        "                                              --outdir /content/drive/MyDrive/result/target/pink \n"
      ],
      "metadata": {
        "colab": {
          "base_uri": "https://localhost:8080/"
        },
        "id": "bwv2CmZo23Qa",
        "outputId": "9309257e-b87c-4df0-e12d-812df2a77058"
      },
      "execution_count": null,
      "outputs": [
        {
          "output_type": "stream",
          "name": "stdout",
          "text": [
            "Loading networks from \"/content/drive/MyDrive/result/mask2/00001-mask2-mirror-auto1-gamma1-resumecustom/network-snapshot-000000.pkl\"...\n",
            "Setting up TensorFlow plugin \"fused_bias_act.cu\": Compiling... Loading... Done.\n",
            "Setting up TensorFlow plugin \"upfirdn_2d.cu\": Compiling... Loading... Done.\n",
            "Projector: Computing W midpoint and stddev using 10000 samples...\n",
            "Projector: std = 18.6789\n",
            "Projector: Setting up noise inputs...\n",
            "Projector: Building image output graph...\n",
            "Projector: Building loss graph...\n",
            "Downloading https://nvlabs-fi-cdn.nvidia.com/stylegan2-ada/pretrained/metrics/vgg16_zhang_perceptual.pkl ... done\n",
            "Projector: Building noise regularization graph...\n",
            "Projector: Setting up optimizer...\n",
            "Projector: Preparing target images...\n",
            "Projector: Initializing optimization state...\n",
            "100% 1000/1000 [05:24<00:00,  3.08it/s, dist=0.1288, loss=0.13]\n"
          ]
        }
      ]
    },
    {
      "cell_type": "markdown",
      "source": [
        "##generator"
      ],
      "metadata": {
        "id": "kaD2cnIXejad"
      }
    },
    {
      "cell_type": "code",
      "source": [
        "!python \"/content/drive/MyDrive/Colab Notebooks/stylegan2-ada/generate.py\" --outdir /content/drive/MyDrive/result/generate/white/new --dlatents /content/drive/MyDrive/result/target/white/dlatents.npz \\\n",
        "                                              --network /content/drive/MyDrive/result/mask2/00001-mask2-mirror-auto1-gamma1-resumecustom/network-snapshot-000000.pkl "
      ],
      "metadata": {
        "colab": {
          "base_uri": "https://localhost:8080/"
        },
        "id": "wIuUTA141uo0",
        "outputId": "4315aefd-60ff-4d2c-eb52-421998ccc60b"
      },
      "execution_count": null,
      "outputs": [
        {
          "output_type": "stream",
          "name": "stdout",
          "text": [
            "Loading networks from \"/content/drive/MyDrive/result/mask2/00001-mask2-mirror-auto1-gamma1-resumecustom/network-snapshot-000000.pkl\"...\n",
            "Generating images from dlatents file \"/content/drive/MyDrive/result/target/white/dlatents.npz\"\n",
            "Setting up TensorFlow plugin \"fused_bias_act.cu\": Loading... Done.\n",
            "Setting up TensorFlow plugin \"upfirdn_2d.cu\": Loading... Done.\n",
            "Saved /content/drive/MyDrive/result/generate/white/new/dlatent00.png\n"
          ]
        }
      ]
    },
    {
      "cell_type": "code",
      "source": [
        "!python \"/content/drive/MyDrive/Colab Notebooks/stylegan2-ada/generate.py\" --outdir /content/drive/MyDrive/result/generate/seed \\\n",
        "                                                                           --network /content/drive/MyDrive/result/mask2/00001-mask2-mirror-auto1-gamma1-resumecustom/network-snapshot-000000.pkl "
      ],
      "metadata": {
        "colab": {
          "base_uri": "https://localhost:8080/"
        },
        "id": "9eKpmFtktqSE",
        "outputId": "d02b9d97-ca4c-4310-8a7c-ec9e13f05676"
      },
      "execution_count": null,
      "outputs": [
        {
          "output_type": "stream",
          "name": "stdout",
          "text": [
            "usage: generate.py [-h] --network NETWORK_PKL\n",
            "                   (--seeds SEEDS | --dlatents DLATENTS_NPZ)\n",
            "                   [--trunc TRUNCATION_PSI] [--class CLASS_IDX] --outdir DIR\n",
            "generate.py: error: one of the arguments --seeds --dlatents is required\n"
          ]
        }
      ]
    },
    {
      "cell_type": "code",
      "source": [
        "!python \"/content/drive/MyDrive/Colab Notebooks/stylegan2-ada/generate.py\" --network /content/drive/MyDrive/result/mask2/00001-mask2-mirror-auto1-gamma1-resumecustom/network-snapshot-000000.pkl \\\n",
        "                                                                           --outdir /content/drive/MyDrive/result/generate/test \\\n",
        "                                                                           --dlatents /content/drive/MyDrive/result/target/pink/dlatents.npz"
      ],
      "metadata": {
        "colab": {
          "base_uri": "https://localhost:8080/"
        },
        "id": "wzSzQCfxwwW3",
        "outputId": "a87e7cd5-de0a-439f-8791-97de9f6b07cb"
      },
      "execution_count": null,
      "outputs": [
        {
          "output_type": "stream",
          "name": "stdout",
          "text": [
            "Loading networks from \"/content/drive/MyDrive/result/mask2/00001-mask2-mirror-auto1-gamma1-resumecustom/network-snapshot-000000.pkl\"...\n",
            "Generating images from dlatents file \"/content/drive/MyDrive/result/target/pink/dlatents.npz\"\n",
            "Setting up TensorFlow plugin \"fused_bias_act.cu\": Loading... Done.\n",
            "Setting up TensorFlow plugin \"upfirdn_2d.cu\": Loading... Done.\n",
            "Saved /content/drive/MyDrive/result/generate/test/dlatent00.png\n"
          ]
        }
      ]
    },
    {
      "cell_type": "markdown",
      "source": [
        "###dlatents shape 확인"
      ],
      "metadata": {
        "id": "xsTf7dCaerye"
      }
    },
    {
      "cell_type": "code",
      "source": [
        "import numpy as np"
      ],
      "metadata": {
        "id": "d3do-2oiAYcD"
      },
      "execution_count": null,
      "outputs": []
    },
    {
      "cell_type": "code",
      "source": [
        "# print(f'Generating images from dlatents file \"{\"/content/drive/MyDrive/result/target/pink/dlatents.npz\"}\"')\n",
        "dlatents = np.load(\"/content/drive/MyDrive/result/target/pink/dlatents.npz\")['dlatents']\n",
        "# assert dlatents.shape[1:] == (18, 512) # [N, 18, 512]\n",
        "# imgs = Gs.components.synthesis.run(dlatents, output_transform=dict(func=tflib.convert_images_to_uint8, nchw_to_nhwc=True))\n",
        "# for i, img in enumerate(imgs):\n",
        "#     fname = f'{outdir}/dlatent{i:02d}.png'\n",
        "#     print (f'Saved {fname}')\n",
        "#     PIL.Image.fromarray(img, 'RGB').save(fname)\n",
        "\n",
        "print(dlatents.shape[1:])\n"
      ],
      "metadata": {
        "colab": {
          "base_uri": "https://localhost:8080/"
        },
        "id": "BdicwrH1_isW",
        "outputId": "f6cf8298-e8f6-454b-effe-65dd874cd007"
      },
      "execution_count": null,
      "outputs": [
        {
          "output_type": "stream",
          "name": "stdout",
          "text": [
            "(14, 512)\n"
          ]
        }
      ]
    },
    {
      "cell_type": "markdown",
      "source": [
        "##style-mixing"
      ],
      "metadata": {
        "id": "LsV1zqxCewug"
      }
    },
    {
      "cell_type": "code",
      "source": [
        "!python \"/content/drive/MyDrive/Colab Notebooks/stylegan2-ada/style_mixing.py\" --network \"/content/drive/MyDrive/result/mask2/00001-mask2-mirror-auto1-gamma1-resumecustom/network-snapshot-000000.pkl\" \\\n",
        "                                                                               --rows=86,104,119 \\\n",
        "                                                                               --cols=12,65,131 \\\n",
        "                                                                               --styles=4-8 \\\n",
        "                                                                               --trunc=0.5 \\\n",
        "                                                                               --out /content/drive/MyDrive/result/style-mixing"
      ],
      "metadata": {
        "colab": {
          "base_uri": "https://localhost:8080/"
        },
        "id": "2KX77afBd9h8",
        "outputId": "0a82ba8e-65ea-4421-8328-fef6dc1bcdbd"
      },
      "execution_count": null,
      "outputs": [
        {
          "output_type": "stream",
          "name": "stdout",
          "text": [
            "Loading networks from \"/content/drive/MyDrive/result/mask2/00001-mask2-mirror-auto1-gamma1-resumecustom/network-snapshot-000000.pkl\"...\n",
            "Setting up TensorFlow plugin \"fused_bias_act.cu\": Loading... Done.\n",
            "Setting up TensorFlow plugin \"upfirdn_2d.cu\": Loading... Done.\n",
            "Generating W vectors...\n",
            "Generating images...\n",
            "Generating style-mixed images...\n",
            "Saving images...\n",
            "Saving image grid...\n"
          ]
        }
      ]
    }
  ]
}