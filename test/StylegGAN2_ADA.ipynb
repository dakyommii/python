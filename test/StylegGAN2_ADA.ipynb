{
  "nbformat": 4,
  "nbformat_minor": 0,
  "metadata": {
    "colab": {
      "name": "StylegGAN2-ADA_mon1의 사본",
      "provenance": [],
      "collapsed_sections": [
        "F1jG7Cx1RWKY",
        "ffxQiIkQRTGO"
      ],
      "include_colab_link": true
    },
    "kernelspec": {
      "name": "python3",
      "display_name": "Python 3"
    },
    "language_info": {
      "name": "python"
    },
    "accelerator": "GPU"
  },
  "cells": [
    {
      "cell_type": "markdown",
      "metadata": {
        "id": "view-in-github",
        "colab_type": "text"
      },
      "source": [
        "<a href=\"https://colab.research.google.com/github/dakyommii/study/blob/main/test/StylegGAN2_ADA.ipynb\" target=\"_parent\"><img src=\"https://colab.research.google.com/assets/colab-badge.svg\" alt=\"Open In Colab\"/></a>"
      ]
    },
    {
      "cell_type": "markdown",
      "metadata": {
        "id": "87fN-d1-N9s0"
      },
      "source": [
        "# StyleGAN2-ADA 모델 학습하기\n",
        "\n",
        "이 노트북은 다음 노트북을 합쳐서 만들고 한글 설명을 추가했습니다.\n",
        "\n",
        "- https://colab.research.google.com/github/dvschultz/ml-art-colabs/blob/master/Stylegan2_ada_Custom_Training.ipynb\n",
        "- https://colab.research.google.com/github/Hephyrius/Stylegan2-Ada-Google-Colab-Starter-Notebook/blob/main/Stylegan2_Ada_Colab_Starter.ipynb"
      ]
    },
    {
      "cell_type": "code",
      "metadata": {
        "colab": {
          "base_uri": "https://localhost:8080/"
        },
        "id": "fbyUpDO4OLiU",
        "outputId": "dc53c0ab-0abc-435b-9399-b02028f5f54f"
      },
      "source": [
        "%tensorflow_version 1.x"
      ],
      "execution_count": null,
      "outputs": [
        {
          "output_type": "stream",
          "name": "stdout",
          "text": [
            "TensorFlow 1.x selected.\n"
          ]
        }
      ]
    },
    {
      "cell_type": "code",
      "metadata": {
        "colab": {
          "base_uri": "https://localhost:8080/"
        },
        "id": "F46YSLmVOWWa",
        "outputId": "6f54b3f7-55b8-4089-95da-8b1f34bb7392"
      },
      "source": [
        "from google.colab import drive\n",
        "drive.mount('/content/drive')"
      ],
      "execution_count": null,
      "outputs": [
        {
          "output_type": "stream",
          "name": "stdout",
          "text": [
            "Mounted at /content/drive\n"
          ]
        }
      ]
    },
    {
      "cell_type": "markdown",
      "metadata": {
        "id": "F1jG7Cx1RWKY"
      },
      "source": [
        "## Clone StyleGAN2-ADA Repo"
      ]
    },
    {
      "cell_type": "markdown",
      "metadata": {
        "id": "oDEl_QC6CbDr"
      },
      "source": [
        "StyleGAN2-ADA 관련된 코드를 노트북으로 불러와서 다운로드받습니다."
      ]
    },
    {
      "cell_type": "code",
      "metadata": {
        "colab": {
          "base_uri": "https://localhost:8080/"
        },
        "id": "CVtHBVKbOmKl",
        "outputId": "a5c53ad0-6415-4e1c-df69-3db86794eb38"
      },
      "source": [
        "# Download the code\n",
        "%cd /content/drive/MyDrive/Colab Notebooks/\n",
        "!git clone https://github.com/NVlabs/stylegan2-ada-pytorch.git\n",
        "!mkdir downloads\n",
        "!mkdir datasets"
      ],
      "execution_count": null,
      "outputs": [
        {
          "output_type": "stream",
          "name": "stdout",
          "text": [
            "/content/drive/MyDrive/Colab Notebooks\n",
            "Cloning into 'stylegan2-ada-pytorch'...\n",
            "remote: Enumerating objects: 128, done.\u001b[K\n",
            "remote: Total 128 (delta 0), reused 0 (delta 0), pack-reused 128\u001b[K\n",
            "Receiving objects: 100% (128/128), 1.12 MiB | 16.40 MiB/s, done.\n",
            "Resolving deltas: 100% (57/57), done.\n",
            "mkdir: cannot create directory ‘downloads’: File exists\n",
            "mkdir: cannot create directory ‘datasets’: File exists\n"
          ]
        }
      ]
    },
    {
      "cell_type": "markdown",
      "metadata": {
        "id": "ffxQiIkQRTGO"
      },
      "source": [
        "## Dataset"
      ]
    },
    {
      "cell_type": "code",
      "metadata": {
        "id": "BlS7sB4xQtmC",
        "outputId": "0c1a004f-f7c4-4672-848a-2f17d1a2d756",
        "colab": {
          "base_uri": "https://localhost:8080/"
        }
      },
      "source": [
        "# %cd /content/\n",
        "\n",
        "#update this to the path to your image folder\n",
        "# dataset_folder_name = 'pokemon_jpg/pokemon_jpg' # name of zip file may be different from folder name it extracted to\n",
        "# dataset_path = \"/content/drive/MyDrive/datasets/tiger-256\" \n",
        "\n",
        "#you don't need to edit anything here\n",
        "# %cd /content/drive/MyDrive/colab-sg2-ada/stylegan2-ada\n",
        "# !python dataset_tool.py create_from_images/content/drive/MyDrive/datasets/{dataset_name} {dataset_path}"
      ],
      "execution_count": null,
      "outputs": [
        {
          "output_type": "stream",
          "name": "stdout",
          "text": [
            "/content\n"
          ]
        }
      ]
    },
    {
      "cell_type": "markdown",
      "metadata": {
        "id": "fyhe_tggRPnq"
      },
      "source": [
        "## Training"
      ]
    },
    {
      "cell_type": "code",
      "metadata": {
        "id": "yo53TCYVRKW0",
        "outputId": "84a9b866-40b0-47dc-db45-3f714a87f54c",
        "colab": {
          "base_uri": "https://localhost:8080/"
        }
      },
      "source": [
        "# output directory\n",
        "output_dir = '/content/drive/MyDrive/result/tiger-256' \n",
        "\n",
        "# config\n",
        "config = \"auto\"\n",
        "\n",
        "# gamma\n",
        "gamma = 1\n",
        "\n",
        "#how often should the model generate samples and a .pkl file\n",
        "snapshot_count = 1\n",
        "\n",
        "#should the images be mirrored left to right?\n",
        "mirrored = True\n",
        "#should the images be mirrored top to bottom?\n",
        "mirroredY = False\n",
        "\n",
        "#metrics? \n",
        "metric_list = None\n",
        "#\n",
        "# this is the most important cell to update\n",
        "#\n",
        "# running it for the first time? set it to ffhq(+resolution)\n",
        "# resuming? get the path to your latest .pkl file and use that\n",
        "resume_from = \"/content/drive/MyDrive/ckpt/network-snapshot-000004.pkl\"\n",
        "\n",
        "# make sure there is no space in the resume path. if there is any, use a backslash character to escape\n",
        "#resume_from = '/content/drive/MyDrive/Colab\\ Notebooks/results/pokemon-256/00000-pokemon-256-mirror-auto1-gamma1-resumeffhq256/network-snapshot-000044.pkl'\n",
        "\n",
        "#don't edit this unless you know what you're doing :)\n",
        "!python train.py --outdir={output_dir} \\\n",
        "                 --cfg={config} \\\n",
        "                 --snap={snapshot_count} \\\n",
        "                 --data=/content/drive/MyDrive/datasets/{dataset_name} \\\n",
        "                 --mirror={mirrored} --mirrory={mirroredY} \\\n",
        "                 --gamma={gamma} \\\n",
        "                 --metrics={metric_list} \\\n",
        "                 --resume={resume_from}"
      ],
      "execution_count": null,
      "outputs": [
        {
          "output_type": "stream",
          "name": "stdout",
          "text": [
            "python3: can't open file 'train.py': [Errno 2] No such file or directory\n"
          ]
        }
      ]
    },
    {
      "cell_type": "code",
      "metadata": {
        "id": "9ioiZs5aF66S",
        "outputId": "a75ca427-02e8-4d0b-a78b-68a7ecb3ef25",
        "colab": {
          "base_uri": "https://localhost:8080/"
        }
      },
      "source": [
        "# %cd \"/content/stylegan2-ada\"\n",
        "!python '/content/stylegan2-ada/train.py' --outdir=out --trunc=0.5 --styles=0-8 --rows=8,16,26 --cols=39,44,49 --network=https://nvlabs-fi-cdn.nvidia.com/stylegan2-ada/pretrained/afhqcat.pkl"
      ],
      "execution_count": null,
      "outputs": [
        {
          "output_type": "stream",
          "name": "stdout",
          "text": [
            "[Errno 2] No such file or directory: '/content/drive/MyDrive/colab-sg2-ada/stylegan2-ada'\n",
            "/content\n",
            "usage: train.py [-h] --outdir DIR [--gpus INT] [--snap INT] [--seed INT] [-n]\n",
            "                --data PATH [--res INT] [--mirror BOOL] [--mirrory BOOL]\n",
            "                [--use-raw BOOL] [--metrics LIST] [--metricdata PATH]\n",
            "                [--cfg {auto,11gb-gpu,11gb-gpu-complex,24gb-gpu,24gb-gpu-complex,48gb-gpu,48gb-2gpu,stylegan2,paper256,paper512,paper1024,cifar,cifarbaseline,aydao}]\n",
            "                [--lrate FLOAT] [--ttur BOOL] [--gamma FLOAT] [--nkimg INT]\n",
            "                [--kimg INT] [--topk FLOAT] [--aug {noaug,ada,fixed,adarv}]\n",
            "                [--p FLOAT] [--target TARGET] [--initstrength INITSTRENGTH]\n",
            "                [--augpipe {blit,geom,color,filter,noise,cutout,bg,bgc,bgcf,bgcfn,bgcfnc}]\n",
            "                [--cmethod {nocmethod,bcr,zcr,pagan,wgangp,auxrot,spectralnorm,shallowmap,adropout}]\n",
            "                [--dcap FLOAT] [--resume RESUME] [--freezed INT]\n",
            "train.py: error: the following arguments are required: --data\n"
          ]
        }
      ]
    },
    {
      "cell_type": "markdown",
      "source": [
        "##projector"
      ],
      "metadata": {
        "id": "-8dcsSvi0hnS"
      }
    },
    {
      "cell_type": "code",
      "source": [
        "!python \"/content/stylegan2-ada/projector.py\" --network /content/drive/MyDrive/result/mask2/00001-mask2-mirror-auto1-gamma1-resumecustom/network-snapshot-000000.pkl \\\n",
        "                                              --target /content/drive/MyDrive/result/target/pink/target.png \\\n",
        "                                              --outdir /content/drive/MyDrive/result/target/pink \n"
      ],
      "metadata": {
        "colab": {
          "base_uri": "https://localhost:8080/"
        },
        "id": "bwv2CmZo23Qa",
        "outputId": "9309257e-b87c-4df0-e12d-812df2a77058"
      },
      "execution_count": null,
      "outputs": [
        {
          "output_type": "stream",
          "name": "stdout",
          "text": [
            "Loading networks from \"/content/drive/MyDrive/result/mask2/00001-mask2-mirror-auto1-gamma1-resumecustom/network-snapshot-000000.pkl\"...\n",
            "Setting up TensorFlow plugin \"fused_bias_act.cu\": Compiling... Loading... Done.\n",
            "Setting up TensorFlow plugin \"upfirdn_2d.cu\": Compiling... Loading... Done.\n",
            "Projector: Computing W midpoint and stddev using 10000 samples...\n",
            "Projector: std = 18.6789\n",
            "Projector: Setting up noise inputs...\n",
            "Projector: Building image output graph...\n",
            "Projector: Building loss graph...\n",
            "Downloading https://nvlabs-fi-cdn.nvidia.com/stylegan2-ada/pretrained/metrics/vgg16_zhang_perceptual.pkl ... done\n",
            "Projector: Building noise regularization graph...\n",
            "Projector: Setting up optimizer...\n",
            "Projector: Preparing target images...\n",
            "Projector: Initializing optimization state...\n",
            "100% 1000/1000 [05:24<00:00,  3.08it/s, dist=0.1288, loss=0.13]\n"
          ]
        }
      ]
    },
    {
      "cell_type": "code",
      "source": [
        "!unzip -qq \"/content/drive/MyDrive/result/target/pink/dlatents.npz\""
      ],
      "metadata": {
        "id": "CbM9egOd7B5v"
      },
      "execution_count": null,
      "outputs": []
    },
    {
      "cell_type": "code",
      "source": [
        "!python \"/content/drive/MyDrive/Colab Notebooks/stylegan2-ada/generate.py\" --outdir /content/drive/MyDrive/result/generate/white/new --dlatents /content/drive/MyDrive/result/target/white/dlatents.npz \\\n",
        "                                              --network /content/drive/MyDrive/result/mask2/00001-mask2-mirror-auto1-gamma1-resumecustom/network-snapshot-000000.pkl "
      ],
      "metadata": {
        "colab": {
          "base_uri": "https://localhost:8080/"
        },
        "id": "wIuUTA141uo0",
        "outputId": "4315aefd-60ff-4d2c-eb52-421998ccc60b"
      },
      "execution_count": null,
      "outputs": [
        {
          "output_type": "stream",
          "name": "stdout",
          "text": [
            "Loading networks from \"/content/drive/MyDrive/result/mask2/00001-mask2-mirror-auto1-gamma1-resumecustom/network-snapshot-000000.pkl\"...\n",
            "Generating images from dlatents file \"/content/drive/MyDrive/result/target/white/dlatents.npz\"\n",
            "Setting up TensorFlow plugin \"fused_bias_act.cu\": Loading... Done.\n",
            "Setting up TensorFlow plugin \"upfirdn_2d.cu\": Loading... Done.\n",
            "Saved /content/drive/MyDrive/result/generate/white/new/dlatent00.png\n"
          ]
        }
      ]
    },
    {
      "cell_type": "code",
      "source": [
        "!python \"/content/drive/MyDrive/Colab Notebooks/stylegan2-ada/generate.py\" --outdir /content/drive/MyDrive/test/classTest \\\n",
        "                                                                           --seeds=0,2,3,4,6,7,9,11 \\\n",
        "                                                                           --class=1 \\\n",
        "                                                                           --network /content/drive/MyDrive/result/mask2/00001-mask2-mirror-auto1-gamma1-resumecustom/network-snapshot-000000.pkl "
      ],
      "metadata": {
        "colab": {
          "base_uri": "https://localhost:8080/"
        },
        "id": "UImJgHxzfPcw",
        "outputId": "80adf996-29ee-4eae-852e-9a657a3e8ed7"
      },
      "execution_count": null,
      "outputs": [
        {
          "output_type": "stream",
          "name": "stdout",
          "text": [
            "Loading networks from \"/content/drive/MyDrive/result/mask2/00001-mask2-mirror-auto1-gamma1-resumecustom/network-snapshot-000000.pkl\"...\n",
            "Setting up TensorFlow plugin \"fused_bias_act.cu\": Compiling... Loading... Done.\n",
            "Setting up TensorFlow plugin \"upfirdn_2d.cu\": Compiling... Loading... Done.\n",
            "Traceback (most recent call last):\n",
            "  File \"/content/drive/MyDrive/Colab Notebooks/stylegan2-ada/generate.py\", line 121, in <module>\n",
            "    main()\n",
            "  File \"/content/drive/MyDrive/Colab Notebooks/stylegan2-ada/generate.py\", line 116, in main\n",
            "    generate_images(**vars(args))\n",
            "  File \"/content/drive/MyDrive/Colab Notebooks/stylegan2-ada/generate.py\", line 55, in generate_images\n",
            "    label[:, class_idx] = 1\n",
            "IndexError: index 1 is out of bounds for axis 1 with size 0\n"
          ]
        }
      ]
    },
    {
      "cell_type": "code",
      "source": [
        "!python \"/content/drive/MyDrive/Colab Notebooks/stylegan2-ada/generate.py\" --outdir /content/drive/MyDrive/result/generate/seed \\\n",
        "                                                                           --network /content/drive/MyDrive/result/mask2/00001-mask2-mirror-auto1-gamma1-resumecustom/network-snapshot-000000.pkl "
      ],
      "metadata": {
        "colab": {
          "base_uri": "https://localhost:8080/"
        },
        "id": "9eKpmFtktqSE",
        "outputId": "d02b9d97-ca4c-4310-8a7c-ec9e13f05676"
      },
      "execution_count": null,
      "outputs": [
        {
          "output_type": "stream",
          "name": "stdout",
          "text": [
            "usage: generate.py [-h] --network NETWORK_PKL\n",
            "                   (--seeds SEEDS | --dlatents DLATENTS_NPZ)\n",
            "                   [--trunc TRUNCATION_PSI] [--class CLASS_IDX] --outdir DIR\n",
            "generate.py: error: one of the arguments --seeds --dlatents is required\n"
          ]
        }
      ]
    },
    {
      "cell_type": "code",
      "source": [
        "import numpy as np"
      ],
      "metadata": {
        "id": "d3do-2oiAYcD"
      },
      "execution_count": null,
      "outputs": []
    },
    {
      "cell_type": "code",
      "source": [
        "# print(f'Generating images from dlatents file \"{\"/content/drive/MyDrive/result/target/pink/dlatents.npz\"}\"')\n",
        "dlatents = np.load(\"/content/drive/MyDrive/result/target/pink/dlatents.npz\")['dlatents']\n",
        "# assert dlatents.shape[1:] == (18, 512) # [N, 18, 512]\n",
        "# imgs = Gs.components.synthesis.run(dlatents, output_transform=dict(func=tflib.convert_images_to_uint8, nchw_to_nhwc=True))\n",
        "# for i, img in enumerate(imgs):\n",
        "#     fname = f'{outdir}/dlatent{i:02d}.png'\n",
        "#     print (f'Saved {fname}')\n",
        "#     PIL.Image.fromarray(img, 'RGB').save(fname)\n",
        "\n",
        "print(dlatents.shape[1:])\n"
      ],
      "metadata": {
        "colab": {
          "base_uri": "https://localhost:8080/"
        },
        "id": "BdicwrH1_isW",
        "outputId": "f6cf8298-e8f6-454b-effe-65dd874cd007"
      },
      "execution_count": null,
      "outputs": [
        {
          "output_type": "stream",
          "name": "stdout",
          "text": [
            "(14, 512)\n"
          ]
        }
      ]
    },
    {
      "cell_type": "code",
      "source": [
        "!python \"/content/drive/MyDrive/Colab Notebooks/stylegan2-ada/style_mixing.py\" --network \"/content/drive/MyDrive/result/mask2/00001-mask2-mirror-auto1-gamma1-resumecustom/network-snapshot-000000.pkl\" \\\n",
        "                                                                               --rows=86,104,119 \\\n",
        "                                                                               --cols=12,65,131 \\\n",
        "                                                                               --styles=4-8 \\\n",
        "                                                                               --trunc=0.5 \\\n",
        "                                                                               --out /content/drive/MyDrive/result/style-mixing"
      ],
      "metadata": {
        "colab": {
          "base_uri": "https://localhost:8080/"
        },
        "id": "2KX77afBd9h8",
        "outputId": "0a82ba8e-65ea-4421-8328-fef6dc1bcdbd"
      },
      "execution_count": null,
      "outputs": [
        {
          "output_type": "stream",
          "name": "stdout",
          "text": [
            "Loading networks from \"/content/drive/MyDrive/result/mask2/00001-mask2-mirror-auto1-gamma1-resumecustom/network-snapshot-000000.pkl\"...\n",
            "Setting up TensorFlow plugin \"fused_bias_act.cu\": Loading... Done.\n",
            "Setting up TensorFlow plugin \"upfirdn_2d.cu\": Loading... Done.\n",
            "Generating W vectors...\n",
            "Generating images...\n",
            "Generating style-mixed images...\n",
            "Saving images...\n",
            "Saving image grid...\n"
          ]
        }
      ]
    },
    {
      "cell_type": "code",
      "source": [
        "!python \"/content/drive/MyDrive/Colab Notebooks/stylegan2-ada/style_mixing.py\" --network \"/content/drive/MyDrive/result/mask2/00001-mask2-mirror-auto1-gamma1-resumecustom/network-snapshot-000000.pkl\" \\\n",
        "                                                                               --styles=2-6 \\\n",
        "                                                                               --trunc=0.5 \\\n",
        "                                                                               --out /content/drive/MyDrive/result/style-mixing"
      ],
      "metadata": {
        "colab": {
          "base_uri": "https://localhost:8080/"
        },
        "id": "wSrrIkKNVVxj",
        "outputId": "3623af27-a0b0-4c3a-b506-c645c9c360a1"
      },
      "execution_count": null,
      "outputs": [
        {
          "output_type": "stream",
          "name": "stdout",
          "text": [
            "usage: style_mixing.py [-h] --network NETWORK_PKL --rows ROW_SEEDS --cols\n",
            "                       COL_SEEDS [--styles COL_STYLES]\n",
            "                       [--trunc TRUNCATION_PSI] --outdir DIR\n",
            "style_mixing.py: error: the following arguments are required: --rows, --cols\n"
          ]
        }
      ]
    },
    {
      "cell_type": "code",
      "source": [
        "!python \"/content/drive/MyDrive/Colab Notebooks/stylegan2-ada/style_mixing.py\" --network \"/content/drive/MyDrive/result/mask2/00001-mask2-mirror-auto1-gamma1-resumecustom/network-snapshot-000000.pkl\" \\\n",
        "                                                                                       --styles=0-13 \\\n",
        "                                                                                       --trunc=0 \\\n",
        "                                                                                       --rows=0 \\\n",
        "                                                                                       --cols=125,39,16,73,3,198,100,5,90,131,104,52 \\\n",
        "                                                                                       --outdir /content/drive/MyDrive/result/style-mixing"
      ],
      "metadata": {
        "colab": {
          "base_uri": "https://localhost:8080/"
        },
        "id": "-bOL9HlItjg2",
        "outputId": "5b829757-76ee-462b-8f50-b9a19ff6aa9c"
      },
      "execution_count": null,
      "outputs": [
        {
          "output_type": "stream",
          "name": "stdout",
          "text": [
            "Loading networks from \"/content/drive/MyDrive/result/mask2/00001-mask2-mirror-auto1-gamma1-resumecustom/network-snapshot-000000.pkl\"...\n",
            "Setting up TensorFlow plugin \"fused_bias_act.cu\": Compiling... Loading... Done.\n",
            "Setting up TensorFlow plugin \"upfirdn_2d.cu\": Compiling... Loading... Done.\n",
            "Generating W vectors...\n",
            "Generating images...\n",
            "Generating style-mixed images...\n",
            "Saving images...\n",
            "Saving image grid...\n"
          ]
        }
      ]
    },
    {
      "cell_type": "code",
      "source": [
        "!python \"/content/drive/MyDrive/Colab Notebooks/stylegan2-ada/generate.py\" --network /content/drive/MyDrive/result/mask2/00001-mask2-mirror-auto1-gamma1-resumecustom/network-snapshot-000000.pkl \\\n",
        "                                                                           --outdir /content/drive/MyDrive/result/generate/test \\\n",
        "                                                                           --dlatents /content/drive/MyDrive/result/target/pink/dlatents.npz"
      ],
      "metadata": {
        "colab": {
          "base_uri": "https://localhost:8080/"
        },
        "id": "wzSzQCfxwwW3",
        "outputId": "a87e7cd5-de0a-439f-8791-97de9f6b07cb"
      },
      "execution_count": null,
      "outputs": [
        {
          "output_type": "stream",
          "name": "stdout",
          "text": [
            "Loading networks from \"/content/drive/MyDrive/result/mask2/00001-mask2-mirror-auto1-gamma1-resumecustom/network-snapshot-000000.pkl\"...\n",
            "Generating images from dlatents file \"/content/drive/MyDrive/result/target/pink/dlatents.npz\"\n",
            "Setting up TensorFlow plugin \"fused_bias_act.cu\": Loading... Done.\n",
            "Setting up TensorFlow plugin \"upfirdn_2d.cu\": Loading... Done.\n",
            "Saved /content/drive/MyDrive/result/generate/test/dlatent00.png\n"
          ]
        }
      ]
    }
  ]
}