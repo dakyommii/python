{
  "nbformat": 4,
  "nbformat_minor": 0,
  "metadata": {
    "colab": {
      "name": "image-test.ipynb",
      "provenance": [],
      "mount_file_id": "119QFf71Mx_pN8qYZLeyKJkjD-0B8yM_m",
      "authorship_tag": "ABX9TyPDvrgxp0RV3AfTjUW2mEjy",
      "include_colab_link": true
    },
    "kernelspec": {
      "name": "python3",
      "display_name": "Python 3"
    },
    "language_info": {
      "name": "python"
    }
  },
  "cells": [
    {
      "cell_type": "markdown",
      "metadata": {
        "id": "view-in-github",
        "colab_type": "text"
      },
      "source": [
        "<a href=\"https://colab.research.google.com/github/dakyommii/study/blob/main/test/image_test.ipynb\" target=\"_parent\"><img src=\"https://colab.research.google.com/assets/colab-badge.svg\" alt=\"Open In Colab\"/></a>"
      ]
    },
    {
      "cell_type": "markdown",
      "source": [
        "#image flip\n",
        "\n",
        "\n"
      ],
      "metadata": {
        "id": "Fbiwj3TKYD1s"
      }
    },
    {
      "cell_type": "code",
      "execution_count": 2,
      "metadata": {
        "id": "vHPymtAMXzQn"
      },
      "outputs": [],
      "source": [
        "import cv2\n",
        "import numpy as np\n",
        "import imutils\n",
        "import matplotlib.pyplot as plt\n",
        "from tqdm import tqdm\n",
        "import glob, os"
      ]
    },
    {
      "cell_type": "code",
      "source": [
        "f=open(\"/content/flip.txt\",'w')\n",
        "\n",
        "for i in range(1,208):\n",
        "  f.write(\"/content/drive/MyDrive/설다경/test/tiger-flip-test%d.png\\n\"%i)\n",
        "\n",
        "f.close()"
      ],
      "metadata": {
        "id": "dYiw0dHxYRRz"
      },
      "execution_count": 4,
      "outputs": []
    },
    {
      "cell_type": "code",
      "source": [
        "#img 경로 txt 파일 열기\n",
        "with open('/content/flip.txt', 'r') as f:\n",
        "    train_list = f.readlines()\n",
        " \n",
        "for i, train_path in enumerate(tqdm(train_list)):\n",
        "    img_path = train_path.split(' ')[0]\n",
        "        \n",
        "    img = cv2.imread(img_path.strip(), cv2.IMREAD_COLOR)\n",
        "\n",
        "    IMG_WIDTH, IMG_HEIGHT = 256, 256\n",
        "\n",
        "    def preprocess(img):\n",
        "\n",
        "      flipped = cv2.flip(img, 1)\n",
        "        \n",
        "      return flipped\n",
        "\n",
        "    img = preprocess(img)\n",
        "    #저장\n",
        "    cv2.imwrite(\"/content/drive/MyDrive/설다경/flip/tiger-head-minhwa-flip%d.png\"%(i+1),img)"
      ],
      "metadata": {
        "colab": {
          "base_uri": "https://localhost:8080/"
        },
        "id": "Bt5e8ua0Y7Ts",
        "outputId": "d8b56823-b612-4115-e51a-e358f07b855e"
      },
      "execution_count": 8,
      "outputs": [
        {
          "output_type": "stream",
          "name": "stderr",
          "text": [
            "100%|██████████| 207/207 [00:04<00:00, 47.05it/s]\n"
          ]
        }
      ]
    },
    {
      "cell_type": "markdown",
      "source": [
        "#image rotation"
      ],
      "metadata": {
        "id": "eI8gKOf_khO2"
      }
    },
    {
      "cell_type": "code",
      "source": [
        "f=open(\"/content/rot.txt\",'w')\n",
        "\n",
        "for i in range(1,189):\n",
        "  f.write(\"/content/drive/MyDrive/설다경/test/tiger-rot-test%d.png\\n\"%i)\n",
        "\n",
        "f.close()"
      ],
      "metadata": {
        "id": "saLNga1Qkkr1"
      },
      "execution_count": 9,
      "outputs": []
    },
    {
      "cell_type": "code",
      "source": [
        "#img 경로 txt 파일 열기\n",
        "with open('/content/rot.txt', 'r') as f:\n",
        "    train_list = f.readlines()\n",
        " \n",
        "for i, train_path in enumerate(tqdm(train_list)):\n",
        "    img_path = train_path.split(' ')[0]\n",
        "        \n",
        "    img = cv2.imread(img_path.strip(), cv2.IMREAD_COLOR)\n",
        "\n",
        "    IMG_WIDTH, IMG_HEIGHT = 256, 256\n",
        "\n",
        "    def preprocess(img):\n",
        "\n",
        "      rotated = imutils.rotate(img, 90)\n",
        "        \n",
        "      return rotated\n",
        "\n",
        "    img = preprocess(img)\n",
        "    #저장\n",
        "    cv2.imwrite(\"/content/drive/MyDrive/설다경/rot/tiger-head-minhwa-rot%d.png\"%(i+1),img)"
      ],
      "metadata": {
        "colab": {
          "base_uri": "https://localhost:8080/"
        },
        "id": "G1hUK-gbkr0B",
        "outputId": "a94e12fc-f243-40fc-a7c1-5cc8569709c1"
      },
      "execution_count": 10,
      "outputs": [
        {
          "output_type": "stream",
          "name": "stderr",
          "text": [
            "100%|██████████| 188/188 [01:08<00:00,  2.73it/s]\n"
          ]
        }
      ]
    }
  ]
}