{
  "nbformat": 4,
  "nbformat_minor": 0,
  "metadata": {
    "colab": {
      "name": "masking.ipynb",
      "provenance": [],
      "collapsed_sections": [],
      "include_colab_link": true
    },
    "kernelspec": {
      "name": "python3",
      "display_name": "Python 3"
    },
    "language_info": {
      "name": "python"
    },
    "accelerator": "GPU"
  },
  "cells": [
    {
      "cell_type": "markdown",
      "metadata": {
        "id": "view-in-github",
        "colab_type": "text"
      },
      "source": [
        "<a href=\"https://colab.research.google.com/github/dakyommii/study/blob/main/test/masking.ipynb\" target=\"_parent\"><img src=\"https://colab.research.google.com/assets/colab-badge.svg\" alt=\"Open In Colab\"/></a>"
      ]
    },
    {
      "cell_type": "markdown",
      "source": [
        "#객체 분리 및 객체 결합"
      ],
      "metadata": {
        "id": "RvzgqoMyfRiw"
      }
    },
    {
      "cell_type": "code",
      "source": [
        "from google.colab import drive\n",
        "drive.mount('/content/drive')"
      ],
      "metadata": {
        "colab": {
          "base_uri": "https://localhost:8080/"
        },
        "id": "8pquKuuezt6V",
        "outputId": "4a41e76b-dac8-42a0-a30c-9f4ce32a12d1"
      },
      "execution_count": null,
      "outputs": [
        {
          "output_type": "stream",
          "name": "stdout",
          "text": [
            "Mounted at /content/drive\n"
          ]
        }
      ]
    },
    {
      "cell_type": "markdown",
      "source": [
        "##배경-객체 분리"
      ],
      "metadata": {
        "id": "rvU4hVQ6dXmj"
      }
    },
    {
      "cell_type": "code",
      "source": [
        "import cv2 \n",
        "import numpy as np\n",
        "import matplotlib.pyplot as plt"
      ],
      "metadata": {
        "id": "7mnt0QfV3-Dw"
      },
      "execution_count": null,
      "outputs": []
    },
    {
      "cell_type": "code",
      "source": [
        "from PIL import Image"
      ],
      "metadata": {
        "id": "e0hgIsZhIN4T"
      },
      "execution_count": null,
      "outputs": []
    },
    {
      "cell_type": "code",
      "source": [
        "def handle_image(num):\n",
        "  img = cv2.imread(\"/content/drive/MyDrive/mask/PNY0000%d.PNG\" %(num))  #원본 이미지\n",
        "  mask = cv2.imread(\"/content/drive/MyDrive/mask/PNY0000%d_mask.png\"%(num))  #마스크 이미지\n",
        "  #BGR to RGB\n",
        "  img_rgb = cv2.cvtColor(img,cv2.COLOR_BGR2RGB)\n",
        "  #비트연산\n",
        "  # bit_and = cv2.bitwise_and(img_rgb, mask)  #객체 검출\n",
        "  bit_or = cv2.bitwise_or(img_rgb, mask)  #배경 검출\n",
        "  #배경과 객체 다시 합치기\n",
        "  # combine = cv2.bitwise_xor(bit_and, bit_or)\n",
        "  #RGB to BGR\n",
        "  result_bgr = cv2.cvtColor(bit_or,cv2.COLOR_RGB2BGR)\n",
        "  #저장\n",
        "  cv2.imwrite(\"/content/drive/MyDrive/result/bg/bg%d.png\"%(num),result_bgr)\n"
      ],
      "metadata": {
        "id": "bxLJIe4L5yJW"
      },
      "execution_count": null,
      "outputs": []
    },
    {
      "cell_type": "markdown",
      "source": [
        "##이미지 합치기 test"
      ],
      "metadata": {
        "id": "15jmLTBU9bjj"
      }
    },
    {
      "cell_type": "markdown",
      "source": [
        "###waifu2x model - 이미지 확대\n",
        "\n",
        "\n"
      ],
      "metadata": {
        "id": "eArTRlTHL9og"
      }
    },
    {
      "cell_type": "code",
      "source": [
        "!pip install -q cupy-cuda100\n",
        "!pip install -q futures\n",
        "!pip install -q chainer"
      ],
      "metadata": {
        "colab": {
          "base_uri": "https://localhost:8080/"
        },
        "id": "MdKiVxbTG1-K",
        "outputId": "b58bd2f7-7f6d-4b65-ffcf-6455b71fd45f"
      },
      "execution_count": null,
      "outputs": [
        {
          "output_type": "stream",
          "name": "stdout",
          "text": [
            "\u001b[K     |████████████████████████████████| 58.9 MB 41.1 MB/s \n",
            "\u001b[?25h\u001b[33mWARNING: Discarding https://files.pythonhosted.org/packages/55/db/97c1ca37edab586a1ae03d6892b6633d8eaa23b23ac40c7e5bbc55423c78/futures-3.0.5.tar.gz#sha256=0542525145d5afc984c88f914a0c85c77527f65946617edb5274f72406f981df (from https://pypi.org/simple/futures/). Command errored out with exit status 1: python setup.py egg_info Check the logs for full command output.\u001b[0m\n",
            "\u001b[33mWARNING: Discarding https://files.pythonhosted.org/packages/8d/73/b5fff618482bc06c9711e7cdc0d5d7eb1904d35898f48f2d7f9696b08bef/futures-3.0.4.tar.gz#sha256=19485d83f7bd2151c0aeaf88fbba3ee50dadfb222ffc3b66a344ef4952b782a3 (from https://pypi.org/simple/futures/). Command errored out with exit status 1: python setup.py egg_info Check the logs for full command output.\u001b[0m\n",
            "\u001b[33mWARNING: Discarding https://files.pythonhosted.org/packages/4c/dc/f9473006d4c9c52d4a4e977173fbcbfb1a8ef3a57e32e885edf994fd4a45/futures-3.0.3.tar.gz#sha256=2fe2342bb4fe8b8e217f0d21b5921cbe5408bf966d9f92025e707e881b198bed (from https://pypi.org/simple/futures/). Command errored out with exit status 1: python setup.py egg_info Check the logs for full command output.\u001b[0m\n",
            "\u001b[33mWARNING: Discarding https://files.pythonhosted.org/packages/f8/e7/fc0fcbeb9193ba2d4de00b065e7fd5aecd0679e93ce95a07322b2b1434f4/futures-3.0.2.tar.gz#sha256=dc3fc91508e49e0fd2f8625f0132d16e49c80f882e7e1d565c56b0d5dfbae257 (from https://pypi.org/simple/futures/). Command errored out with exit status 1: python setup.py egg_info Check the logs for full command output.\u001b[0m\n",
            "\u001b[33mWARNING: Discarding https://files.pythonhosted.org/packages/b2/2c/6b6a57379e47031c6f52e625e0e2b8f6702a8d1f61b6e0daee391e82c187/futures-3.0.1.tar.gz#sha256=f78f2ef458639d72a625cf9c7643cf5442bb222ac11c12bcc445c6ad1cd862e2 (from https://pypi.org/simple/futures/). Command errored out with exit status 1: python setup.py egg_info Check the logs for full command output.\u001b[0m\n",
            "\u001b[33mWARNING: Discarding https://files.pythonhosted.org/packages/ea/c9/35287369718fc05059e7a9d0d73c53745fe981010b4185b3858e7d46eff1/futures-3.0.0.tar.gz#sha256=d9cd7bb09aa01f0e4940af64c31fbd7045098b7b4354420d7838ea39e8b86ee3 (from https://pypi.org/simple/futures/). Command errored out with exit status 1: python setup.py egg_info Check the logs for full command output.\u001b[0m\n",
            "\u001b[K     |████████████████████████████████| 1.0 MB 5.4 MB/s \n",
            "\u001b[?25h  Building wheel for chainer (setup.py) ... \u001b[?25l\u001b[?25hdone\n"
          ]
        }
      ]
    },
    {
      "cell_type": "code",
      "source": [
        "!git clone -l -s https://github.com/tsurumeso/waifu2x-chainer.git waifu2x-chainer\n",
        "%cd waifu2x-chainer"
      ],
      "metadata": {
        "colab": {
          "base_uri": "https://localhost:8080/"
        },
        "id": "lS9dOL-QG8Lv",
        "outputId": "a54e83de-ec64-44b6-dc91-c265ef75d325"
      },
      "execution_count": null,
      "outputs": [
        {
          "output_type": "stream",
          "name": "stdout",
          "text": [
            "Cloning into 'waifu2x-chainer'...\n",
            "warning: --local is ignored\n",
            "remote: Enumerating objects: 1477, done.\u001b[K\n",
            "remote: Counting objects: 100% (3/3), done.\u001b[K\n",
            "remote: Compressing objects: 100% (3/3), done.\u001b[K\n",
            "remote: Total 1477 (delta 0), reused 0 (delta 0), pack-reused 1474\u001b[K\n",
            "Receiving objects: 100% (1477/1477), 185.56 MiB | 37.74 MiB/s, done.\n",
            "Resolving deltas: 100% (833/833), done.\n",
            "/content/waifu2x-chainer\n"
          ]
        }
      ]
    },
    {
      "cell_type": "code",
      "source": [
        "%cd /content/waifu2x-chainer\n",
        "%pwd\n",
        "!python waifu2x.py -m scale -i /content/drive/MyDrive/test/seed0003.png -o /content/drive/MyDrive/test/256 -g 0 -s 1.5 -a 0 -n 1\n"
      ],
      "metadata": {
        "colab": {
          "base_uri": "https://localhost:8080/"
        },
        "id": "WLVqe4yaHDew",
        "outputId": "f3bfa28d-9a02-48be-bec0-af61cab0d961"
      },
      "execution_count": null,
      "outputs": [
        {
          "output_type": "stream",
          "name": "stdout",
          "text": [
            "/content/waifu2x-chainer\n",
            "/usr/local/lib/python3.7/dist-packages/chainer/_environment_check.py:75: UserWarning: \n",
            "--------------------------------------------------------------------------------\n",
            "CuPy (cupy-cuda111) version 9.4.0 may not be compatible with this version of Chainer.\n",
            "Please consider installing the supported version by running:\n",
            "  $ pip install 'cupy-cuda111>=7.7.0,<8.0.0'\n",
            "\n",
            "See the following page for more details:\n",
            "  https://docs.cupy.dev/en/latest/install.html\n",
            "--------------------------------------------------------------------------------\n",
            "\n",
            "  requirement=requirement, help=help))\n",
            "/usr/local/lib/python3.7/dist-packages/chainer/_environment_check.py:75: UserWarning: \n",
            "--------------------------------------------------------------------------------\n",
            "CuPy (cupy-cuda100) version 9.6.0 may not be compatible with this version of Chainer.\n",
            "Please consider installing the supported version by running:\n",
            "  $ pip install 'cupy-cuda100>=7.7.0,<8.0.0'\n",
            "\n",
            "See the following page for more details:\n",
            "  https://docs.cupy.dev/en/latest/install.html\n",
            "--------------------------------------------------------------------------------\n",
            "\n",
            "  requirement=requirement, help=help))\n",
            "/usr/local/lib/python3.7/dist-packages/chainer/_environment_check.py:93: UserWarning: \n",
            "--------------------------------------------------------------------------------\n",
            "Multiple installations of CuPy package has been detected.\n",
            "You should select only one package from from ['cupy-cuda120', 'cupy-cuda116', 'cupy-cuda115', 'cupy-cuda114', 'cupy-cuda113', 'cupy-cuda112', 'cupy-cuda111', 'cupy-cuda110', 'cupy-cuda102', 'cupy-cuda101', 'cupy-cuda100', 'cupy-cuda92', 'cupy-cuda91', 'cupy-cuda90', 'cupy-cuda80', 'cupy'].\n",
            "Follow these steps to resolve this issue:\n",
            "  1. `pip list` to list CuPy packages installed\n",
            "  2. `pip uninstall <package name>` to uninstall all CuPy packages\n",
            "  3. `pip install <package name>` to install the proper one\n",
            "--------------------------------------------------------------------------------\n",
            "\n",
            "  '''.format(name=name, pkgs=pkgs))\n",
            "2.0x scaling... OK\n",
            "Resizing... OK\n",
            "Elapsed time: 0.752872 sec\n",
            "Saved as '/content/drive/MyDrive/test/256/seed0003.png'\n"
          ]
        }
      ]
    },
    {
      "cell_type": "markdown",
      "source": [
        "###256*256 image reszie model\n"
      ],
      "metadata": {
        "id": "ImvrfTANMFUa"
      }
    },
    {
      "cell_type": "code",
      "source": [
        "repo_url = 'https://github.com/GotG/object_detection_demo_flow'\n",
        "import os\n",
        "%cd /content\n",
        "repo_dir_path = os.path.abspath(os.path.join('.', os.path.basename(repo_url)))\n",
        "!git clone {repo_url}\n",
        "%cd {repo_dir_path}\n",
        "!git pull"
      ],
      "metadata": {
        "colab": {
          "base_uri": "https://localhost:8080/"
        },
        "id": "SxMpnKUPI6rE",
        "outputId": "54b67415-947f-4385-c77b-cffcff28529e"
      },
      "execution_count": null,
      "outputs": [
        {
          "output_type": "stream",
          "name": "stdout",
          "text": [
            "/content\n",
            "fatal: destination path 'object_detection_demo_flow' already exists and is not an empty directory.\n",
            "/content/object_detection_demo_flow\n",
            "Already up to date.\n"
          ]
        }
      ]
    },
    {
      "cell_type": "code",
      "source": [
        "!python resize_images.py --raw-dir '/content/drive/MyDrive/test/256' --save-dir '/content/drive/MyDrive/test/256out' --ext png --target-size \"(256,256)\""
      ],
      "metadata": {
        "colab": {
          "base_uri": "https://localhost:8080/"
        },
        "id": "PHlKEJZdI9Q7",
        "outputId": "1ecf48f0-707e-4378-8513-df6211c2f0c6"
      },
      "execution_count": null,
      "outputs": [
        {
          "output_type": "stream",
          "name": "stdout",
          "text": [
            "2 files to resize from directory `/content/drive/MyDrive/test/256` to target size:(256, 256)\n",
            "..\n",
            "Done resizing 2 files.\n",
            "Saved to directory: `/content/drive/MyDrive/test/256out`\n"
          ]
        }
      ]
    },
    {
      "cell_type": "markdown",
      "source": [
        "###객체와 민화 배경 결합\n"
      ],
      "metadata": {
        "id": "ZMZR-WyFMX5n"
      }
    },
    {
      "cell_type": "code",
      "source": [
        "import cv2"
      ],
      "metadata": {
        "id": "rKtu5Fs19dWB"
      },
      "execution_count": null,
      "outputs": []
    },
    {
      "cell_type": "code",
      "source": [
        "img = cv2.imread(\"/content/drive/MyDrive/test/256out/1.png\")  #img2\n",
        "bg = cv2.imread(\"/content/drive/MyDrive/test/bg.png\") #img1\n",
        "\n",
        "rows, cols, channels = img.shape\n",
        "roi = bg[0:rows,0:cols]\n",
        "\n",
        "img2gray = cv2.cvtColor(img, cv2.COLOR_BGR2GRAY)\n",
        "ret,mask = cv2.threshold(img2gray,50,255,cv2.THRESH_BINARY)\n",
        "mask_inv = cv2.bitwise_not(mask)\n",
        "\n",
        "bg_bg = cv2.bitwise_and(roi,roi,mask=mask_inv)\n",
        "\n",
        "img_fg = cv2.bitwise_and(img,img,mask=mask)\n",
        "\n",
        "dst = cv2.add(bg_bg,img_fg)\n",
        "bg[0:rows,0:cols] = dst\n",
        "\n",
        "plt.imshow(bg)\n",
        "plt.imshow(mask)\n"
      ],
      "metadata": {
        "colab": {
          "base_uri": "https://localhost:8080/",
          "height": 286
        },
        "id": "Csa7f715CHr7",
        "outputId": "ed5ba070-f4f6-485c-acb0-ea0fd76f12d8"
      },
      "execution_count": null,
      "outputs": [
        {
          "output_type": "execute_result",
          "data": {
            "text/plain": [
              "<matplotlib.image.AxesImage at 0x7f06e7feb050>"
            ]
          },
          "metadata": {},
          "execution_count": 39
        },
        {
          "output_type": "display_data",
          "data": {
            "image/png": "[encoded data removed]",
            "text/plain": [
              "<Figure size 432x288 with 1 Axes>"
            ]
          },
          "metadata": {
            "needs_background": "light"
          }
        }
      ]
    },
    {
      "cell_type": "markdown",
      "source": [
        "###image save\n",
        "\n"
      ],
      "metadata": {
        "id": "-i01OdPcMbhg"
      }
    },
    {
      "cell_type": "code",
      "source": [
        "cv2.imwrite(\"/content/drive/MyDrive/test/result.png\",bg)"
      ],
      "metadata": {
        "colab": {
          "base_uri": "https://localhost:8080/"
        },
        "id": "mRwh24XQFDoW",
        "outputId": "02b14ffa-dc1e-44e3-9c2e-d65f8bbe3ed3"
      },
      "execution_count": null,
      "outputs": [
        {
          "output_type": "execute_result",
          "data": {
            "text/plain": [
              "True"
            ]
          },
          "metadata": {},
          "execution_count": 38
        }
      ]
    }
  ]
}